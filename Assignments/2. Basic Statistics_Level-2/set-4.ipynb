{
 "cells": [
  {
   "cell_type": "markdown",
   "id": "f83059b4",
   "metadata": {
    "papermill": {
     "duration": 0.003748,
     "end_time": "2023-03-27T08:29:29.550967",
     "exception": false,
     "start_time": "2023-03-27T08:29:29.547219",
     "status": "completed"
    },
    "tags": []
   },
   "source": [
    "## Set-4"
   ]
  },
  {
   "cell_type": "code",
   "execution_count": 1,
   "id": "892e731f",
   "metadata": {
    "_cell_guid": "b1076dfc-b9ad-4769-8c92-a6c4dae69d19",
    "_uuid": "8f2839f25d086af736a60e9eeb907d3b93b6e0e5",
    "execution": {
     "iopub.execute_input": "2023-03-27T08:29:29.558898Z",
     "iopub.status.busy": "2023-03-27T08:29:29.558474Z",
     "iopub.status.idle": "2023-03-27T08:29:32.302726Z",
     "shell.execute_reply": "2023-03-27T08:29:32.301321Z"
    },
    "papermill": {
     "duration": 2.751738,
     "end_time": "2023-03-27T08:29:32.305751",
     "exception": false,
     "start_time": "2023-03-27T08:29:29.554013",
     "status": "completed"
    },
    "tags": []
   },
   "outputs": [],
   "source": [
    "import pandas as pd\n",
    "import numpy as np\n",
    "import matplotlib.pyplot as plt\n",
    "import scipy.stats as stats\n",
    "import seaborn as sns\n",
    "import statsmodels.api as smf\n",
    "import warnings\n",
    "warnings.filterwarnings('ignore')"
   ]
  },
  {
   "cell_type": "markdown",
   "id": "c3567829",
   "metadata": {
    "papermill": {
     "duration": 0.002396,
     "end_time": "2023-03-27T08:29:32.311053",
     "exception": false,
     "start_time": "2023-03-27T08:29:32.308657",
     "status": "completed"
    },
    "tags": []
   },
   "source": [
    "#### 3. Auditors at a small community bank randomly sample 100 withdrawal transactions made during the week at an ATM machine located near the bank’s main branch. Over the past 2 years, the average withdrawal amount has been $50 with a standard deviation of $40. Since audit investigations are typically expensive, the auditors decide to not initiate further investigations if the mean transaction amount of the sample is between $45 and $55. What is the probability that in any given week, there will be an investigation?"
   ]
  },
  {
   "cell_type": "code",
   "execution_count": 2,
   "id": "72bace6b",
   "metadata": {
    "execution": {
     "iopub.execute_input": "2023-03-27T08:29:32.318295Z",
     "iopub.status.busy": "2023-03-27T08:29:32.317772Z",
     "iopub.status.idle": "2023-03-27T08:29:32.330875Z",
     "shell.execute_reply": "2023-03-27T08:29:32.329533Z"
    },
    "papermill": {
     "duration": 0.020837,
     "end_time": "2023-03-27T08:29:32.334511",
     "exception": false,
     "start_time": "2023-03-27T08:29:32.313674",
     "status": "completed"
    },
    "tags": []
   },
   "outputs": [
    {
     "name": "stdout",
     "output_type": "stream",
     "text": [
      "The probability that in any given week, there will be an investigation is 21.4 %\n"
     ]
    }
   ],
   "source": [
    "mean = 50\n",
    "std = 40\n",
    "n = 100\n",
    "d_f = 100 - 1 #degree of freedom\n",
    "#the probability that there will be an investigation,\n",
    "#if the mean transactions amount increases more than 55 USD or less than 45 USD\n",
    "# no investigation if the mean transactions amount remains between 45 to 55 USD\n",
    "\n",
    "# we will go for t-distribution as population standard deviation is unknown\n",
    "t_forty_five = (45-50)/(40/np.sqrt(100))\n",
    "\n",
    "t_fifty_five = (55-50)/(40/np.sqrt(100))\n",
    "\n",
    "forty_five = stats.t.cdf(t_forty_five, df = d_f)\n",
    "\n",
    "fifty_five = stats.t.cdf(t_fifty_five, d_f)\n",
    "\n",
    "prob = fifty_five - forty_five\n",
    "\n",
    "np.round(stats.t.interval(alpha = prob, df = d_f, loc = mean, scale = std/np.sqrt(n)),)\n",
    "\n",
    "print('The probability that in any given week, there will be an investigation is',np.round((1-prob)*100,1),'%')"
   ]
  },
  {
   "cell_type": "markdown",
   "id": "dca3236e",
   "metadata": {
    "papermill": {
     "duration": 0.002543,
     "end_time": "2023-03-27T08:29:32.340996",
     "exception": false,
     "start_time": "2023-03-27T08:29:32.338453",
     "status": "completed"
    },
    "tags": []
   },
   "source": [
    "#### 4. The auditors from the above example would like to maintain the probability of investigation to 5%. Which of the following represents the minimum number transactions that they should sample if they do not want to change the thresholds of 45 and 55? Assume that the sample statistics remain unchanged.\n"
   ]
  },
  {
   "cell_type": "code",
   "execution_count": 3,
   "id": "b075228b",
   "metadata": {
    "execution": {
     "iopub.execute_input": "2023-03-27T08:29:32.348696Z",
     "iopub.status.busy": "2023-03-27T08:29:32.348237Z",
     "iopub.status.idle": "2023-03-27T08:29:32.362565Z",
     "shell.execute_reply": "2023-03-27T08:29:32.361510Z"
    },
    "papermill": {
     "duration": 0.022878,
     "end_time": "2023-03-27T08:29:32.366792",
     "exception": false,
     "start_time": "2023-03-27T08:29:32.343914",
     "status": "completed"
    },
    "tags": []
   },
   "outputs": [
    {
     "name": "stdout",
     "output_type": "stream",
     "text": [
      "The Auditors would like to maintain the probability of investigation to 5%, they should sample 248.0 transactions if they do not want to change the thresholds of 45 to 55\n",
      "248.3776 247.3776\n"
     ]
    },
    {
     "data": {
      "text/plain": [
       "array([45., 55.])"
      ]
     },
     "execution_count": 3,
     "metadata": {},
     "output_type": "execute_result"
    }
   ],
   "source": [
    "x_bar = 45\n",
    "s_std = 40\n",
    "mew = 50\n",
    "\n",
    "t = np.round(stats.t.ppf(0.025, df = 249),2)\n",
    "t\n",
    "\n",
    "# t_value = (x_bar - mew)/(sample_std/n**0.5)\n",
    "# t = 45-50 or z = 55-50 z = +/- 5\n",
    "\n",
    "# t = 5/(40/n**0.5)\n",
    "# n = (sample_standard_deviation*tscore)/(sample_mean=population_mean)\n",
    "n = ((s_std*abs(t)) / (5))**2\n",
    "\n",
    "print('The Auditors would like to maintain the probability of investigation to 5%, they should sample',np.round(n,),'transactions if they do not want to change the thresholds of 45 to 55')\n",
    "\n",
    "df= n-1\n",
    "print(n, df)\n",
    "\n",
    "np.round(stats.t.interval(alpha = 0.95, df = df, loc = mew, scale = s_std/np.sqrt(n)),)"
   ]
  },
  {
   "cell_type": "code",
   "execution_count": 4,
   "id": "ec41f373",
   "metadata": {
    "execution": {
     "iopub.execute_input": "2023-03-27T08:29:32.375475Z",
     "iopub.status.busy": "2023-03-27T08:29:32.374999Z",
     "iopub.status.idle": "2023-03-27T08:29:32.386134Z",
     "shell.execute_reply": "2023-03-27T08:29:32.384837Z"
    },
    "papermill": {
     "duration": 0.019209,
     "end_time": "2023-03-27T08:29:32.389365",
     "exception": false,
     "start_time": "2023-03-27T08:29:32.370156",
     "status": "completed"
    },
    "tags": []
   },
   "outputs": [
    {
     "name": "stdout",
     "output_type": "stream",
     "text": [
      "Sample size 10: Mean = 711.08, Standard Deviation = 122.68\n",
      "Sample size 100: Mean = 733.21, Standard Deviation = 115.53\n",
      "Sample size 1000: Mean = 723.34, Standard Deviation = 117.75\n"
     ]
    }
   ],
   "source": [
    "import numpy as np\n",
    "\n",
    "# Define population parameters\n",
    "mu = 720\n",
    "sigma = 120\n",
    "lower_bound = 650\n",
    "upper_bound = 790\n",
    "\n",
    "# Generate random sample of size 10\n",
    "sample_10 = np.random.normal(mu, sigma, 10)\n",
    "\n",
    "# Calculate sample mean and standard deviation\n",
    "sample_mean_10 = np.mean(sample_10)\n",
    "sample_std_10 = np.std(sample_10, ddof=1)\n",
    "\n",
    "# Generate random sample of size 100\n",
    "sample_100 = np.random.normal(mu, sigma, 100)\n",
    "\n",
    "# Calculate sample mean and standard deviation\n",
    "sample_mean_100 = np.mean(sample_100)\n",
    "sample_std_100 = np.std(sample_100, ddof=1)\n",
    "\n",
    "# Generate random sample of size 1000\n",
    "sample_1000 = np.random.normal(mu, sigma, 1000)\n",
    "\n",
    "# Calculate sample mean and standard deviation\n",
    "sample_mean_1000 = np.mean(sample_1000)\n",
    "sample_std_1000 = np.std(sample_1000, ddof=1)\n",
    "\n",
    "print(\"Sample size 10: Mean = {:.2f}, Standard Deviation = {:.2f}\".format(sample_mean_10, sample_std_10))\n",
    "print(\"Sample size 100: Mean = {:.2f}, Standard Deviation = {:.2f}\".format(sample_mean_100, sample_std_100))\n",
    "print(\"Sample size 1000: Mean = {:.2f}, Standard Deviation = {:.2f}\".format(sample_mean_1000, sample_std_1000))\n"
   ]
  }
 ],
 "metadata": {
  "kernelspec": {
   "display_name": "Python 3",
   "language": "python",
   "name": "python3"
  },
  "language_info": {
   "codemirror_mode": {
    "name": "ipython",
    "version": 3
   },
   "file_extension": ".py",
   "mimetype": "text/x-python",
   "name": "python",
   "nbconvert_exporter": "python",
   "pygments_lexer": "ipython3",
   "version": "3.7.12"
  },
  "papermill": {
   "default_parameters": {},
   "duration": 13.905326,
   "end_time": "2023-03-27T08:29:33.216726",
   "environment_variables": {},
   "exception": null,
   "input_path": "__notebook__.ipynb",
   "output_path": "__notebook__.ipynb",
   "parameters": {},
   "start_time": "2023-03-27T08:29:19.311400",
   "version": "2.4.0"
  }
 },
 "nbformat": 4,
 "nbformat_minor": 5
}
