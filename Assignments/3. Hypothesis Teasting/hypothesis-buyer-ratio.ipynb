{
 "cells": [
  {
   "cell_type": "code",
   "execution_count": 1,
   "id": "59e10c5d",
   "metadata": {
    "_cell_guid": "b1076dfc-b9ad-4769-8c92-a6c4dae69d19",
    "_uuid": "8f2839f25d086af736a60e9eeb907d3b93b6e0e5",
    "execution": {
     "iopub.execute_input": "2023-04-06T08:02:31.021217Z",
     "iopub.status.busy": "2023-04-06T08:02:31.020222Z",
     "iopub.status.idle": "2023-04-06T08:02:31.926594Z",
     "shell.execute_reply": "2023-04-06T08:02:31.924389Z"
    },
    "papermill": {
     "duration": 0.916288,
     "end_time": "2023-04-06T08:02:31.930812",
     "exception": false,
     "start_time": "2023-04-06T08:02:31.014524",
     "status": "completed"
    },
    "tags": []
   },
   "outputs": [],
   "source": [
    "import pandas as pd\n",
    "import numpy as np\n",
    "from scipy import stats\n",
    "from scipy.stats import norm\n",
    "from scipy.stats import chi2_contingency"
   ]
  },
  {
   "cell_type": "code",
   "execution_count": 2,
   "id": "4dae875c",
   "metadata": {
    "execution": {
     "iopub.execute_input": "2023-04-06T08:02:31.939658Z",
     "iopub.status.busy": "2023-04-06T08:02:31.938863Z",
     "iopub.status.idle": "2023-04-06T08:02:31.981142Z",
     "shell.execute_reply": "2023-04-06T08:02:31.979832Z"
    },
    "papermill": {
     "duration": 0.049754,
     "end_time": "2023-04-06T08:02:31.983740",
     "exception": false,
     "start_time": "2023-04-06T08:02:31.933986",
     "status": "completed"
    },
    "tags": []
   },
   "outputs": [
    {
     "data": {
      "text/html": [
       "<div>\n",
       "<style scoped>\n",
       "    .dataframe tbody tr th:only-of-type {\n",
       "        vertical-align: middle;\n",
       "    }\n",
       "\n",
       "    .dataframe tbody tr th {\n",
       "        vertical-align: top;\n",
       "    }\n",
       "\n",
       "    .dataframe thead th {\n",
       "        text-align: right;\n",
       "    }\n",
       "</style>\n",
       "<table border=\"1\" class=\"dataframe\">\n",
       "  <thead>\n",
       "    <tr style=\"text-align: right;\">\n",
       "      <th></th>\n",
       "      <th>Observed Values</th>\n",
       "      <th>East</th>\n",
       "      <th>West</th>\n",
       "      <th>North</th>\n",
       "      <th>South</th>\n",
       "    </tr>\n",
       "  </thead>\n",
       "  <tbody>\n",
       "    <tr>\n",
       "      <th>0</th>\n",
       "      <td>Males</td>\n",
       "      <td>50</td>\n",
       "      <td>142</td>\n",
       "      <td>131</td>\n",
       "      <td>70</td>\n",
       "    </tr>\n",
       "    <tr>\n",
       "      <th>1</th>\n",
       "      <td>Females</td>\n",
       "      <td>435</td>\n",
       "      <td>1523</td>\n",
       "      <td>1356</td>\n",
       "      <td>750</td>\n",
       "    </tr>\n",
       "  </tbody>\n",
       "</table>\n",
       "</div>"
      ],
      "text/plain": [
       "  Observed Values  East  West  North  South\n",
       "0           Males    50   142    131     70\n",
       "1         Females   435  1523   1356    750"
      ]
     },
     "execution_count": 2,
     "metadata": {},
     "output_type": "execute_result"
    }
   ],
   "source": [
    "df = pd.read_csv(\"https://excelr.s3.nl-ams.scw.cloud/DataScience-Assignments/Assignments/hypothesis%20Testing/BuyerRatio.csv\")\n",
    "df"
   ]
  },
  {
   "cell_type": "code",
   "execution_count": 3,
   "id": "82dd52ac",
   "metadata": {
    "execution": {
     "iopub.execute_input": "2023-04-06T08:02:31.992335Z",
     "iopub.status.busy": "2023-04-06T08:02:31.991270Z",
     "iopub.status.idle": "2023-04-06T08:02:32.027985Z",
     "shell.execute_reply": "2023-04-06T08:02:32.026599Z"
    },
    "papermill": {
     "duration": 0.044471,
     "end_time": "2023-04-06T08:02:32.031322",
     "exception": false,
     "start_time": "2023-04-06T08:02:31.986851",
     "status": "completed"
    },
    "tags": []
   },
   "outputs": [
    {
     "data": {
      "text/html": [
       "<div>\n",
       "<style scoped>\n",
       "    .dataframe tbody tr th:only-of-type {\n",
       "        vertical-align: middle;\n",
       "    }\n",
       "\n",
       "    .dataframe tbody tr th {\n",
       "        vertical-align: top;\n",
       "    }\n",
       "\n",
       "    .dataframe thead th {\n",
       "        text-align: right;\n",
       "    }\n",
       "</style>\n",
       "<table border=\"1\" class=\"dataframe\">\n",
       "  <thead>\n",
       "    <tr style=\"text-align: right;\">\n",
       "      <th></th>\n",
       "      <th>East</th>\n",
       "      <th>West</th>\n",
       "      <th>North</th>\n",
       "      <th>South</th>\n",
       "    </tr>\n",
       "  </thead>\n",
       "  <tbody>\n",
       "    <tr>\n",
       "      <th>count</th>\n",
       "      <td>2.000000</td>\n",
       "      <td>2.000000</td>\n",
       "      <td>2.000000</td>\n",
       "      <td>2.000000</td>\n",
       "    </tr>\n",
       "    <tr>\n",
       "      <th>mean</th>\n",
       "      <td>242.500000</td>\n",
       "      <td>832.500000</td>\n",
       "      <td>743.500000</td>\n",
       "      <td>410.000000</td>\n",
       "    </tr>\n",
       "    <tr>\n",
       "      <th>std</th>\n",
       "      <td>272.236111</td>\n",
       "      <td>976.514465</td>\n",
       "      <td>866.205807</td>\n",
       "      <td>480.832611</td>\n",
       "    </tr>\n",
       "    <tr>\n",
       "      <th>min</th>\n",
       "      <td>50.000000</td>\n",
       "      <td>142.000000</td>\n",
       "      <td>131.000000</td>\n",
       "      <td>70.000000</td>\n",
       "    </tr>\n",
       "    <tr>\n",
       "      <th>25%</th>\n",
       "      <td>146.250000</td>\n",
       "      <td>487.250000</td>\n",
       "      <td>437.250000</td>\n",
       "      <td>240.000000</td>\n",
       "    </tr>\n",
       "    <tr>\n",
       "      <th>50%</th>\n",
       "      <td>242.500000</td>\n",
       "      <td>832.500000</td>\n",
       "      <td>743.500000</td>\n",
       "      <td>410.000000</td>\n",
       "    </tr>\n",
       "    <tr>\n",
       "      <th>75%</th>\n",
       "      <td>338.750000</td>\n",
       "      <td>1177.750000</td>\n",
       "      <td>1049.750000</td>\n",
       "      <td>580.000000</td>\n",
       "    </tr>\n",
       "    <tr>\n",
       "      <th>max</th>\n",
       "      <td>435.000000</td>\n",
       "      <td>1523.000000</td>\n",
       "      <td>1356.000000</td>\n",
       "      <td>750.000000</td>\n",
       "    </tr>\n",
       "  </tbody>\n",
       "</table>\n",
       "</div>"
      ],
      "text/plain": [
       "             East         West        North       South\n",
       "count    2.000000     2.000000     2.000000    2.000000\n",
       "mean   242.500000   832.500000   743.500000  410.000000\n",
       "std    272.236111   976.514465   866.205807  480.832611\n",
       "min     50.000000   142.000000   131.000000   70.000000\n",
       "25%    146.250000   487.250000   437.250000  240.000000\n",
       "50%    242.500000   832.500000   743.500000  410.000000\n",
       "75%    338.750000  1177.750000  1049.750000  580.000000\n",
       "max    435.000000  1523.000000  1356.000000  750.000000"
      ]
     },
     "execution_count": 3,
     "metadata": {},
     "output_type": "execute_result"
    }
   ],
   "source": [
    "df.describe()"
   ]
  },
  {
   "cell_type": "code",
   "execution_count": 4,
   "id": "82989e44",
   "metadata": {
    "execution": {
     "iopub.execute_input": "2023-04-06T08:02:32.040905Z",
     "iopub.status.busy": "2023-04-06T08:02:32.039725Z",
     "iopub.status.idle": "2023-04-06T08:02:32.048524Z",
     "shell.execute_reply": "2023-04-06T08:02:32.047570Z"
    },
    "papermill": {
     "duration": 0.016105,
     "end_time": "2023-04-06T08:02:32.050895",
     "exception": false,
     "start_time": "2023-04-06T08:02:32.034790",
     "status": "completed"
    },
    "tags": []
   },
   "outputs": [
    {
     "name": "stdout",
     "output_type": "stream",
     "text": [
      "East Mean =  242.5\n",
      "West Mean =  832.5\n",
      "North Mean =  743.5\n",
      "South Mean =  410.0\n"
     ]
    }
   ],
   "source": [
    "east = df[\"East\"].mean()\n",
    "west = df[\"West\"].mean()\n",
    "north = df[\"North\"].mean()\n",
    "south = df[\"South\"].mean()\n",
    "\n",
    "print(\"East Mean = \", east )\n",
    "print(\"West Mean = \", west )\n",
    "print(\"North Mean = \", north )\n",
    "print(\"South Mean = \", south )"
   ]
  },
  {
   "cell_type": "markdown",
   "id": "fa27b117",
   "metadata": {
    "papermill": {
     "duration": 0.003006,
     "end_time": "2023-04-06T08:02:32.057261",
     "exception": false,
     "start_time": "2023-04-06T08:02:32.054255",
     "status": "completed"
    },
    "tags": []
   },
   "source": [
    "Note that the choice of alpha depends on the level of significance desired for the test. \n",
    "Common values for alpha are **0.05** and **0.01**."
   ]
  },
  {
   "cell_type": "code",
   "execution_count": 5,
   "id": "9e5aa66f",
   "metadata": {
    "execution": {
     "iopub.execute_input": "2023-04-06T08:02:32.066384Z",
     "iopub.status.busy": "2023-04-06T08:02:32.065827Z",
     "iopub.status.idle": "2023-04-06T08:02:32.075382Z",
     "shell.execute_reply": "2023-04-06T08:02:32.074091Z"
    },
    "papermill": {
     "duration": 0.018039,
     "end_time": "2023-04-06T08:02:32.078554",
     "exception": false,
     "start_time": "2023-04-06T08:02:32.060515",
     "status": "completed"
    },
    "tags": []
   },
   "outputs": [
    {
     "data": {
      "text/plain": [
       "[[50, 142, 131, 70], [550, 351, 480, 350]]"
      ]
     },
     "execution_count": 5,
     "metadata": {},
     "output_type": "execute_result"
    }
   ],
   "source": [
    "alpha = 0.05\n",
    "Male = [50,142,131,70]\n",
    "Female = [550,351,480,350]\n",
    "sales = [Male, Female]\n",
    "sales"
   ]
  },
  {
   "cell_type": "code",
   "execution_count": 8,
   "id": "58e55494",
   "metadata": {
    "execution": {
     "iopub.execute_input": "2023-04-06T08:02:32.087550Z",
     "iopub.status.busy": "2023-04-06T08:02:32.086763Z",
     "iopub.status.idle": "2023-04-06T08:02:32.096422Z",
     "shell.execute_reply": "2023-04-06T08:02:32.094950Z"
    },
    "papermill": {
     "duration": 0.017202,
     "end_time": "2023-04-06T08:02:32.099182",
     "exception": false,
     "start_time": "2023-04-06T08:02:32.081980",
     "status": "completed"
    },
    "tags": []
   },
   "outputs": [
    {
     "name": "stdout",
     "output_type": "stream",
     "text": [
      "(1.5959455386610577, 0.6603094907091882, 3, array([[  42.76531299,  442.23468701],\n",
      "       [ 146.81287862, 1518.18712138],\n",
      "       [ 131.11756787, 1355.88243213],\n",
      "       [  72.30424052,  747.69575948]]))\n",
      "Test t=1.595946 p-value=0.660309\n",
      "we accept Null Hypothesis\n"
     ]
    }
   ],
   "source": [
    "res = stats.chi2_contingency([df[\"East\"], df[\"West\"], df[\"North\"], df[\"South\"]])\n",
    "print(res)\n",
    "print('Test t=%f p-value=%f' % (res[0], res[1]))\n",
    "\n",
    "p_value = res[1]\n",
    "if p_value<alpha:\n",
    "    print(\"we reject Null Hypothesis\")\n",
    "else:\n",
    "    print(\"we accept Null Hypothesis\")\n",
    "    \n"
   ]
  }
 ],
 "metadata": {
  "kernelspec": {
   "display_name": "Python 3 (ipykernel)",
   "language": "python",
   "name": "python3"
  },
  "language_info": {
   "codemirror_mode": {
    "name": "ipython",
    "version": 3
   },
   "file_extension": ".py",
   "mimetype": "text/x-python",
   "name": "python",
   "nbconvert_exporter": "python",
   "pygments_lexer": "ipython3",
   "version": "3.9.13"
  },
  "papermill": {
   "default_parameters": {},
   "duration": 12.787049,
   "end_time": "2023-04-06T08:02:32.826091",
   "environment_variables": {},
   "exception": null,
   "input_path": "__notebook__.ipynb",
   "output_path": "__notebook__.ipynb",
   "parameters": {},
   "start_time": "2023-04-06T08:02:20.039042",
   "version": "2.4.0"
  }
 },
 "nbformat": 4,
 "nbformat_minor": 5
}
