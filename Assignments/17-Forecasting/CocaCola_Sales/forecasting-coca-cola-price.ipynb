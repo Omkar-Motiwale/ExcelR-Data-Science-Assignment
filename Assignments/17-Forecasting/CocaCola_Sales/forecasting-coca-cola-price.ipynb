{
 "cells": [
  {
   "cell_type": "code",
   "execution_count": 2,
   "metadata": {
    "ExecuteTime": {
     "end_time": "2021-08-04T15:07:36.451321Z",
     "start_time": "2021-08-04T15:07:36.435365Z"
    },
    "execution": {
     "iopub.execute_input": "2023-05-21T13:03:33.556278Z",
     "iopub.status.busy": "2023-05-21T13:03:33.555227Z",
     "iopub.status.idle": "2023-05-21T13:03:33.561594Z",
     "shell.execute_reply": "2023-05-21T13:03:33.560554Z",
     "shell.execute_reply.started": "2023-05-21T13:03:33.556242Z"
    }
   },
   "outputs": [],
   "source": [
    "import numpy as np\n",
    "import pandas as pd\n",
    "import matplotlib.pyplot as plt\n",
    "plt.rcParams['figure.figsize'] = (16, 9)\n",
    "import seaborn as sns\n",
    "import statsmodels.formula.api as smf\n",
    "from math import sqrt\n",
    "from sklearn.metrics import mean_squared_error\n"
   ]
  },
  {
   "cell_type": "code",
   "execution_count": 5,
   "metadata": {
    "ExecuteTime": {
     "end_time": "2021-08-04T15:07:37.140352Z",
     "start_time": "2021-08-04T15:07:37.052567Z"
    },
    "execution": {
     "iopub.execute_input": "2023-05-21T13:03:33.563944Z",
     "iopub.status.busy": "2023-05-21T13:03:33.563314Z",
     "iopub.status.idle": "2023-05-21T13:03:33.985568Z",
     "shell.execute_reply": "2023-05-21T13:03:33.984415Z",
     "shell.execute_reply.started": "2023-05-21T13:03:33.563897Z"
    }
   },
   "outputs": [
    {
     "data": {
      "text/html": [
       "<div>\n",
       "<style scoped>\n",
       "    .dataframe tbody tr th:only-of-type {\n",
       "        vertical-align: middle;\n",
       "    }\n",
       "\n",
       "    .dataframe tbody tr th {\n",
       "        vertical-align: top;\n",
       "    }\n",
       "\n",
       "    .dataframe thead th {\n",
       "        text-align: right;\n",
       "    }\n",
       "</style>\n",
       "<table border=\"1\" class=\"dataframe\">\n",
       "  <thead>\n",
       "    <tr style=\"text-align: right;\">\n",
       "      <th></th>\n",
       "      <th>Quarter</th>\n",
       "      <th>Sales</th>\n",
       "    </tr>\n",
       "  </thead>\n",
       "  <tbody>\n",
       "    <tr>\n",
       "      <th>0</th>\n",
       "      <td>Q1_86</td>\n",
       "      <td>1734.827000</td>\n",
       "    </tr>\n",
       "    <tr>\n",
       "      <th>1</th>\n",
       "      <td>Q2_86</td>\n",
       "      <td>2244.960999</td>\n",
       "    </tr>\n",
       "    <tr>\n",
       "      <th>2</th>\n",
       "      <td>Q3_86</td>\n",
       "      <td>2533.804993</td>\n",
       "    </tr>\n",
       "    <tr>\n",
       "      <th>3</th>\n",
       "      <td>Q4_86</td>\n",
       "      <td>2154.962997</td>\n",
       "    </tr>\n",
       "    <tr>\n",
       "      <th>4</th>\n",
       "      <td>Q1_87</td>\n",
       "      <td>1547.818996</td>\n",
       "    </tr>\n",
       "    <tr>\n",
       "      <th>5</th>\n",
       "      <td>Q2_87</td>\n",
       "      <td>2104.411995</td>\n",
       "    </tr>\n",
       "    <tr>\n",
       "      <th>6</th>\n",
       "      <td>Q3_87</td>\n",
       "      <td>2014.362999</td>\n",
       "    </tr>\n",
       "    <tr>\n",
       "      <th>7</th>\n",
       "      <td>Q4_87</td>\n",
       "      <td>1991.746998</td>\n",
       "    </tr>\n",
       "    <tr>\n",
       "      <th>8</th>\n",
       "      <td>Q1_88</td>\n",
       "      <td>1869.049999</td>\n",
       "    </tr>\n",
       "    <tr>\n",
       "      <th>9</th>\n",
       "      <td>Q2_88</td>\n",
       "      <td>2313.631996</td>\n",
       "    </tr>\n",
       "  </tbody>\n",
       "</table>\n",
       "</div>"
      ],
      "text/plain": [
       "  Quarter        Sales\n",
       "0   Q1_86  1734.827000\n",
       "1   Q2_86  2244.960999\n",
       "2   Q3_86  2533.804993\n",
       "3   Q4_86  2154.962997\n",
       "4   Q1_87  1547.818996\n",
       "5   Q2_87  2104.411995\n",
       "6   Q3_87  2014.362999\n",
       "7   Q4_87  1991.746998\n",
       "8   Q1_88  1869.049999\n",
       "9   Q2_88  2313.631996"
      ]
     },
     "execution_count": 5,
     "metadata": {},
     "output_type": "execute_result"
    }
   ],
   "source": [
    "data=pd.read_excel('https://excelr.s3.nl-ams.scw.cloud/DataScience-Assignments/Assignments/Forecasting/CocaCola_Sales_Rawdata.xlsx', sheet_name='Sheet1')\n",
    "data.head(10)"
   ]
  },
  {
   "cell_type": "code",
   "execution_count": 6,
   "metadata": {
    "ExecuteTime": {
     "end_time": "2021-08-04T15:07:37.612604Z",
     "start_time": "2021-08-04T15:07:37.604626Z"
    },
    "execution": {
     "iopub.execute_input": "2023-05-21T13:03:33.987795Z",
     "iopub.status.busy": "2023-05-21T13:03:33.987189Z",
     "iopub.status.idle": "2023-05-21T13:03:33.995217Z",
     "shell.execute_reply": "2023-05-21T13:03:33.994066Z",
     "shell.execute_reply.started": "2023-05-21T13:03:33.987762Z"
    }
   },
   "outputs": [
    {
     "data": {
      "text/plain": [
       "(42, 2)"
      ]
     },
     "execution_count": 6,
     "metadata": {},
     "output_type": "execute_result"
    }
   ],
   "source": [
    "data.shape"
   ]
  },
  {
   "cell_type": "code",
   "execution_count": 7,
   "metadata": {
    "ExecuteTime": {
     "end_time": "2021-08-04T15:07:38.508534Z",
     "start_time": "2021-08-04T15:07:38.501551Z"
    },
    "execution": {
     "iopub.execute_input": "2023-05-21T13:03:33.999285Z",
     "iopub.status.busy": "2023-05-21T13:03:33.998518Z",
     "iopub.status.idle": "2023-05-21T13:03:34.010014Z",
     "shell.execute_reply": "2023-05-21T13:03:34.009302Z",
     "shell.execute_reply.started": "2023-05-21T13:03:33.999253Z"
    }
   },
   "outputs": [
    {
     "data": {
      "text/plain": [
       "Quarter     object\n",
       "Sales      float64\n",
       "dtype: object"
      ]
     },
     "execution_count": 7,
     "metadata": {},
     "output_type": "execute_result"
    }
   ],
   "source": [
    "data.dtypes"
   ]
  },
  {
   "cell_type": "code",
   "execution_count": 8,
   "metadata": {
    "ExecuteTime": {
     "end_time": "2021-08-04T15:07:39.067488Z",
     "start_time": "2021-08-04T15:07:39.048568Z"
    },
    "execution": {
     "iopub.execute_input": "2023-05-21T13:03:34.012020Z",
     "iopub.status.busy": "2023-05-21T13:03:34.011219Z",
     "iopub.status.idle": "2023-05-21T13:03:34.040912Z",
     "shell.execute_reply": "2023-05-21T13:03:34.039834Z",
     "shell.execute_reply.started": "2023-05-21T13:03:34.011987Z"
    }
   },
   "outputs": [
    {
     "name": "stdout",
     "output_type": "stream",
     "text": [
      "<class 'pandas.core.frame.DataFrame'>\n",
      "RangeIndex: 42 entries, 0 to 41\n",
      "Data columns (total 2 columns):\n",
      " #   Column   Non-Null Count  Dtype  \n",
      "---  ------   --------------  -----  \n",
      " 0   Quarter  42 non-null     object \n",
      " 1   Sales    42 non-null     float64\n",
      "dtypes: float64(1), object(1)\n",
      "memory usage: 800.0+ bytes\n"
     ]
    }
   ],
   "source": [
    "data.info()"
   ]
  },
  {
   "cell_type": "code",
   "execution_count": 9,
   "metadata": {
    "ExecuteTime": {
     "end_time": "2021-08-04T15:07:39.396828Z",
     "start_time": "2021-08-04T15:07:39.366943Z"
    },
    "execution": {
     "iopub.execute_input": "2023-05-21T13:03:34.043687Z",
     "iopub.status.busy": "2023-05-21T13:03:34.042885Z",
     "iopub.status.idle": "2023-05-21T13:03:34.062269Z",
     "shell.execute_reply": "2023-05-21T13:03:34.061220Z",
     "shell.execute_reply.started": "2023-05-21T13:03:34.043650Z"
    }
   },
   "outputs": [
    {
     "data": {
      "text/html": [
       "<div>\n",
       "<style scoped>\n",
       "    .dataframe tbody tr th:only-of-type {\n",
       "        vertical-align: middle;\n",
       "    }\n",
       "\n",
       "    .dataframe tbody tr th {\n",
       "        vertical-align: top;\n",
       "    }\n",
       "\n",
       "    .dataframe thead th {\n",
       "        text-align: right;\n",
       "    }\n",
       "</style>\n",
       "<table border=\"1\" class=\"dataframe\">\n",
       "  <thead>\n",
       "    <tr style=\"text-align: right;\">\n",
       "      <th></th>\n",
       "      <th>Sales</th>\n",
       "    </tr>\n",
       "  </thead>\n",
       "  <tbody>\n",
       "    <tr>\n",
       "      <th>count</th>\n",
       "      <td>42.000000</td>\n",
       "    </tr>\n",
       "    <tr>\n",
       "      <th>mean</th>\n",
       "      <td>2994.353308</td>\n",
       "    </tr>\n",
       "    <tr>\n",
       "      <th>std</th>\n",
       "      <td>977.930896</td>\n",
       "    </tr>\n",
       "    <tr>\n",
       "      <th>min</th>\n",
       "      <td>1547.818996</td>\n",
       "    </tr>\n",
       "    <tr>\n",
       "      <th>25%</th>\n",
       "      <td>2159.714247</td>\n",
       "    </tr>\n",
       "    <tr>\n",
       "      <th>50%</th>\n",
       "      <td>2782.376999</td>\n",
       "    </tr>\n",
       "    <tr>\n",
       "      <th>75%</th>\n",
       "      <td>3609.250000</td>\n",
       "    </tr>\n",
       "    <tr>\n",
       "      <th>max</th>\n",
       "      <td>5253.000000</td>\n",
       "    </tr>\n",
       "  </tbody>\n",
       "</table>\n",
       "</div>"
      ],
      "text/plain": [
       "             Sales\n",
       "count    42.000000\n",
       "mean   2994.353308\n",
       "std     977.930896\n",
       "min    1547.818996\n",
       "25%    2159.714247\n",
       "50%    2782.376999\n",
       "75%    3609.250000\n",
       "max    5253.000000"
      ]
     },
     "execution_count": 9,
     "metadata": {},
     "output_type": "execute_result"
    }
   ],
   "source": [
    "data.describe()"
   ]
  },
  {
   "cell_type": "code",
   "execution_count": 10,
   "metadata": {
    "ExecuteTime": {
     "end_time": "2021-08-04T15:07:40.033183Z",
     "start_time": "2021-08-04T15:07:39.809716Z"
    },
    "execution": {
     "iopub.execute_input": "2023-05-21T13:03:34.064095Z",
     "iopub.status.busy": "2023-05-21T13:03:34.063683Z",
     "iopub.status.idle": "2023-05-21T13:03:34.495099Z",
     "shell.execute_reply": "2023-05-21T13:03:34.494028Z",
     "shell.execute_reply.started": "2023-05-21T13:03:34.064057Z"
    }
   },
   "outputs": [
    {
     "data": {
      "text/plain": [
       "<AxesSubplot:>"
      ]
     },
     "execution_count": 10,
     "metadata": {},
     "output_type": "execute_result"
    },
    {
     "data": {
      "image/png": "[encoded data removed]",
      "text/plain": [
       "<Figure size 1600x900 with 1 Axes>"
      ]
     },
     "metadata": {},
     "output_type": "display_data"
    }
   ],
   "source": [
    "## visualization\n",
    "plt.figure(figsize=(16, 9))\n",
    "data.Sales.plot()"
   ]
  },
  {
   "cell_type": "code",
   "execution_count": 11,
   "metadata": {
    "ExecuteTime": {
     "end_time": "2021-08-04T15:07:42.985802Z",
     "start_time": "2021-08-04T15:07:42.852650Z"
    },
    "execution": {
     "iopub.execute_input": "2023-05-21T13:03:34.497051Z",
     "iopub.status.busy": "2023-05-21T13:03:34.496483Z",
     "iopub.status.idle": "2023-05-21T13:03:34.754750Z",
     "shell.execute_reply": "2023-05-21T13:03:34.750499Z",
     "shell.execute_reply.started": "2023-05-21T13:03:34.497019Z"
    }
   },
   "outputs": [
    {
     "data": {
      "text/plain": [
       "<AxesSubplot:ylabel='Sales'>"
      ]
     },
     "execution_count": 11,
     "metadata": {},
     "output_type": "execute_result"
    },
    {
     "data": {
      "image/png": "[encoded data removed]",
      "text/plain": [
       "<Figure size 1600x900 with 1 Axes>"
      ]
     },
     "metadata": {},
     "output_type": "display_data"
    }
   ],
   "source": [
    "sns.boxplot(y=\"Sales\",data=data)"
   ]
  },
  {
   "cell_type": "code",
   "execution_count": 12,
   "metadata": {
    "ExecuteTime": {
     "end_time": "2021-08-04T15:08:51.350177Z",
     "start_time": "2021-08-04T15:08:50.640015Z"
    },
    "execution": {
     "iopub.execute_input": "2023-05-21T13:03:34.758827Z",
     "iopub.status.busy": "2023-05-21T13:03:34.758291Z",
     "iopub.status.idle": "2023-05-21T13:03:35.841502Z",
     "shell.execute_reply": "2023-05-21T13:03:35.840419Z",
     "shell.execute_reply.started": "2023-05-21T13:03:34.758793Z"
    }
   },
   "outputs": [
    {
     "data": {
      "text/plain": [
       "<seaborn.axisgrid.FacetGrid at 0x20abe129490>"
      ]
     },
     "execution_count": 12,
     "metadata": {},
     "output_type": "execute_result"
    },
    {
     "data": {
      "image/png": "[encoded data removed]",
      "text/plain": [
       "<Figure size 500x500 with 1 Axes>"
      ]
     },
     "metadata": {},
     "output_type": "display_data"
    }
   ],
   "source": [
    "sns.catplot(x=\"Quarter\",y=\"Sales\",data=data,kind=\"box\")"
   ]
  },
  {
   "cell_type": "code",
   "execution_count": 13,
   "metadata": {
    "ExecuteTime": {
     "end_time": "2021-08-04T09:42:27.682078Z",
     "start_time": "2021-08-04T09:42:27.538533Z"
    },
    "execution": {
     "iopub.execute_input": "2023-05-21T13:03:35.843259Z",
     "iopub.status.busy": "2023-05-21T13:03:35.842900Z",
     "iopub.status.idle": "2023-05-21T13:03:36.276332Z",
     "shell.execute_reply": "2023-05-21T13:03:36.275310Z",
     "shell.execute_reply.started": "2023-05-21T13:03:35.843228Z"
    }
   },
   "outputs": [
    {
     "data": {
      "image/png": "[encoded data removed]",
      "text/plain": [
       "<Figure size 1600x900 with 1 Axes>"
      ]
     },
     "metadata": {},
     "output_type": "display_data"
    }
   ],
   "source": [
    "data.Sales.plot(label=\"org\")\n",
    "for i in range(2,10,2):\n",
    "    data[\"Sales\"].rolling(i).mean().plot(label=str(i))\n",
    "    plt.legend(loc=3)"
   ]
  },
  {
   "cell_type": "code",
   "execution_count": 14,
   "metadata": {
    "ExecuteTime": {
     "end_time": "2021-08-04T09:42:48.033426Z",
     "start_time": "2021-08-04T09:42:47.906057Z"
    },
    "execution": {
     "iopub.execute_input": "2023-05-21T13:03:36.278244Z",
     "iopub.status.busy": "2023-05-21T13:03:36.277850Z",
     "iopub.status.idle": "2023-05-21T13:03:36.601937Z",
     "shell.execute_reply": "2023-05-21T13:03:36.599955Z",
     "shell.execute_reply.started": "2023-05-21T13:03:36.278207Z"
    }
   },
   "outputs": [
    {
     "data": {
      "text/plain": [
       "<AxesSubplot:>"
      ]
     },
     "execution_count": 14,
     "metadata": {},
     "output_type": "execute_result"
    },
    {
     "data": {
      "image/png": "[encoded data removed]",
      "text/plain": [
       "<Figure size 1600x900 with 1 Axes>"
      ]
     },
     "metadata": {},
     "output_type": "display_data"
    }
   ],
   "source": [
    "data.Sales.plot()"
   ]
  },
  {
   "cell_type": "code",
   "execution_count": 15,
   "metadata": {
    "ExecuteTime": {
     "end_time": "2021-08-04T09:43:38.885020Z",
     "start_time": "2021-08-04T09:43:38.740406Z"
    },
    "execution": {
     "iopub.execute_input": "2023-05-21T13:03:36.603862Z",
     "iopub.status.busy": "2023-05-21T13:03:36.603517Z",
     "iopub.status.idle": "2023-05-21T13:03:36.910193Z",
     "shell.execute_reply": "2023-05-21T13:03:36.909139Z",
     "shell.execute_reply.started": "2023-05-21T13:03:36.603831Z"
    }
   },
   "outputs": [
    {
     "data": {
      "text/plain": [
       "<AxesSubplot:>"
      ]
     },
     "execution_count": 15,
     "metadata": {},
     "output_type": "execute_result"
    },
    {
     "data": {
      "image/png": "[encoded data removed]",
      "text/plain": [
       "<Figure size 2400x500 with 1 Axes>"
      ]
     },
     "metadata": {},
     "output_type": "display_data"
    }
   ],
   "source": [
    "plt.figure(figsize=(24,5))\n",
    "data.Sales.plot()"
   ]
  },
  {
   "cell_type": "code",
   "execution_count": 16,
   "metadata": {
    "ExecuteTime": {
     "end_time": "2021-08-04T09:45:38.247734Z",
     "start_time": "2021-08-04T09:45:38.238758Z"
    },
    "execution": {
     "iopub.execute_input": "2023-05-21T13:03:36.911824Z",
     "iopub.status.busy": "2023-05-21T13:03:36.911417Z",
     "iopub.status.idle": "2023-05-21T13:03:36.920659Z",
     "shell.execute_reply": "2023-05-21T13:03:36.919518Z",
     "shell.execute_reply.started": "2023-05-21T13:03:36.911783Z"
    }
   },
   "outputs": [
    {
     "data": {
      "text/plain": [
       "'Q1'"
      ]
     },
     "execution_count": 16,
     "metadata": {},
     "output_type": "execute_result"
    }
   ],
   "source": [
    "## preprocessing\n",
    "quarter=['Q1','Q2','Q3','Q4']\n",
    "n=data['Quarter'][0]\n",
    "n[0:2]"
   ]
  },
  {
   "cell_type": "code",
   "execution_count": 17,
   "metadata": {
    "ExecuteTime": {
     "end_time": "2021-08-04T09:47:33.124994Z",
     "start_time": "2021-08-04T09:47:33.065070Z"
    },
    "execution": {
     "iopub.execute_input": "2023-05-21T13:03:36.922511Z",
     "iopub.status.busy": "2023-05-21T13:03:36.922104Z",
     "iopub.status.idle": "2023-05-21T13:03:36.980390Z",
     "shell.execute_reply": "2023-05-21T13:03:36.979300Z",
     "shell.execute_reply.started": "2023-05-21T13:03:36.922473Z"
    }
   },
   "outputs": [
    {
     "name": "stderr",
     "output_type": "stream",
     "text": [
      "C:\\Users\\91814\\AppData\\Local\\Temp\\ipykernel_7012\\2009669185.py:4: SettingWithCopyWarning: \n",
      "A value is trying to be set on a copy of a slice from a DataFrame\n",
      "\n",
      "See the caveats in the documentation: https://pandas.pydata.org/pandas-docs/stable/user_guide/indexing.html#returning-a-view-versus-a-copy\n",
      "  data['quarter'][i]=n[0:2]\n"
     ]
    }
   ],
   "source": [
    "data['quarter']=0\n",
    "for i in range(42):\n",
    "    n=data['Quarter'][i]\n",
    "    data['quarter'][i]=n[0:2]\n",
    "    dummy=pd.DataFrame(pd.get_dummies(data['quarter']))\n",
    "    data1=pd.concat((data,dummy),axis=1)\n",
    "t= np.arange(1,43)\n",
    "data1['t']=t\n",
    "data1['t_square']=data1['t']*data1['t']\n",
    "log_Sales=np.log(data1['Sales'])\n",
    "data1['log_Sales']=log_Sales"
   ]
  },
  {
   "cell_type": "code",
   "execution_count": 18,
   "metadata": {
    "ExecuteTime": {
     "end_time": "2021-08-04T09:47:39.575667Z",
     "start_time": "2021-08-04T09:47:39.544750Z"
    },
    "execution": {
     "iopub.execute_input": "2023-05-21T13:03:36.982336Z",
     "iopub.status.busy": "2023-05-21T13:03:36.981996Z",
     "iopub.status.idle": "2023-05-21T13:03:37.007940Z",
     "shell.execute_reply": "2023-05-21T13:03:37.006827Z",
     "shell.execute_reply.started": "2023-05-21T13:03:36.982306Z"
    }
   },
   "outputs": [
    {
     "data": {
      "text/html": [
       "<div>\n",
       "<style scoped>\n",
       "    .dataframe tbody tr th:only-of-type {\n",
       "        vertical-align: middle;\n",
       "    }\n",
       "\n",
       "    .dataframe tbody tr th {\n",
       "        vertical-align: top;\n",
       "    }\n",
       "\n",
       "    .dataframe thead th {\n",
       "        text-align: right;\n",
       "    }\n",
       "</style>\n",
       "<table border=\"1\" class=\"dataframe\">\n",
       "  <thead>\n",
       "    <tr style=\"text-align: right;\">\n",
       "      <th></th>\n",
       "      <th>Quarter</th>\n",
       "      <th>Sales</th>\n",
       "      <th>quarter</th>\n",
       "      <th>Q1</th>\n",
       "      <th>Q2</th>\n",
       "      <th>Q3</th>\n",
       "      <th>Q4</th>\n",
       "      <th>t</th>\n",
       "      <th>t_square</th>\n",
       "      <th>log_Sales</th>\n",
       "    </tr>\n",
       "  </thead>\n",
       "  <tbody>\n",
       "    <tr>\n",
       "      <th>0</th>\n",
       "      <td>Q1_86</td>\n",
       "      <td>1734.827000</td>\n",
       "      <td>Q1</td>\n",
       "      <td>1</td>\n",
       "      <td>0</td>\n",
       "      <td>0</td>\n",
       "      <td>0</td>\n",
       "      <td>1</td>\n",
       "      <td>1</td>\n",
       "      <td>7.458663</td>\n",
       "    </tr>\n",
       "    <tr>\n",
       "      <th>1</th>\n",
       "      <td>Q2_86</td>\n",
       "      <td>2244.960999</td>\n",
       "      <td>Q2</td>\n",
       "      <td>0</td>\n",
       "      <td>1</td>\n",
       "      <td>0</td>\n",
       "      <td>0</td>\n",
       "      <td>2</td>\n",
       "      <td>4</td>\n",
       "      <td>7.716443</td>\n",
       "    </tr>\n",
       "    <tr>\n",
       "      <th>2</th>\n",
       "      <td>Q3_86</td>\n",
       "      <td>2533.804993</td>\n",
       "      <td>Q3</td>\n",
       "      <td>0</td>\n",
       "      <td>0</td>\n",
       "      <td>1</td>\n",
       "      <td>0</td>\n",
       "      <td>3</td>\n",
       "      <td>9</td>\n",
       "      <td>7.837477</td>\n",
       "    </tr>\n",
       "    <tr>\n",
       "      <th>3</th>\n",
       "      <td>Q4_86</td>\n",
       "      <td>2154.962997</td>\n",
       "      <td>Q4</td>\n",
       "      <td>0</td>\n",
       "      <td>0</td>\n",
       "      <td>0</td>\n",
       "      <td>1</td>\n",
       "      <td>4</td>\n",
       "      <td>16</td>\n",
       "      <td>7.675529</td>\n",
       "    </tr>\n",
       "    <tr>\n",
       "      <th>4</th>\n",
       "      <td>Q1_87</td>\n",
       "      <td>1547.818996</td>\n",
       "      <td>Q1</td>\n",
       "      <td>1</td>\n",
       "      <td>0</td>\n",
       "      <td>0</td>\n",
       "      <td>0</td>\n",
       "      <td>5</td>\n",
       "      <td>25</td>\n",
       "      <td>7.344602</td>\n",
       "    </tr>\n",
       "    <tr>\n",
       "      <th>5</th>\n",
       "      <td>Q2_87</td>\n",
       "      <td>2104.411995</td>\n",
       "      <td>Q2</td>\n",
       "      <td>0</td>\n",
       "      <td>1</td>\n",
       "      <td>0</td>\n",
       "      <td>0</td>\n",
       "      <td>6</td>\n",
       "      <td>36</td>\n",
       "      <td>7.651791</td>\n",
       "    </tr>\n",
       "    <tr>\n",
       "      <th>6</th>\n",
       "      <td>Q3_87</td>\n",
       "      <td>2014.362999</td>\n",
       "      <td>Q3</td>\n",
       "      <td>0</td>\n",
       "      <td>0</td>\n",
       "      <td>1</td>\n",
       "      <td>0</td>\n",
       "      <td>7</td>\n",
       "      <td>49</td>\n",
       "      <td>7.608058</td>\n",
       "    </tr>\n",
       "    <tr>\n",
       "      <th>7</th>\n",
       "      <td>Q4_87</td>\n",
       "      <td>1991.746998</td>\n",
       "      <td>Q4</td>\n",
       "      <td>0</td>\n",
       "      <td>0</td>\n",
       "      <td>0</td>\n",
       "      <td>1</td>\n",
       "      <td>8</td>\n",
       "      <td>64</td>\n",
       "      <td>7.596767</td>\n",
       "    </tr>\n",
       "    <tr>\n",
       "      <th>8</th>\n",
       "      <td>Q1_88</td>\n",
       "      <td>1869.049999</td>\n",
       "      <td>Q1</td>\n",
       "      <td>1</td>\n",
       "      <td>0</td>\n",
       "      <td>0</td>\n",
       "      <td>0</td>\n",
       "      <td>9</td>\n",
       "      <td>81</td>\n",
       "      <td>7.533186</td>\n",
       "    </tr>\n",
       "    <tr>\n",
       "      <th>9</th>\n",
       "      <td>Q2_88</td>\n",
       "      <td>2313.631996</td>\n",
       "      <td>Q2</td>\n",
       "      <td>0</td>\n",
       "      <td>1</td>\n",
       "      <td>0</td>\n",
       "      <td>0</td>\n",
       "      <td>10</td>\n",
       "      <td>100</td>\n",
       "      <td>7.746574</td>\n",
       "    </tr>\n",
       "    <tr>\n",
       "      <th>10</th>\n",
       "      <td>Q3_88</td>\n",
       "      <td>2128.320000</td>\n",
       "      <td>Q3</td>\n",
       "      <td>0</td>\n",
       "      <td>0</td>\n",
       "      <td>1</td>\n",
       "      <td>0</td>\n",
       "      <td>11</td>\n",
       "      <td>121</td>\n",
       "      <td>7.663088</td>\n",
       "    </tr>\n",
       "    <tr>\n",
       "      <th>11</th>\n",
       "      <td>Q4_88</td>\n",
       "      <td>2026.828999</td>\n",
       "      <td>Q4</td>\n",
       "      <td>0</td>\n",
       "      <td>0</td>\n",
       "      <td>0</td>\n",
       "      <td>1</td>\n",
       "      <td>12</td>\n",
       "      <td>144</td>\n",
       "      <td>7.614228</td>\n",
       "    </tr>\n",
       "    <tr>\n",
       "      <th>12</th>\n",
       "      <td>Q1_89</td>\n",
       "      <td>1910.603996</td>\n",
       "      <td>Q1</td>\n",
       "      <td>1</td>\n",
       "      <td>0</td>\n",
       "      <td>0</td>\n",
       "      <td>0</td>\n",
       "      <td>13</td>\n",
       "      <td>169</td>\n",
       "      <td>7.555175</td>\n",
       "    </tr>\n",
       "    <tr>\n",
       "      <th>13</th>\n",
       "      <td>Q2_89</td>\n",
       "      <td>2331.164993</td>\n",
       "      <td>Q2</td>\n",
       "      <td>0</td>\n",
       "      <td>1</td>\n",
       "      <td>0</td>\n",
       "      <td>0</td>\n",
       "      <td>14</td>\n",
       "      <td>196</td>\n",
       "      <td>7.754123</td>\n",
       "    </tr>\n",
       "    <tr>\n",
       "      <th>14</th>\n",
       "      <td>Q3_89</td>\n",
       "      <td>2206.549995</td>\n",
       "      <td>Q3</td>\n",
       "      <td>0</td>\n",
       "      <td>0</td>\n",
       "      <td>1</td>\n",
       "      <td>0</td>\n",
       "      <td>15</td>\n",
       "      <td>225</td>\n",
       "      <td>7.699185</td>\n",
       "    </tr>\n",
       "    <tr>\n",
       "      <th>15</th>\n",
       "      <td>Q4_89</td>\n",
       "      <td>2173.967995</td>\n",
       "      <td>Q4</td>\n",
       "      <td>0</td>\n",
       "      <td>0</td>\n",
       "      <td>0</td>\n",
       "      <td>1</td>\n",
       "      <td>16</td>\n",
       "      <td>256</td>\n",
       "      <td>7.684309</td>\n",
       "    </tr>\n",
       "    <tr>\n",
       "      <th>16</th>\n",
       "      <td>Q1_90</td>\n",
       "      <td>2148.278000</td>\n",
       "      <td>Q1</td>\n",
       "      <td>1</td>\n",
       "      <td>0</td>\n",
       "      <td>0</td>\n",
       "      <td>0</td>\n",
       "      <td>17</td>\n",
       "      <td>289</td>\n",
       "      <td>7.672422</td>\n",
       "    </tr>\n",
       "    <tr>\n",
       "      <th>17</th>\n",
       "      <td>Q2_90</td>\n",
       "      <td>2739.307999</td>\n",
       "      <td>Q2</td>\n",
       "      <td>0</td>\n",
       "      <td>1</td>\n",
       "      <td>0</td>\n",
       "      <td>0</td>\n",
       "      <td>18</td>\n",
       "      <td>324</td>\n",
       "      <td>7.915461</td>\n",
       "    </tr>\n",
       "    <tr>\n",
       "      <th>18</th>\n",
       "      <td>Q3_90</td>\n",
       "      <td>2792.753998</td>\n",
       "      <td>Q3</td>\n",
       "      <td>0</td>\n",
       "      <td>0</td>\n",
       "      <td>1</td>\n",
       "      <td>0</td>\n",
       "      <td>19</td>\n",
       "      <td>361</td>\n",
       "      <td>7.934783</td>\n",
       "    </tr>\n",
       "    <tr>\n",
       "      <th>19</th>\n",
       "      <td>Q4_90</td>\n",
       "      <td>2556.009995</td>\n",
       "      <td>Q4</td>\n",
       "      <td>0</td>\n",
       "      <td>0</td>\n",
       "      <td>0</td>\n",
       "      <td>1</td>\n",
       "      <td>20</td>\n",
       "      <td>400</td>\n",
       "      <td>7.846203</td>\n",
       "    </tr>\n",
       "    <tr>\n",
       "      <th>20</th>\n",
       "      <td>Q1_91</td>\n",
       "      <td>2480.973999</td>\n",
       "      <td>Q1</td>\n",
       "      <td>1</td>\n",
       "      <td>0</td>\n",
       "      <td>0</td>\n",
       "      <td>0</td>\n",
       "      <td>21</td>\n",
       "      <td>441</td>\n",
       "      <td>7.816407</td>\n",
       "    </tr>\n",
       "    <tr>\n",
       "      <th>21</th>\n",
       "      <td>Q2_91</td>\n",
       "      <td>3039.522995</td>\n",
       "      <td>Q2</td>\n",
       "      <td>0</td>\n",
       "      <td>1</td>\n",
       "      <td>0</td>\n",
       "      <td>0</td>\n",
       "      <td>22</td>\n",
       "      <td>484</td>\n",
       "      <td>8.019456</td>\n",
       "    </tr>\n",
       "    <tr>\n",
       "      <th>22</th>\n",
       "      <td>Q3_91</td>\n",
       "      <td>3172.115997</td>\n",
       "      <td>Q3</td>\n",
       "      <td>0</td>\n",
       "      <td>0</td>\n",
       "      <td>1</td>\n",
       "      <td>0</td>\n",
       "      <td>23</td>\n",
       "      <td>529</td>\n",
       "      <td>8.062154</td>\n",
       "    </tr>\n",
       "    <tr>\n",
       "      <th>23</th>\n",
       "      <td>Q4_91</td>\n",
       "      <td>2879.000999</td>\n",
       "      <td>Q4</td>\n",
       "      <td>0</td>\n",
       "      <td>0</td>\n",
       "      <td>0</td>\n",
       "      <td>1</td>\n",
       "      <td>24</td>\n",
       "      <td>576</td>\n",
       "      <td>7.965199</td>\n",
       "    </tr>\n",
       "    <tr>\n",
       "      <th>24</th>\n",
       "      <td>Q1_92</td>\n",
       "      <td>2772.000000</td>\n",
       "      <td>Q1</td>\n",
       "      <td>1</td>\n",
       "      <td>0</td>\n",
       "      <td>0</td>\n",
       "      <td>0</td>\n",
       "      <td>25</td>\n",
       "      <td>625</td>\n",
       "      <td>7.927324</td>\n",
       "    </tr>\n",
       "    <tr>\n",
       "      <th>25</th>\n",
       "      <td>Q2_92</td>\n",
       "      <td>3550.000000</td>\n",
       "      <td>Q2</td>\n",
       "      <td>0</td>\n",
       "      <td>1</td>\n",
       "      <td>0</td>\n",
       "      <td>0</td>\n",
       "      <td>26</td>\n",
       "      <td>676</td>\n",
       "      <td>8.174703</td>\n",
       "    </tr>\n",
       "    <tr>\n",
       "      <th>26</th>\n",
       "      <td>Q3_92</td>\n",
       "      <td>3508.000000</td>\n",
       "      <td>Q3</td>\n",
       "      <td>0</td>\n",
       "      <td>0</td>\n",
       "      <td>1</td>\n",
       "      <td>0</td>\n",
       "      <td>27</td>\n",
       "      <td>729</td>\n",
       "      <td>8.162801</td>\n",
       "    </tr>\n",
       "    <tr>\n",
       "      <th>27</th>\n",
       "      <td>Q4_92</td>\n",
       "      <td>3243.859993</td>\n",
       "      <td>Q4</td>\n",
       "      <td>0</td>\n",
       "      <td>0</td>\n",
       "      <td>0</td>\n",
       "      <td>1</td>\n",
       "      <td>28</td>\n",
       "      <td>784</td>\n",
       "      <td>8.084519</td>\n",
       "    </tr>\n",
       "    <tr>\n",
       "      <th>28</th>\n",
       "      <td>Q1_93</td>\n",
       "      <td>3056.000000</td>\n",
       "      <td>Q1</td>\n",
       "      <td>1</td>\n",
       "      <td>0</td>\n",
       "      <td>0</td>\n",
       "      <td>0</td>\n",
       "      <td>29</td>\n",
       "      <td>841</td>\n",
       "      <td>8.024862</td>\n",
       "    </tr>\n",
       "    <tr>\n",
       "      <th>29</th>\n",
       "      <td>Q2_93</td>\n",
       "      <td>3899.000000</td>\n",
       "      <td>Q2</td>\n",
       "      <td>0</td>\n",
       "      <td>1</td>\n",
       "      <td>0</td>\n",
       "      <td>0</td>\n",
       "      <td>30</td>\n",
       "      <td>900</td>\n",
       "      <td>8.268475</td>\n",
       "    </tr>\n",
       "    <tr>\n",
       "      <th>30</th>\n",
       "      <td>Q3_93</td>\n",
       "      <td>3629.000000</td>\n",
       "      <td>Q3</td>\n",
       "      <td>0</td>\n",
       "      <td>0</td>\n",
       "      <td>1</td>\n",
       "      <td>0</td>\n",
       "      <td>31</td>\n",
       "      <td>961</td>\n",
       "      <td>8.196712</td>\n",
       "    </tr>\n",
       "    <tr>\n",
       "      <th>31</th>\n",
       "      <td>Q4_93</td>\n",
       "      <td>3373.000000</td>\n",
       "      <td>Q4</td>\n",
       "      <td>0</td>\n",
       "      <td>0</td>\n",
       "      <td>0</td>\n",
       "      <td>1</td>\n",
       "      <td>32</td>\n",
       "      <td>1024</td>\n",
       "      <td>8.123558</td>\n",
       "    </tr>\n",
       "    <tr>\n",
       "      <th>32</th>\n",
       "      <td>Q1_94</td>\n",
       "      <td>3352.000000</td>\n",
       "      <td>Q1</td>\n",
       "      <td>1</td>\n",
       "      <td>0</td>\n",
       "      <td>0</td>\n",
       "      <td>0</td>\n",
       "      <td>33</td>\n",
       "      <td>1089</td>\n",
       "      <td>8.117312</td>\n",
       "    </tr>\n",
       "    <tr>\n",
       "      <th>33</th>\n",
       "      <td>Q2_94</td>\n",
       "      <td>4342.000000</td>\n",
       "      <td>Q2</td>\n",
       "      <td>0</td>\n",
       "      <td>1</td>\n",
       "      <td>0</td>\n",
       "      <td>0</td>\n",
       "      <td>34</td>\n",
       "      <td>1156</td>\n",
       "      <td>8.376090</td>\n",
       "    </tr>\n",
       "    <tr>\n",
       "      <th>34</th>\n",
       "      <td>Q3_94</td>\n",
       "      <td>4461.000000</td>\n",
       "      <td>Q3</td>\n",
       "      <td>0</td>\n",
       "      <td>0</td>\n",
       "      <td>1</td>\n",
       "      <td>0</td>\n",
       "      <td>35</td>\n",
       "      <td>1225</td>\n",
       "      <td>8.403128</td>\n",
       "    </tr>\n",
       "    <tr>\n",
       "      <th>35</th>\n",
       "      <td>Q4_94</td>\n",
       "      <td>4017.000000</td>\n",
       "      <td>Q4</td>\n",
       "      <td>0</td>\n",
       "      <td>0</td>\n",
       "      <td>0</td>\n",
       "      <td>1</td>\n",
       "      <td>36</td>\n",
       "      <td>1296</td>\n",
       "      <td>8.298291</td>\n",
       "    </tr>\n",
       "    <tr>\n",
       "      <th>36</th>\n",
       "      <td>Q1_95</td>\n",
       "      <td>3854.000000</td>\n",
       "      <td>Q1</td>\n",
       "      <td>1</td>\n",
       "      <td>0</td>\n",
       "      <td>0</td>\n",
       "      <td>0</td>\n",
       "      <td>37</td>\n",
       "      <td>1369</td>\n",
       "      <td>8.256867</td>\n",
       "    </tr>\n",
       "    <tr>\n",
       "      <th>37</th>\n",
       "      <td>Q2_95</td>\n",
       "      <td>4936.000000</td>\n",
       "      <td>Q2</td>\n",
       "      <td>0</td>\n",
       "      <td>1</td>\n",
       "      <td>0</td>\n",
       "      <td>0</td>\n",
       "      <td>38</td>\n",
       "      <td>1444</td>\n",
       "      <td>8.504311</td>\n",
       "    </tr>\n",
       "    <tr>\n",
       "      <th>38</th>\n",
       "      <td>Q3_95</td>\n",
       "      <td>4895.000000</td>\n",
       "      <td>Q3</td>\n",
       "      <td>0</td>\n",
       "      <td>0</td>\n",
       "      <td>1</td>\n",
       "      <td>0</td>\n",
       "      <td>39</td>\n",
       "      <td>1521</td>\n",
       "      <td>8.495970</td>\n",
       "    </tr>\n",
       "    <tr>\n",
       "      <th>39</th>\n",
       "      <td>Q4_95</td>\n",
       "      <td>4333.000000</td>\n",
       "      <td>Q4</td>\n",
       "      <td>0</td>\n",
       "      <td>0</td>\n",
       "      <td>0</td>\n",
       "      <td>1</td>\n",
       "      <td>40</td>\n",
       "      <td>1600</td>\n",
       "      <td>8.374015</td>\n",
       "    </tr>\n",
       "    <tr>\n",
       "      <th>40</th>\n",
       "      <td>Q1_96</td>\n",
       "      <td>4194.000000</td>\n",
       "      <td>Q1</td>\n",
       "      <td>1</td>\n",
       "      <td>0</td>\n",
       "      <td>0</td>\n",
       "      <td>0</td>\n",
       "      <td>41</td>\n",
       "      <td>1681</td>\n",
       "      <td>8.341410</td>\n",
       "    </tr>\n",
       "    <tr>\n",
       "      <th>41</th>\n",
       "      <td>Q2_96</td>\n",
       "      <td>5253.000000</td>\n",
       "      <td>Q2</td>\n",
       "      <td>0</td>\n",
       "      <td>1</td>\n",
       "      <td>0</td>\n",
       "      <td>0</td>\n",
       "      <td>42</td>\n",
       "      <td>1764</td>\n",
       "      <td>8.566555</td>\n",
       "    </tr>\n",
       "  </tbody>\n",
       "</table>\n",
       "</div>"
      ],
      "text/plain": [
       "   Quarter        Sales quarter  Q1  Q2  Q3  Q4   t  t_square  log_Sales\n",
       "0    Q1_86  1734.827000      Q1   1   0   0   0   1         1   7.458663\n",
       "1    Q2_86  2244.960999      Q2   0   1   0   0   2         4   7.716443\n",
       "2    Q3_86  2533.804993      Q3   0   0   1   0   3         9   7.837477\n",
       "3    Q4_86  2154.962997      Q4   0   0   0   1   4        16   7.675529\n",
       "4    Q1_87  1547.818996      Q1   1   0   0   0   5        25   7.344602\n",
       "5    Q2_87  2104.411995      Q2   0   1   0   0   6        36   7.651791\n",
       "6    Q3_87  2014.362999      Q3   0   0   1   0   7        49   7.608058\n",
       "7    Q4_87  1991.746998      Q4   0   0   0   1   8        64   7.596767\n",
       "8    Q1_88  1869.049999      Q1   1   0   0   0   9        81   7.533186\n",
       "9    Q2_88  2313.631996      Q2   0   1   0   0  10       100   7.746574\n",
       "10   Q3_88  2128.320000      Q3   0   0   1   0  11       121   7.663088\n",
       "11   Q4_88  2026.828999      Q4   0   0   0   1  12       144   7.614228\n",
       "12   Q1_89  1910.603996      Q1   1   0   0   0  13       169   7.555175\n",
       "13   Q2_89  2331.164993      Q2   0   1   0   0  14       196   7.754123\n",
       "14   Q3_89  2206.549995      Q3   0   0   1   0  15       225   7.699185\n",
       "15   Q4_89  2173.967995      Q4   0   0   0   1  16       256   7.684309\n",
       "16   Q1_90  2148.278000      Q1   1   0   0   0  17       289   7.672422\n",
       "17   Q2_90  2739.307999      Q2   0   1   0   0  18       324   7.915461\n",
       "18   Q3_90  2792.753998      Q3   0   0   1   0  19       361   7.934783\n",
       "19   Q4_90  2556.009995      Q4   0   0   0   1  20       400   7.846203\n",
       "20   Q1_91  2480.973999      Q1   1   0   0   0  21       441   7.816407\n",
       "21   Q2_91  3039.522995      Q2   0   1   0   0  22       484   8.019456\n",
       "22   Q3_91  3172.115997      Q3   0   0   1   0  23       529   8.062154\n",
       "23   Q4_91  2879.000999      Q4   0   0   0   1  24       576   7.965199\n",
       "24   Q1_92  2772.000000      Q1   1   0   0   0  25       625   7.927324\n",
       "25   Q2_92  3550.000000      Q2   0   1   0   0  26       676   8.174703\n",
       "26   Q3_92  3508.000000      Q3   0   0   1   0  27       729   8.162801\n",
       "27   Q4_92  3243.859993      Q4   0   0   0   1  28       784   8.084519\n",
       "28   Q1_93  3056.000000      Q1   1   0   0   0  29       841   8.024862\n",
       "29   Q2_93  3899.000000      Q2   0   1   0   0  30       900   8.268475\n",
       "30   Q3_93  3629.000000      Q3   0   0   1   0  31       961   8.196712\n",
       "31   Q4_93  3373.000000      Q4   0   0   0   1  32      1024   8.123558\n",
       "32   Q1_94  3352.000000      Q1   1   0   0   0  33      1089   8.117312\n",
       "33   Q2_94  4342.000000      Q2   0   1   0   0  34      1156   8.376090\n",
       "34   Q3_94  4461.000000      Q3   0   0   1   0  35      1225   8.403128\n",
       "35   Q4_94  4017.000000      Q4   0   0   0   1  36      1296   8.298291\n",
       "36   Q1_95  3854.000000      Q1   1   0   0   0  37      1369   8.256867\n",
       "37   Q2_95  4936.000000      Q2   0   1   0   0  38      1444   8.504311\n",
       "38   Q3_95  4895.000000      Q3   0   0   1   0  39      1521   8.495970\n",
       "39   Q4_95  4333.000000      Q4   0   0   0   1  40      1600   8.374015\n",
       "40   Q1_96  4194.000000      Q1   1   0   0   0  41      1681   8.341410\n",
       "41   Q2_96  5253.000000      Q2   0   1   0   0  42      1764   8.566555"
      ]
     },
     "execution_count": 18,
     "metadata": {},
     "output_type": "execute_result"
    }
   ],
   "source": [
    "data1"
   ]
  },
  {
   "cell_type": "code",
   "execution_count": 19,
   "metadata": {
    "ExecuteTime": {
     "end_time": "2021-08-04T09:49:36.806893Z",
     "start_time": "2021-08-04T09:49:36.661283Z"
    },
    "execution": {
     "iopub.execute_input": "2023-05-21T13:03:37.009608Z",
     "iopub.status.busy": "2023-05-21T13:03:37.009281Z",
     "iopub.status.idle": "2023-05-21T13:03:37.380773Z",
     "shell.execute_reply": "2023-05-21T13:03:37.379772Z",
     "shell.execute_reply.started": "2023-05-21T13:03:37.009578Z"
    }
   },
   "outputs": [
    {
     "data": {
      "text/plain": [
       "<AxesSubplot:xlabel='quarter', ylabel='Sales'>"
      ]
     },
     "execution_count": 19,
     "metadata": {},
     "output_type": "execute_result"
    },
    {
     "data": {
      "image/png": "[encoded data removed]",
      "text/plain": [
       "<Figure size 1200x300 with 1 Axes>"
      ]
     },
     "metadata": {},
     "output_type": "display_data"
    }
   ],
   "source": [
    "plt.figure(figsize=(12,3))\n",
    "sns.lineplot(x=\"quarter\",y=\"Sales\",data=data)"
   ]
  },
  {
   "cell_type": "code",
   "execution_count": 20,
   "metadata": {
    "ExecuteTime": {
     "end_time": "2021-08-04T09:50:51.573264Z",
     "start_time": "2021-08-04T09:50:51.558274Z"
    },
    "execution": {
     "iopub.execute_input": "2023-05-21T13:03:37.382386Z",
     "iopub.status.busy": "2023-05-21T13:03:37.382048Z",
     "iopub.status.idle": "2023-05-21T13:03:37.388222Z",
     "shell.execute_reply": "2023-05-21T13:03:37.387082Z",
     "shell.execute_reply.started": "2023-05-21T13:03:37.382357Z"
    }
   },
   "outputs": [],
   "source": [
    "## spliting the data\n",
    "Train = data1.head(34)"
   ]
  },
  {
   "cell_type": "code",
   "execution_count": 21,
   "metadata": {
    "ExecuteTime": {
     "end_time": "2021-08-04T09:51:33.800069Z",
     "start_time": "2021-08-04T09:51:33.796080Z"
    },
    "execution": {
     "iopub.execute_input": "2023-05-21T13:03:37.390851Z",
     "iopub.status.busy": "2023-05-21T13:03:37.390078Z",
     "iopub.status.idle": "2023-05-21T13:03:37.401798Z",
     "shell.execute_reply": "2023-05-21T13:03:37.400776Z",
     "shell.execute_reply.started": "2023-05-21T13:03:37.390815Z"
    }
   },
   "outputs": [],
   "source": [
    "Test = data1.iloc[34:38,:]"
   ]
  },
  {
   "cell_type": "code",
   "execution_count": 22,
   "metadata": {
    "ExecuteTime": {
     "end_time": "2021-08-04T09:52:00.391752Z",
     "start_time": "2021-08-04T09:52:00.387762Z"
    },
    "execution": {
     "iopub.execute_input": "2023-05-21T13:03:37.405717Z",
     "iopub.status.busy": "2023-05-21T13:03:37.405240Z",
     "iopub.status.idle": "2023-05-21T13:03:37.413333Z",
     "shell.execute_reply": "2023-05-21T13:03:37.412263Z",
     "shell.execute_reply.started": "2023-05-21T13:03:37.405676Z"
    }
   },
   "outputs": [],
   "source": [
    "predict_data=data1.tail(4)"
   ]
  },
  {
   "cell_type": "code",
   "execution_count": 23,
   "metadata": {
    "ExecuteTime": {
     "end_time": "2021-08-04T09:52:37.618659Z",
     "start_time": "2021-08-04T09:52:37.612705Z"
    },
    "execution": {
     "iopub.execute_input": "2023-05-21T13:03:37.415273Z",
     "iopub.status.busy": "2023-05-21T13:03:37.414762Z",
     "iopub.status.idle": "2023-05-21T13:03:37.425533Z",
     "shell.execute_reply": "2023-05-21T13:03:37.424505Z",
     "shell.execute_reply.started": "2023-05-21T13:03:37.415233Z"
    }
   },
   "outputs": [],
   "source": [
    "data2=data1.iloc[0:38,:]"
   ]
  },
  {
   "cell_type": "code",
   "execution_count": 24,
   "metadata": {
    "ExecuteTime": {
     "end_time": "2021-08-04T09:52:44.771266Z",
     "start_time": "2021-08-04T09:52:44.748325Z"
    },
    "execution": {
     "iopub.execute_input": "2023-05-21T13:03:37.427619Z",
     "iopub.status.busy": "2023-05-21T13:03:37.427190Z",
     "iopub.status.idle": "2023-05-21T13:03:37.455707Z",
     "shell.execute_reply": "2023-05-21T13:03:37.454570Z",
     "shell.execute_reply.started": "2023-05-21T13:03:37.427571Z"
    }
   },
   "outputs": [
    {
     "data": {
      "text/html": [
       "<div>\n",
       "<style scoped>\n",
       "    .dataframe tbody tr th:only-of-type {\n",
       "        vertical-align: middle;\n",
       "    }\n",
       "\n",
       "    .dataframe tbody tr th {\n",
       "        vertical-align: top;\n",
       "    }\n",
       "\n",
       "    .dataframe thead th {\n",
       "        text-align: right;\n",
       "    }\n",
       "</style>\n",
       "<table border=\"1\" class=\"dataframe\">\n",
       "  <thead>\n",
       "    <tr style=\"text-align: right;\">\n",
       "      <th></th>\n",
       "      <th>Quarter</th>\n",
       "      <th>Sales</th>\n",
       "      <th>quarter</th>\n",
       "      <th>Q1</th>\n",
       "      <th>Q2</th>\n",
       "      <th>Q3</th>\n",
       "      <th>Q4</th>\n",
       "      <th>t</th>\n",
       "      <th>t_square</th>\n",
       "      <th>log_Sales</th>\n",
       "    </tr>\n",
       "  </thead>\n",
       "  <tbody>\n",
       "    <tr>\n",
       "      <th>0</th>\n",
       "      <td>Q1_86</td>\n",
       "      <td>1734.827000</td>\n",
       "      <td>Q1</td>\n",
       "      <td>1</td>\n",
       "      <td>0</td>\n",
       "      <td>0</td>\n",
       "      <td>0</td>\n",
       "      <td>1</td>\n",
       "      <td>1</td>\n",
       "      <td>7.458663</td>\n",
       "    </tr>\n",
       "    <tr>\n",
       "      <th>1</th>\n",
       "      <td>Q2_86</td>\n",
       "      <td>2244.960999</td>\n",
       "      <td>Q2</td>\n",
       "      <td>0</td>\n",
       "      <td>1</td>\n",
       "      <td>0</td>\n",
       "      <td>0</td>\n",
       "      <td>2</td>\n",
       "      <td>4</td>\n",
       "      <td>7.716443</td>\n",
       "    </tr>\n",
       "    <tr>\n",
       "      <th>2</th>\n",
       "      <td>Q3_86</td>\n",
       "      <td>2533.804993</td>\n",
       "      <td>Q3</td>\n",
       "      <td>0</td>\n",
       "      <td>0</td>\n",
       "      <td>1</td>\n",
       "      <td>0</td>\n",
       "      <td>3</td>\n",
       "      <td>9</td>\n",
       "      <td>7.837477</td>\n",
       "    </tr>\n",
       "    <tr>\n",
       "      <th>3</th>\n",
       "      <td>Q4_86</td>\n",
       "      <td>2154.962997</td>\n",
       "      <td>Q4</td>\n",
       "      <td>0</td>\n",
       "      <td>0</td>\n",
       "      <td>0</td>\n",
       "      <td>1</td>\n",
       "      <td>4</td>\n",
       "      <td>16</td>\n",
       "      <td>7.675529</td>\n",
       "    </tr>\n",
       "    <tr>\n",
       "      <th>4</th>\n",
       "      <td>Q1_87</td>\n",
       "      <td>1547.818996</td>\n",
       "      <td>Q1</td>\n",
       "      <td>1</td>\n",
       "      <td>0</td>\n",
       "      <td>0</td>\n",
       "      <td>0</td>\n",
       "      <td>5</td>\n",
       "      <td>25</td>\n",
       "      <td>7.344602</td>\n",
       "    </tr>\n",
       "    <tr>\n",
       "      <th>5</th>\n",
       "      <td>Q2_87</td>\n",
       "      <td>2104.411995</td>\n",
       "      <td>Q2</td>\n",
       "      <td>0</td>\n",
       "      <td>1</td>\n",
       "      <td>0</td>\n",
       "      <td>0</td>\n",
       "      <td>6</td>\n",
       "      <td>36</td>\n",
       "      <td>7.651791</td>\n",
       "    </tr>\n",
       "    <tr>\n",
       "      <th>6</th>\n",
       "      <td>Q3_87</td>\n",
       "      <td>2014.362999</td>\n",
       "      <td>Q3</td>\n",
       "      <td>0</td>\n",
       "      <td>0</td>\n",
       "      <td>1</td>\n",
       "      <td>0</td>\n",
       "      <td>7</td>\n",
       "      <td>49</td>\n",
       "      <td>7.608058</td>\n",
       "    </tr>\n",
       "    <tr>\n",
       "      <th>7</th>\n",
       "      <td>Q4_87</td>\n",
       "      <td>1991.746998</td>\n",
       "      <td>Q4</td>\n",
       "      <td>0</td>\n",
       "      <td>0</td>\n",
       "      <td>0</td>\n",
       "      <td>1</td>\n",
       "      <td>8</td>\n",
       "      <td>64</td>\n",
       "      <td>7.596767</td>\n",
       "    </tr>\n",
       "    <tr>\n",
       "      <th>8</th>\n",
       "      <td>Q1_88</td>\n",
       "      <td>1869.049999</td>\n",
       "      <td>Q1</td>\n",
       "      <td>1</td>\n",
       "      <td>0</td>\n",
       "      <td>0</td>\n",
       "      <td>0</td>\n",
       "      <td>9</td>\n",
       "      <td>81</td>\n",
       "      <td>7.533186</td>\n",
       "    </tr>\n",
       "    <tr>\n",
       "      <th>9</th>\n",
       "      <td>Q2_88</td>\n",
       "      <td>2313.631996</td>\n",
       "      <td>Q2</td>\n",
       "      <td>0</td>\n",
       "      <td>1</td>\n",
       "      <td>0</td>\n",
       "      <td>0</td>\n",
       "      <td>10</td>\n",
       "      <td>100</td>\n",
       "      <td>7.746574</td>\n",
       "    </tr>\n",
       "    <tr>\n",
       "      <th>10</th>\n",
       "      <td>Q3_88</td>\n",
       "      <td>2128.320000</td>\n",
       "      <td>Q3</td>\n",
       "      <td>0</td>\n",
       "      <td>0</td>\n",
       "      <td>1</td>\n",
       "      <td>0</td>\n",
       "      <td>11</td>\n",
       "      <td>121</td>\n",
       "      <td>7.663088</td>\n",
       "    </tr>\n",
       "    <tr>\n",
       "      <th>11</th>\n",
       "      <td>Q4_88</td>\n",
       "      <td>2026.828999</td>\n",
       "      <td>Q4</td>\n",
       "      <td>0</td>\n",
       "      <td>0</td>\n",
       "      <td>0</td>\n",
       "      <td>1</td>\n",
       "      <td>12</td>\n",
       "      <td>144</td>\n",
       "      <td>7.614228</td>\n",
       "    </tr>\n",
       "    <tr>\n",
       "      <th>12</th>\n",
       "      <td>Q1_89</td>\n",
       "      <td>1910.603996</td>\n",
       "      <td>Q1</td>\n",
       "      <td>1</td>\n",
       "      <td>0</td>\n",
       "      <td>0</td>\n",
       "      <td>0</td>\n",
       "      <td>13</td>\n",
       "      <td>169</td>\n",
       "      <td>7.555175</td>\n",
       "    </tr>\n",
       "    <tr>\n",
       "      <th>13</th>\n",
       "      <td>Q2_89</td>\n",
       "      <td>2331.164993</td>\n",
       "      <td>Q2</td>\n",
       "      <td>0</td>\n",
       "      <td>1</td>\n",
       "      <td>0</td>\n",
       "      <td>0</td>\n",
       "      <td>14</td>\n",
       "      <td>196</td>\n",
       "      <td>7.754123</td>\n",
       "    </tr>\n",
       "    <tr>\n",
       "      <th>14</th>\n",
       "      <td>Q3_89</td>\n",
       "      <td>2206.549995</td>\n",
       "      <td>Q3</td>\n",
       "      <td>0</td>\n",
       "      <td>0</td>\n",
       "      <td>1</td>\n",
       "      <td>0</td>\n",
       "      <td>15</td>\n",
       "      <td>225</td>\n",
       "      <td>7.699185</td>\n",
       "    </tr>\n",
       "    <tr>\n",
       "      <th>15</th>\n",
       "      <td>Q4_89</td>\n",
       "      <td>2173.967995</td>\n",
       "      <td>Q4</td>\n",
       "      <td>0</td>\n",
       "      <td>0</td>\n",
       "      <td>0</td>\n",
       "      <td>1</td>\n",
       "      <td>16</td>\n",
       "      <td>256</td>\n",
       "      <td>7.684309</td>\n",
       "    </tr>\n",
       "    <tr>\n",
       "      <th>16</th>\n",
       "      <td>Q1_90</td>\n",
       "      <td>2148.278000</td>\n",
       "      <td>Q1</td>\n",
       "      <td>1</td>\n",
       "      <td>0</td>\n",
       "      <td>0</td>\n",
       "      <td>0</td>\n",
       "      <td>17</td>\n",
       "      <td>289</td>\n",
       "      <td>7.672422</td>\n",
       "    </tr>\n",
       "    <tr>\n",
       "      <th>17</th>\n",
       "      <td>Q2_90</td>\n",
       "      <td>2739.307999</td>\n",
       "      <td>Q2</td>\n",
       "      <td>0</td>\n",
       "      <td>1</td>\n",
       "      <td>0</td>\n",
       "      <td>0</td>\n",
       "      <td>18</td>\n",
       "      <td>324</td>\n",
       "      <td>7.915461</td>\n",
       "    </tr>\n",
       "    <tr>\n",
       "      <th>18</th>\n",
       "      <td>Q3_90</td>\n",
       "      <td>2792.753998</td>\n",
       "      <td>Q3</td>\n",
       "      <td>0</td>\n",
       "      <td>0</td>\n",
       "      <td>1</td>\n",
       "      <td>0</td>\n",
       "      <td>19</td>\n",
       "      <td>361</td>\n",
       "      <td>7.934783</td>\n",
       "    </tr>\n",
       "    <tr>\n",
       "      <th>19</th>\n",
       "      <td>Q4_90</td>\n",
       "      <td>2556.009995</td>\n",
       "      <td>Q4</td>\n",
       "      <td>0</td>\n",
       "      <td>0</td>\n",
       "      <td>0</td>\n",
       "      <td>1</td>\n",
       "      <td>20</td>\n",
       "      <td>400</td>\n",
       "      <td>7.846203</td>\n",
       "    </tr>\n",
       "    <tr>\n",
       "      <th>20</th>\n",
       "      <td>Q1_91</td>\n",
       "      <td>2480.973999</td>\n",
       "      <td>Q1</td>\n",
       "      <td>1</td>\n",
       "      <td>0</td>\n",
       "      <td>0</td>\n",
       "      <td>0</td>\n",
       "      <td>21</td>\n",
       "      <td>441</td>\n",
       "      <td>7.816407</td>\n",
       "    </tr>\n",
       "    <tr>\n",
       "      <th>21</th>\n",
       "      <td>Q2_91</td>\n",
       "      <td>3039.522995</td>\n",
       "      <td>Q2</td>\n",
       "      <td>0</td>\n",
       "      <td>1</td>\n",
       "      <td>0</td>\n",
       "      <td>0</td>\n",
       "      <td>22</td>\n",
       "      <td>484</td>\n",
       "      <td>8.019456</td>\n",
       "    </tr>\n",
       "    <tr>\n",
       "      <th>22</th>\n",
       "      <td>Q3_91</td>\n",
       "      <td>3172.115997</td>\n",
       "      <td>Q3</td>\n",
       "      <td>0</td>\n",
       "      <td>0</td>\n",
       "      <td>1</td>\n",
       "      <td>0</td>\n",
       "      <td>23</td>\n",
       "      <td>529</td>\n",
       "      <td>8.062154</td>\n",
       "    </tr>\n",
       "    <tr>\n",
       "      <th>23</th>\n",
       "      <td>Q4_91</td>\n",
       "      <td>2879.000999</td>\n",
       "      <td>Q4</td>\n",
       "      <td>0</td>\n",
       "      <td>0</td>\n",
       "      <td>0</td>\n",
       "      <td>1</td>\n",
       "      <td>24</td>\n",
       "      <td>576</td>\n",
       "      <td>7.965199</td>\n",
       "    </tr>\n",
       "    <tr>\n",
       "      <th>24</th>\n",
       "      <td>Q1_92</td>\n",
       "      <td>2772.000000</td>\n",
       "      <td>Q1</td>\n",
       "      <td>1</td>\n",
       "      <td>0</td>\n",
       "      <td>0</td>\n",
       "      <td>0</td>\n",
       "      <td>25</td>\n",
       "      <td>625</td>\n",
       "      <td>7.927324</td>\n",
       "    </tr>\n",
       "    <tr>\n",
       "      <th>25</th>\n",
       "      <td>Q2_92</td>\n",
       "      <td>3550.000000</td>\n",
       "      <td>Q2</td>\n",
       "      <td>0</td>\n",
       "      <td>1</td>\n",
       "      <td>0</td>\n",
       "      <td>0</td>\n",
       "      <td>26</td>\n",
       "      <td>676</td>\n",
       "      <td>8.174703</td>\n",
       "    </tr>\n",
       "    <tr>\n",
       "      <th>26</th>\n",
       "      <td>Q3_92</td>\n",
       "      <td>3508.000000</td>\n",
       "      <td>Q3</td>\n",
       "      <td>0</td>\n",
       "      <td>0</td>\n",
       "      <td>1</td>\n",
       "      <td>0</td>\n",
       "      <td>27</td>\n",
       "      <td>729</td>\n",
       "      <td>8.162801</td>\n",
       "    </tr>\n",
       "    <tr>\n",
       "      <th>27</th>\n",
       "      <td>Q4_92</td>\n",
       "      <td>3243.859993</td>\n",
       "      <td>Q4</td>\n",
       "      <td>0</td>\n",
       "      <td>0</td>\n",
       "      <td>0</td>\n",
       "      <td>1</td>\n",
       "      <td>28</td>\n",
       "      <td>784</td>\n",
       "      <td>8.084519</td>\n",
       "    </tr>\n",
       "    <tr>\n",
       "      <th>28</th>\n",
       "      <td>Q1_93</td>\n",
       "      <td>3056.000000</td>\n",
       "      <td>Q1</td>\n",
       "      <td>1</td>\n",
       "      <td>0</td>\n",
       "      <td>0</td>\n",
       "      <td>0</td>\n",
       "      <td>29</td>\n",
       "      <td>841</td>\n",
       "      <td>8.024862</td>\n",
       "    </tr>\n",
       "    <tr>\n",
       "      <th>29</th>\n",
       "      <td>Q2_93</td>\n",
       "      <td>3899.000000</td>\n",
       "      <td>Q2</td>\n",
       "      <td>0</td>\n",
       "      <td>1</td>\n",
       "      <td>0</td>\n",
       "      <td>0</td>\n",
       "      <td>30</td>\n",
       "      <td>900</td>\n",
       "      <td>8.268475</td>\n",
       "    </tr>\n",
       "    <tr>\n",
       "      <th>30</th>\n",
       "      <td>Q3_93</td>\n",
       "      <td>3629.000000</td>\n",
       "      <td>Q3</td>\n",
       "      <td>0</td>\n",
       "      <td>0</td>\n",
       "      <td>1</td>\n",
       "      <td>0</td>\n",
       "      <td>31</td>\n",
       "      <td>961</td>\n",
       "      <td>8.196712</td>\n",
       "    </tr>\n",
       "    <tr>\n",
       "      <th>31</th>\n",
       "      <td>Q4_93</td>\n",
       "      <td>3373.000000</td>\n",
       "      <td>Q4</td>\n",
       "      <td>0</td>\n",
       "      <td>0</td>\n",
       "      <td>0</td>\n",
       "      <td>1</td>\n",
       "      <td>32</td>\n",
       "      <td>1024</td>\n",
       "      <td>8.123558</td>\n",
       "    </tr>\n",
       "    <tr>\n",
       "      <th>32</th>\n",
       "      <td>Q1_94</td>\n",
       "      <td>3352.000000</td>\n",
       "      <td>Q1</td>\n",
       "      <td>1</td>\n",
       "      <td>0</td>\n",
       "      <td>0</td>\n",
       "      <td>0</td>\n",
       "      <td>33</td>\n",
       "      <td>1089</td>\n",
       "      <td>8.117312</td>\n",
       "    </tr>\n",
       "    <tr>\n",
       "      <th>33</th>\n",
       "      <td>Q2_94</td>\n",
       "      <td>4342.000000</td>\n",
       "      <td>Q2</td>\n",
       "      <td>0</td>\n",
       "      <td>1</td>\n",
       "      <td>0</td>\n",
       "      <td>0</td>\n",
       "      <td>34</td>\n",
       "      <td>1156</td>\n",
       "      <td>8.376090</td>\n",
       "    </tr>\n",
       "  </tbody>\n",
       "</table>\n",
       "</div>"
      ],
      "text/plain": [
       "   Quarter        Sales quarter  Q1  Q2  Q3  Q4   t  t_square  log_Sales\n",
       "0    Q1_86  1734.827000      Q1   1   0   0   0   1         1   7.458663\n",
       "1    Q2_86  2244.960999      Q2   0   1   0   0   2         4   7.716443\n",
       "2    Q3_86  2533.804993      Q3   0   0   1   0   3         9   7.837477\n",
       "3    Q4_86  2154.962997      Q4   0   0   0   1   4        16   7.675529\n",
       "4    Q1_87  1547.818996      Q1   1   0   0   0   5        25   7.344602\n",
       "5    Q2_87  2104.411995      Q2   0   1   0   0   6        36   7.651791\n",
       "6    Q3_87  2014.362999      Q3   0   0   1   0   7        49   7.608058\n",
       "7    Q4_87  1991.746998      Q4   0   0   0   1   8        64   7.596767\n",
       "8    Q1_88  1869.049999      Q1   1   0   0   0   9        81   7.533186\n",
       "9    Q2_88  2313.631996      Q2   0   1   0   0  10       100   7.746574\n",
       "10   Q3_88  2128.320000      Q3   0   0   1   0  11       121   7.663088\n",
       "11   Q4_88  2026.828999      Q4   0   0   0   1  12       144   7.614228\n",
       "12   Q1_89  1910.603996      Q1   1   0   0   0  13       169   7.555175\n",
       "13   Q2_89  2331.164993      Q2   0   1   0   0  14       196   7.754123\n",
       "14   Q3_89  2206.549995      Q3   0   0   1   0  15       225   7.699185\n",
       "15   Q4_89  2173.967995      Q4   0   0   0   1  16       256   7.684309\n",
       "16   Q1_90  2148.278000      Q1   1   0   0   0  17       289   7.672422\n",
       "17   Q2_90  2739.307999      Q2   0   1   0   0  18       324   7.915461\n",
       "18   Q3_90  2792.753998      Q3   0   0   1   0  19       361   7.934783\n",
       "19   Q4_90  2556.009995      Q4   0   0   0   1  20       400   7.846203\n",
       "20   Q1_91  2480.973999      Q1   1   0   0   0  21       441   7.816407\n",
       "21   Q2_91  3039.522995      Q2   0   1   0   0  22       484   8.019456\n",
       "22   Q3_91  3172.115997      Q3   0   0   1   0  23       529   8.062154\n",
       "23   Q4_91  2879.000999      Q4   0   0   0   1  24       576   7.965199\n",
       "24   Q1_92  2772.000000      Q1   1   0   0   0  25       625   7.927324\n",
       "25   Q2_92  3550.000000      Q2   0   1   0   0  26       676   8.174703\n",
       "26   Q3_92  3508.000000      Q3   0   0   1   0  27       729   8.162801\n",
       "27   Q4_92  3243.859993      Q4   0   0   0   1  28       784   8.084519\n",
       "28   Q1_93  3056.000000      Q1   1   0   0   0  29       841   8.024862\n",
       "29   Q2_93  3899.000000      Q2   0   1   0   0  30       900   8.268475\n",
       "30   Q3_93  3629.000000      Q3   0   0   1   0  31       961   8.196712\n",
       "31   Q4_93  3373.000000      Q4   0   0   0   1  32      1024   8.123558\n",
       "32   Q1_94  3352.000000      Q1   1   0   0   0  33      1089   8.117312\n",
       "33   Q2_94  4342.000000      Q2   0   1   0   0  34      1156   8.376090"
      ]
     },
     "execution_count": 24,
     "metadata": {},
     "output_type": "execute_result"
    }
   ],
   "source": [
    "Train"
   ]
  },
  {
   "cell_type": "code",
   "execution_count": 25,
   "metadata": {
    "ExecuteTime": {
     "end_time": "2021-08-04T09:52:51.042607Z",
     "start_time": "2021-08-04T09:52:51.029641Z"
    },
    "execution": {
     "iopub.execute_input": "2023-05-21T13:03:37.457221Z",
     "iopub.status.busy": "2023-05-21T13:03:37.456867Z",
     "iopub.status.idle": "2023-05-21T13:03:37.476697Z",
     "shell.execute_reply": "2023-05-21T13:03:37.475555Z",
     "shell.execute_reply.started": "2023-05-21T13:03:37.457155Z"
    }
   },
   "outputs": [
    {
     "data": {
      "text/html": [
       "<div>\n",
       "<style scoped>\n",
       "    .dataframe tbody tr th:only-of-type {\n",
       "        vertical-align: middle;\n",
       "    }\n",
       "\n",
       "    .dataframe tbody tr th {\n",
       "        vertical-align: top;\n",
       "    }\n",
       "\n",
       "    .dataframe thead th {\n",
       "        text-align: right;\n",
       "    }\n",
       "</style>\n",
       "<table border=\"1\" class=\"dataframe\">\n",
       "  <thead>\n",
       "    <tr style=\"text-align: right;\">\n",
       "      <th></th>\n",
       "      <th>Quarter</th>\n",
       "      <th>Sales</th>\n",
       "      <th>quarter</th>\n",
       "      <th>Q1</th>\n",
       "      <th>Q2</th>\n",
       "      <th>Q3</th>\n",
       "      <th>Q4</th>\n",
       "      <th>t</th>\n",
       "      <th>t_square</th>\n",
       "      <th>log_Sales</th>\n",
       "    </tr>\n",
       "  </thead>\n",
       "  <tbody>\n",
       "    <tr>\n",
       "      <th>34</th>\n",
       "      <td>Q3_94</td>\n",
       "      <td>4461.0</td>\n",
       "      <td>Q3</td>\n",
       "      <td>0</td>\n",
       "      <td>0</td>\n",
       "      <td>1</td>\n",
       "      <td>0</td>\n",
       "      <td>35</td>\n",
       "      <td>1225</td>\n",
       "      <td>8.403128</td>\n",
       "    </tr>\n",
       "    <tr>\n",
       "      <th>35</th>\n",
       "      <td>Q4_94</td>\n",
       "      <td>4017.0</td>\n",
       "      <td>Q4</td>\n",
       "      <td>0</td>\n",
       "      <td>0</td>\n",
       "      <td>0</td>\n",
       "      <td>1</td>\n",
       "      <td>36</td>\n",
       "      <td>1296</td>\n",
       "      <td>8.298291</td>\n",
       "    </tr>\n",
       "    <tr>\n",
       "      <th>36</th>\n",
       "      <td>Q1_95</td>\n",
       "      <td>3854.0</td>\n",
       "      <td>Q1</td>\n",
       "      <td>1</td>\n",
       "      <td>0</td>\n",
       "      <td>0</td>\n",
       "      <td>0</td>\n",
       "      <td>37</td>\n",
       "      <td>1369</td>\n",
       "      <td>8.256867</td>\n",
       "    </tr>\n",
       "    <tr>\n",
       "      <th>37</th>\n",
       "      <td>Q2_95</td>\n",
       "      <td>4936.0</td>\n",
       "      <td>Q2</td>\n",
       "      <td>0</td>\n",
       "      <td>1</td>\n",
       "      <td>0</td>\n",
       "      <td>0</td>\n",
       "      <td>38</td>\n",
       "      <td>1444</td>\n",
       "      <td>8.504311</td>\n",
       "    </tr>\n",
       "  </tbody>\n",
       "</table>\n",
       "</div>"
      ],
      "text/plain": [
       "   Quarter   Sales quarter  Q1  Q2  Q3  Q4   t  t_square  log_Sales\n",
       "34   Q3_94  4461.0      Q3   0   0   1   0  35      1225   8.403128\n",
       "35   Q4_94  4017.0      Q4   0   0   0   1  36      1296   8.298291\n",
       "36   Q1_95  3854.0      Q1   1   0   0   0  37      1369   8.256867\n",
       "37   Q2_95  4936.0      Q2   0   1   0   0  38      1444   8.504311"
      ]
     },
     "execution_count": 25,
     "metadata": {},
     "output_type": "execute_result"
    }
   ],
   "source": [
    "Test"
   ]
  },
  {
   "cell_type": "code",
   "execution_count": 26,
   "metadata": {
    "ExecuteTime": {
     "end_time": "2021-08-04T09:52:59.305498Z",
     "start_time": "2021-08-04T09:52:59.289512Z"
    },
    "execution": {
     "iopub.execute_input": "2023-05-21T13:03:37.478560Z",
     "iopub.status.busy": "2023-05-21T13:03:37.478179Z",
     "iopub.status.idle": "2023-05-21T13:03:37.497989Z",
     "shell.execute_reply": "2023-05-21T13:03:37.496876Z",
     "shell.execute_reply.started": "2023-05-21T13:03:37.478519Z"
    }
   },
   "outputs": [
    {
     "data": {
      "text/html": [
       "<div>\n",
       "<style scoped>\n",
       "    .dataframe tbody tr th:only-of-type {\n",
       "        vertical-align: middle;\n",
       "    }\n",
       "\n",
       "    .dataframe tbody tr th {\n",
       "        vertical-align: top;\n",
       "    }\n",
       "\n",
       "    .dataframe thead th {\n",
       "        text-align: right;\n",
       "    }\n",
       "</style>\n",
       "<table border=\"1\" class=\"dataframe\">\n",
       "  <thead>\n",
       "    <tr style=\"text-align: right;\">\n",
       "      <th></th>\n",
       "      <th>Quarter</th>\n",
       "      <th>Sales</th>\n",
       "      <th>quarter</th>\n",
       "      <th>Q1</th>\n",
       "      <th>Q2</th>\n",
       "      <th>Q3</th>\n",
       "      <th>Q4</th>\n",
       "      <th>t</th>\n",
       "      <th>t_square</th>\n",
       "      <th>log_Sales</th>\n",
       "    </tr>\n",
       "  </thead>\n",
       "  <tbody>\n",
       "    <tr>\n",
       "      <th>38</th>\n",
       "      <td>Q3_95</td>\n",
       "      <td>4895.0</td>\n",
       "      <td>Q3</td>\n",
       "      <td>0</td>\n",
       "      <td>0</td>\n",
       "      <td>1</td>\n",
       "      <td>0</td>\n",
       "      <td>39</td>\n",
       "      <td>1521</td>\n",
       "      <td>8.495970</td>\n",
       "    </tr>\n",
       "    <tr>\n",
       "      <th>39</th>\n",
       "      <td>Q4_95</td>\n",
       "      <td>4333.0</td>\n",
       "      <td>Q4</td>\n",
       "      <td>0</td>\n",
       "      <td>0</td>\n",
       "      <td>0</td>\n",
       "      <td>1</td>\n",
       "      <td>40</td>\n",
       "      <td>1600</td>\n",
       "      <td>8.374015</td>\n",
       "    </tr>\n",
       "    <tr>\n",
       "      <th>40</th>\n",
       "      <td>Q1_96</td>\n",
       "      <td>4194.0</td>\n",
       "      <td>Q1</td>\n",
       "      <td>1</td>\n",
       "      <td>0</td>\n",
       "      <td>0</td>\n",
       "      <td>0</td>\n",
       "      <td>41</td>\n",
       "      <td>1681</td>\n",
       "      <td>8.341410</td>\n",
       "    </tr>\n",
       "    <tr>\n",
       "      <th>41</th>\n",
       "      <td>Q2_96</td>\n",
       "      <td>5253.0</td>\n",
       "      <td>Q2</td>\n",
       "      <td>0</td>\n",
       "      <td>1</td>\n",
       "      <td>0</td>\n",
       "      <td>0</td>\n",
       "      <td>42</td>\n",
       "      <td>1764</td>\n",
       "      <td>8.566555</td>\n",
       "    </tr>\n",
       "  </tbody>\n",
       "</table>\n",
       "</div>"
      ],
      "text/plain": [
       "   Quarter   Sales quarter  Q1  Q2  Q3  Q4   t  t_square  log_Sales\n",
       "38   Q3_95  4895.0      Q3   0   0   1   0  39      1521   8.495970\n",
       "39   Q4_95  4333.0      Q4   0   0   0   1  40      1600   8.374015\n",
       "40   Q1_96  4194.0      Q1   1   0   0   0  41      1681   8.341410\n",
       "41   Q2_96  5253.0      Q2   0   1   0   0  42      1764   8.566555"
      ]
     },
     "execution_count": 26,
     "metadata": {},
     "output_type": "execute_result"
    }
   ],
   "source": [
    "predict_data"
   ]
  },
  {
   "cell_type": "code",
   "execution_count": 27,
   "metadata": {
    "ExecuteTime": {
     "end_time": "2021-08-04T09:54:03.077585Z",
     "start_time": "2021-08-04T09:54:02.975334Z"
    },
    "execution": {
     "iopub.execute_input": "2023-05-21T13:03:37.504936Z",
     "iopub.status.busy": "2023-05-21T13:03:37.504548Z",
     "iopub.status.idle": "2023-05-21T13:03:37.533774Z",
     "shell.execute_reply": "2023-05-21T13:03:37.532576Z",
     "shell.execute_reply.started": "2023-05-21T13:03:37.504903Z"
    }
   },
   "outputs": [
    {
     "data": {
      "text/plain": [
       "669.4685590402657"
      ]
     },
     "execution_count": 27,
     "metadata": {},
     "output_type": "execute_result"
    }
   ],
   "source": [
    "# # Build Model & Calculate RMSE Values\n",
    "## linear model\n",
    "linear_model = smf.ols('Sales~t',data=Train).fit()\n",
    "pred_linear =  pd.Series(linear_model.predict(pd.DataFrame(Test['t'])))\n",
    "rmse_linear = np.sqrt(np.mean((np.array(Test['Sales'])-np.array(pred_linear))**2))\n",
    "rmse_linear"
   ]
  },
  {
   "cell_type": "code",
   "execution_count": 28,
   "metadata": {
    "ExecuteTime": {
     "end_time": "2021-08-04T09:54:55.428271Z",
     "start_time": "2021-08-04T09:54:55.399347Z"
    },
    "execution": {
     "iopub.execute_input": "2023-05-21T13:03:37.535385Z",
     "iopub.status.busy": "2023-05-21T13:03:37.535002Z",
     "iopub.status.idle": "2023-05-21T13:03:37.555465Z",
     "shell.execute_reply": "2023-05-21T13:03:37.554233Z",
     "shell.execute_reply.started": "2023-05-21T13:03:37.535353Z"
    }
   },
   "outputs": [
    {
     "data": {
      "text/plain": [
       "564.5012993862682"
      ]
     },
     "execution_count": 28,
     "metadata": {},
     "output_type": "execute_result"
    }
   ],
   "source": [
    "## exponential\n",
    "Exp = smf.ols('log_Sales~t',data=Train).fit()\n",
    "pred_Exp = pd.Series(Exp.predict(pd.DataFrame(Test['t'])))\n",
    "rmse_Exp = np.sqrt(np.mean((np.array(Test['Sales'])-np.array(np.exp(pred_Exp)))**2))\n",
    "rmse_Exp"
   ]
  },
  {
   "cell_type": "code",
   "execution_count": 29,
   "metadata": {
    "ExecuteTime": {
     "end_time": "2021-08-04T09:55:18.020966Z",
     "start_time": "2021-08-04T09:55:17.993041Z"
    },
    "execution": {
     "iopub.execute_input": "2023-05-21T13:03:37.557794Z",
     "iopub.status.busy": "2023-05-21T13:03:37.557405Z",
     "iopub.status.idle": "2023-05-21T13:03:37.584773Z",
     "shell.execute_reply": "2023-05-21T13:03:37.583694Z",
     "shell.execute_reply.started": "2023-05-21T13:03:37.557761Z"
    }
   },
   "outputs": [
    {
     "data": {
      "text/plain": [
       "394.67472775414996"
      ]
     },
     "execution_count": 29,
     "metadata": {},
     "output_type": "execute_result"
    }
   ],
   "source": [
    "## Quadratic\n",
    "Quad = smf.ols('Sales~t+t_square',data=Train).fit()\n",
    "pred_Quad = pd.Series(Quad.predict(Test[[\"t\",\"t_square\"]]))\n",
    "rmse_Quad = np.sqrt(np.mean((np.array(Test['Sales'])-np.array(pred_Quad))**2))\n",
    "rmse_Quad"
   ]
  },
  {
   "cell_type": "code",
   "execution_count": 30,
   "metadata": {
    "ExecuteTime": {
     "end_time": "2021-08-04T09:56:01.394493Z",
     "start_time": "2021-08-04T09:56:01.367377Z"
    },
    "execution": {
     "iopub.execute_input": "2023-05-21T13:03:37.586686Z",
     "iopub.status.busy": "2023-05-21T13:03:37.586368Z",
     "iopub.status.idle": "2023-05-21T13:03:37.616734Z",
     "shell.execute_reply": "2023-05-21T13:03:37.615651Z",
     "shell.execute_reply.started": "2023-05-21T13:03:37.586657Z"
    }
   },
   "outputs": [
    {
     "data": {
      "text/plain": [
       "1686.7389646362892"
      ]
     },
     "execution_count": 30,
     "metadata": {},
     "output_type": "execute_result"
    }
   ],
   "source": [
    "## addative seasonality\n",
    "add_sea = smf.ols('Sales~Q1+Q2+Q3+Q4',data=Train).fit()\n",
    "pred_add_sea = pd.Series(add_sea.predict(Test[['Q1','Q2','Q3','Q4']]))\n",
    "rmse_add_sea = np.sqrt(np.mean((np.array(Test['Sales'])-np.array(pred_add_sea))**2))\n",
    "rmse_add_sea"
   ]
  },
  {
   "cell_type": "code",
   "execution_count": 31,
   "metadata": {
    "ExecuteTime": {
     "end_time": "2021-08-04T09:56:19.511362Z",
     "start_time": "2021-08-04T09:56:19.466045Z"
    },
    "execution": {
     "iopub.execute_input": "2023-05-21T13:03:37.618706Z",
     "iopub.status.busy": "2023-05-21T13:03:37.618382Z",
     "iopub.status.idle": "2023-05-21T13:03:37.654307Z",
     "shell.execute_reply": "2023-05-21T13:03:37.653231Z",
     "shell.execute_reply.started": "2023-05-21T13:03:37.618675Z"
    }
   },
   "outputs": [
    {
     "data": {
      "text/plain": [
       "174.88610047128887"
      ]
     },
     "execution_count": 31,
     "metadata": {},
     "output_type": "execute_result"
    }
   ],
   "source": [
    "## Additive Seasonality Quadratic \n",
    "add_sea_Quad = smf.ols('Sales~t+t_square+Q1+Q2+Q3+Q4',data=Train).fit()\n",
    "pred_add_sea_quad = pd.Series(add_sea_Quad.predict(Test[['Q1','Q2','Q3','Q4','t','t_square']]))\n",
    "rmse_add_sea_quad = np.sqrt(np.mean((np.array(Test['Sales'])-np.array(pred_add_sea_quad))**2))\n",
    "rmse_add_sea_quad"
   ]
  },
  {
   "cell_type": "code",
   "execution_count": 32,
   "metadata": {
    "ExecuteTime": {
     "end_time": "2021-08-04T09:56:45.195018Z",
     "start_time": "2021-08-04T09:56:45.158117Z"
    },
    "execution": {
     "iopub.execute_input": "2023-05-21T13:03:37.656602Z",
     "iopub.status.busy": "2023-05-21T13:03:37.656270Z",
     "iopub.status.idle": "2023-05-21T13:03:37.684838Z",
     "shell.execute_reply": "2023-05-21T13:03:37.683748Z",
     "shell.execute_reply.started": "2023-05-21T13:03:37.656573Z"
    }
   },
   "outputs": [
    {
     "data": {
      "text/plain": [
       "1757.7740414202333"
      ]
     },
     "execution_count": 32,
     "metadata": {},
     "output_type": "execute_result"
    }
   ],
   "source": [
    "# Multiplicative Seasonality\n",
    "Mul_sea = smf.ols('log_Sales~Q1+Q2+Q3+Q4',data = Train).fit()\n",
    "pred_Mult_sea = pd.Series(Mul_sea.predict(Test))\n",
    "rmse_Mult_sea = np.sqrt(np.mean((np.array(Test['Sales'])-np.array(np.exp(pred_Mult_sea)))**2))\n",
    "rmse_Mult_sea"
   ]
  },
  {
   "cell_type": "code",
   "execution_count": 33,
   "metadata": {
    "ExecuteTime": {
     "end_time": "2021-08-04T09:57:10.083329Z",
     "start_time": "2021-08-04T09:57:10.055381Z"
    },
    "execution": {
     "iopub.execute_input": "2023-05-21T13:03:37.686979Z",
     "iopub.status.busy": "2023-05-21T13:03:37.686675Z",
     "iopub.status.idle": "2023-05-21T13:03:37.716976Z",
     "shell.execute_reply": "2023-05-21T13:03:37.715653Z",
     "shell.execute_reply.started": "2023-05-21T13:03:37.686952Z"
    }
   },
   "outputs": [
    {
     "data": {
      "text/plain": [
       "404.5642262159504"
      ]
     },
     "execution_count": 33,
     "metadata": {},
     "output_type": "execute_result"
    }
   ],
   "source": [
    "## Multiplicative Additive Seasonality \n",
    "Mul_Add_sea = smf.ols('log_Sales~t+Q1+Q2+Q3+Q4',data = Train).fit()\n",
    "pred_Mult_add_sea = pd.Series(Mul_Add_sea.predict(Test))\n",
    "rmse_Mult_add_sea = np.sqrt(np.mean((np.array(Test['Sales'])-np.array(np.exp(pred_Mult_add_sea)))**2))\n",
    "rmse_Mult_add_sea"
   ]
  },
  {
   "cell_type": "code",
   "execution_count": 34,
   "metadata": {
    "ExecuteTime": {
     "end_time": "2021-08-04T09:57:31.941913Z",
     "start_time": "2021-08-04T09:57:31.929913Z"
    },
    "execution": {
     "iopub.execute_input": "2023-05-21T13:03:37.718895Z",
     "iopub.status.busy": "2023-05-21T13:03:37.718565Z",
     "iopub.status.idle": "2023-05-21T13:03:37.732274Z",
     "shell.execute_reply": "2023-05-21T13:03:37.731036Z",
     "shell.execute_reply.started": "2023-05-21T13:03:37.718864Z"
    }
   },
   "outputs": [
    {
     "data": {
      "text/html": [
       "<div>\n",
       "<style scoped>\n",
       "    .dataframe tbody tr th:only-of-type {\n",
       "        vertical-align: middle;\n",
       "    }\n",
       "\n",
       "    .dataframe tbody tr th {\n",
       "        vertical-align: top;\n",
       "    }\n",
       "\n",
       "    .dataframe thead th {\n",
       "        text-align: right;\n",
       "    }\n",
       "</style>\n",
       "<table border=\"1\" class=\"dataframe\">\n",
       "  <thead>\n",
       "    <tr style=\"text-align: right;\">\n",
       "      <th></th>\n",
       "      <th>MODEL</th>\n",
       "      <th>RMSE_Values</th>\n",
       "    </tr>\n",
       "  </thead>\n",
       "  <tbody>\n",
       "    <tr>\n",
       "      <th>4</th>\n",
       "      <td>rmse_add_sea_quad</td>\n",
       "      <td>174.886100</td>\n",
       "    </tr>\n",
       "    <tr>\n",
       "      <th>2</th>\n",
       "      <td>rmse_Quad</td>\n",
       "      <td>394.674728</td>\n",
       "    </tr>\n",
       "    <tr>\n",
       "      <th>6</th>\n",
       "      <td>rmse_Mult_add_sea</td>\n",
       "      <td>404.564226</td>\n",
       "    </tr>\n",
       "    <tr>\n",
       "      <th>1</th>\n",
       "      <td>rmse_Exp</td>\n",
       "      <td>564.501299</td>\n",
       "    </tr>\n",
       "    <tr>\n",
       "      <th>0</th>\n",
       "      <td>rmse_linear</td>\n",
       "      <td>669.468559</td>\n",
       "    </tr>\n",
       "    <tr>\n",
       "      <th>3</th>\n",
       "      <td>rmse_add_sea</td>\n",
       "      <td>1686.738965</td>\n",
       "    </tr>\n",
       "    <tr>\n",
       "      <th>5</th>\n",
       "      <td>rmse_Mult_sea</td>\n",
       "      <td>1757.774041</td>\n",
       "    </tr>\n",
       "  </tbody>\n",
       "</table>\n",
       "</div>"
      ],
      "text/plain": [
       "               MODEL  RMSE_Values\n",
       "4  rmse_add_sea_quad   174.886100\n",
       "2          rmse_Quad   394.674728\n",
       "6  rmse_Mult_add_sea   404.564226\n",
       "1           rmse_Exp   564.501299\n",
       "0        rmse_linear   669.468559\n",
       "3       rmse_add_sea  1686.738965\n",
       "5      rmse_Mult_sea  1757.774041"
      ]
     },
     "execution_count": 34,
     "metadata": {},
     "output_type": "execute_result"
    }
   ],
   "source": [
    "## Compare the results \n",
    "data = {\"MODEL\":pd.Series([\"rmse_linear\",\"rmse_Exp\",\"rmse_Quad\",\"rmse_add_sea\",\"rmse_add_sea_quad\",\"rmse_Mult_sea\",\"rmse_Mult_add_sea\"]),\"RMSE_Values\":pd.Series([rmse_linear,rmse_Exp,rmse_Quad,rmse_add_sea,rmse_add_sea_quad,rmse_Mult_sea,rmse_Mult_add_sea])}\n",
    "table_rmse=pd.DataFrame(data)\n",
    "table_rmse.sort_values(['RMSE_Values'])"
   ]
  },
  {
   "cell_type": "code",
   "execution_count": 35,
   "metadata": {
    "ExecuteTime": {
     "end_time": "2021-08-04T09:57:46.574044Z",
     "start_time": "2021-08-04T09:57:46.562045Z"
    },
    "execution": {
     "iopub.execute_input": "2023-05-21T13:03:37.734525Z",
     "iopub.status.busy": "2023-05-21T13:03:37.733928Z",
     "iopub.status.idle": "2023-05-21T13:03:37.756335Z",
     "shell.execute_reply": "2023-05-21T13:03:37.754903Z",
     "shell.execute_reply.started": "2023-05-21T13:03:37.734494Z"
    }
   },
   "outputs": [
    {
     "data": {
      "text/html": [
       "<div>\n",
       "<style scoped>\n",
       "    .dataframe tbody tr th:only-of-type {\n",
       "        vertical-align: middle;\n",
       "    }\n",
       "\n",
       "    .dataframe tbody tr th {\n",
       "        vertical-align: top;\n",
       "    }\n",
       "\n",
       "    .dataframe thead th {\n",
       "        text-align: right;\n",
       "    }\n",
       "</style>\n",
       "<table border=\"1\" class=\"dataframe\">\n",
       "  <thead>\n",
       "    <tr style=\"text-align: right;\">\n",
       "      <th></th>\n",
       "      <th>MODEL</th>\n",
       "      <th>RMSE_Values</th>\n",
       "    </tr>\n",
       "  </thead>\n",
       "  <tbody>\n",
       "    <tr>\n",
       "      <th>4</th>\n",
       "      <td>rmse_add_sea_quad</td>\n",
       "      <td>174.886100</td>\n",
       "    </tr>\n",
       "    <tr>\n",
       "      <th>2</th>\n",
       "      <td>rmse_Quad</td>\n",
       "      <td>394.674728</td>\n",
       "    </tr>\n",
       "    <tr>\n",
       "      <th>6</th>\n",
       "      <td>rmse_Mult_add_sea</td>\n",
       "      <td>404.564226</td>\n",
       "    </tr>\n",
       "    <tr>\n",
       "      <th>1</th>\n",
       "      <td>rmse_Exp</td>\n",
       "      <td>564.501299</td>\n",
       "    </tr>\n",
       "    <tr>\n",
       "      <th>0</th>\n",
       "      <td>rmse_linear</td>\n",
       "      <td>669.468559</td>\n",
       "    </tr>\n",
       "    <tr>\n",
       "      <th>3</th>\n",
       "      <td>rmse_add_sea</td>\n",
       "      <td>1686.738965</td>\n",
       "    </tr>\n",
       "    <tr>\n",
       "      <th>5</th>\n",
       "      <td>rmse_Mult_sea</td>\n",
       "      <td>1757.774041</td>\n",
       "    </tr>\n",
       "  </tbody>\n",
       "</table>\n",
       "</div>"
      ],
      "text/plain": [
       "               MODEL  RMSE_Values\n",
       "4  rmse_add_sea_quad   174.886100\n",
       "2          rmse_Quad   394.674728\n",
       "6  rmse_Mult_add_sea   404.564226\n",
       "1           rmse_Exp   564.501299\n",
       "0        rmse_linear   669.468559\n",
       "3       rmse_add_sea  1686.738965\n",
       "5      rmse_Mult_sea  1757.774041"
      ]
     },
     "execution_count": 35,
     "metadata": {},
     "output_type": "execute_result"
    }
   ],
   "source": [
    "data = {\"MODEL\":pd.Series([\"rmse_linear\",\"rmse_Exp\",\"rmse_Quad\",\"rmse_add_sea\",\"rmse_add_sea_quad\",\"rmse_Mult_sea\",\"rmse_Mult_add_sea\"]),\"RMSE_Values\":pd.Series([rmse_linear,rmse_Exp,rmse_Quad,rmse_add_sea,rmse_add_sea_quad,rmse_Mult_sea,rmse_Mult_add_sea])}\n",
    "table_rmse=pd.DataFrame(data)\n",
    "table_rmse.sort_values(['RMSE_Values'])"
   ]
  },
  {
   "cell_type": "code",
   "execution_count": 36,
   "metadata": {
    "ExecuteTime": {
     "end_time": "2021-08-04T09:58:02.854024Z",
     "start_time": "2021-08-04T09:58:02.836073Z"
    },
    "execution": {
     "iopub.execute_input": "2023-05-21T13:03:37.758990Z",
     "iopub.status.busy": "2023-05-21T13:03:37.758100Z",
     "iopub.status.idle": "2023-05-21T13:03:37.776286Z",
     "shell.execute_reply": "2023-05-21T13:03:37.775026Z",
     "shell.execute_reply.started": "2023-05-21T13:03:37.758959Z"
    }
   },
   "outputs": [
    {
     "data": {
      "text/html": [
       "<div>\n",
       "<style scoped>\n",
       "    .dataframe tbody tr th:only-of-type {\n",
       "        vertical-align: middle;\n",
       "    }\n",
       "\n",
       "    .dataframe tbody tr th {\n",
       "        vertical-align: top;\n",
       "    }\n",
       "\n",
       "    .dataframe thead th {\n",
       "        text-align: right;\n",
       "    }\n",
       "</style>\n",
       "<table border=\"1\" class=\"dataframe\">\n",
       "  <thead>\n",
       "    <tr style=\"text-align: right;\">\n",
       "      <th></th>\n",
       "      <th>Quarter</th>\n",
       "      <th>Sales</th>\n",
       "      <th>quarter</th>\n",
       "      <th>Q1</th>\n",
       "      <th>Q2</th>\n",
       "      <th>Q3</th>\n",
       "      <th>Q4</th>\n",
       "      <th>t</th>\n",
       "      <th>t_square</th>\n",
       "      <th>log_Sales</th>\n",
       "    </tr>\n",
       "  </thead>\n",
       "  <tbody>\n",
       "    <tr>\n",
       "      <th>38</th>\n",
       "      <td>Q3_95</td>\n",
       "      <td>4895.0</td>\n",
       "      <td>Q3</td>\n",
       "      <td>0</td>\n",
       "      <td>0</td>\n",
       "      <td>1</td>\n",
       "      <td>0</td>\n",
       "      <td>39</td>\n",
       "      <td>1521</td>\n",
       "      <td>8.495970</td>\n",
       "    </tr>\n",
       "    <tr>\n",
       "      <th>39</th>\n",
       "      <td>Q4_95</td>\n",
       "      <td>4333.0</td>\n",
       "      <td>Q4</td>\n",
       "      <td>0</td>\n",
       "      <td>0</td>\n",
       "      <td>0</td>\n",
       "      <td>1</td>\n",
       "      <td>40</td>\n",
       "      <td>1600</td>\n",
       "      <td>8.374015</td>\n",
       "    </tr>\n",
       "    <tr>\n",
       "      <th>40</th>\n",
       "      <td>Q1_96</td>\n",
       "      <td>4194.0</td>\n",
       "      <td>Q1</td>\n",
       "      <td>1</td>\n",
       "      <td>0</td>\n",
       "      <td>0</td>\n",
       "      <td>0</td>\n",
       "      <td>41</td>\n",
       "      <td>1681</td>\n",
       "      <td>8.341410</td>\n",
       "    </tr>\n",
       "    <tr>\n",
       "      <th>41</th>\n",
       "      <td>Q2_96</td>\n",
       "      <td>5253.0</td>\n",
       "      <td>Q2</td>\n",
       "      <td>0</td>\n",
       "      <td>1</td>\n",
       "      <td>0</td>\n",
       "      <td>0</td>\n",
       "      <td>42</td>\n",
       "      <td>1764</td>\n",
       "      <td>8.566555</td>\n",
       "    </tr>\n",
       "  </tbody>\n",
       "</table>\n",
       "</div>"
      ],
      "text/plain": [
       "   Quarter   Sales quarter  Q1  Q2  Q3  Q4   t  t_square  log_Sales\n",
       "38   Q3_95  4895.0      Q3   0   0   1   0  39      1521   8.495970\n",
       "39   Q4_95  4333.0      Q4   0   0   0   1  40      1600   8.374015\n",
       "40   Q1_96  4194.0      Q1   1   0   0   0  41      1681   8.341410\n",
       "41   Q2_96  5253.0      Q2   0   1   0   0  42      1764   8.566555"
      ]
     },
     "execution_count": 36,
     "metadata": {},
     "output_type": "execute_result"
    }
   ],
   "source": [
    "predict_data"
   ]
  },
  {
   "cell_type": "code",
   "execution_count": 37,
   "metadata": {
    "ExecuteTime": {
     "end_time": "2021-08-04T09:58:34.199925Z",
     "start_time": "2021-08-04T09:58:34.173991Z"
    },
    "execution": {
     "iopub.execute_input": "2023-05-21T13:03:37.779048Z",
     "iopub.status.busy": "2023-05-21T13:03:37.778235Z",
     "iopub.status.idle": "2023-05-21T13:03:37.800534Z",
     "shell.execute_reply": "2023-05-21T13:03:37.799691Z",
     "shell.execute_reply.started": "2023-05-21T13:03:37.779008Z"
    }
   },
   "outputs": [],
   "source": [
    "### Build the model on entire data set\n",
    "model_full = smf.ols('Sales~t+t_square+Q1+Q2+Q3+Q4',data=data2).fit()"
   ]
  },
  {
   "cell_type": "code",
   "execution_count": 38,
   "metadata": {
    "ExecuteTime": {
     "end_time": "2021-08-04T09:58:48.031218Z",
     "start_time": "2021-08-04T09:58:48.016227Z"
    },
    "execution": {
     "iopub.execute_input": "2023-05-21T13:03:37.802945Z",
     "iopub.status.busy": "2023-05-21T13:03:37.802029Z",
     "iopub.status.idle": "2023-05-21T13:03:37.819600Z",
     "shell.execute_reply": "2023-05-21T13:03:37.818682Z",
     "shell.execute_reply.started": "2023-05-21T13:03:37.802911Z"
    }
   },
   "outputs": [
    {
     "data": {
      "text/plain": [
       "38    4839.220330\n",
       "39    4731.881928\n",
       "40    4668.345851\n",
       "41    5399.952382\n",
       "dtype: float64"
      ]
     },
     "execution_count": 38,
     "metadata": {},
     "output_type": "execute_result"
    }
   ],
   "source": [
    "pred_new  = pd.Series(add_sea_Quad.predict(predict_data))\n",
    "pred_new"
   ]
  },
  {
   "cell_type": "code",
   "execution_count": 39,
   "metadata": {
    "ExecuteTime": {
     "end_time": "2021-08-04T09:58:58.556343Z",
     "start_time": "2021-08-04T09:58:58.544337Z"
    },
    "execution": {
     "iopub.execute_input": "2023-05-21T13:03:37.821884Z",
     "iopub.status.busy": "2023-05-21T13:03:37.820857Z",
     "iopub.status.idle": "2023-05-21T13:03:37.827993Z",
     "shell.execute_reply": "2023-05-21T13:03:37.826932Z",
     "shell.execute_reply.started": "2023-05-21T13:03:37.821853Z"
    }
   },
   "outputs": [
    {
     "name": "stderr",
     "output_type": "stream",
     "text": [
      "C:\\Users\\91814\\AppData\\Local\\Temp\\ipykernel_7012\\3096664436.py:1: SettingWithCopyWarning: \n",
      "A value is trying to be set on a copy of a slice from a DataFrame.\n",
      "Try using .loc[row_indexer,col_indexer] = value instead\n",
      "\n",
      "See the caveats in the documentation: https://pandas.pydata.org/pandas-docs/stable/user_guide/indexing.html#returning-a-view-versus-a-copy\n",
      "  predict_data[\"forecasted_Sales\"] = pd.DataFrame(pred_new)\n"
     ]
    }
   ],
   "source": [
    "predict_data[\"forecasted_Sales\"] = pd.DataFrame(pred_new)"
   ]
  },
  {
   "cell_type": "code",
   "execution_count": 40,
   "metadata": {
    "ExecuteTime": {
     "end_time": "2021-08-04T09:59:06.204606Z",
     "start_time": "2021-08-04T09:59:06.186654Z"
    },
    "execution": {
     "iopub.execute_input": "2023-05-21T13:03:37.829722Z",
     "iopub.status.busy": "2023-05-21T13:03:37.829372Z",
     "iopub.status.idle": "2023-05-21T13:03:37.848530Z",
     "shell.execute_reply": "2023-05-21T13:03:37.847622Z",
     "shell.execute_reply.started": "2023-05-21T13:03:37.829692Z"
    }
   },
   "outputs": [
    {
     "data": {
      "text/html": [
       "<div>\n",
       "<style scoped>\n",
       "    .dataframe tbody tr th:only-of-type {\n",
       "        vertical-align: middle;\n",
       "    }\n",
       "\n",
       "    .dataframe tbody tr th {\n",
       "        vertical-align: top;\n",
       "    }\n",
       "\n",
       "    .dataframe thead th {\n",
       "        text-align: right;\n",
       "    }\n",
       "</style>\n",
       "<table border=\"1\" class=\"dataframe\">\n",
       "  <thead>\n",
       "    <tr style=\"text-align: right;\">\n",
       "      <th></th>\n",
       "      <th>Quarter</th>\n",
       "      <th>Sales</th>\n",
       "      <th>quarter</th>\n",
       "      <th>Q1</th>\n",
       "      <th>Q2</th>\n",
       "      <th>Q3</th>\n",
       "      <th>Q4</th>\n",
       "      <th>t</th>\n",
       "      <th>t_square</th>\n",
       "      <th>log_Sales</th>\n",
       "      <th>forecasted_Sales</th>\n",
       "    </tr>\n",
       "  </thead>\n",
       "  <tbody>\n",
       "    <tr>\n",
       "      <th>38</th>\n",
       "      <td>Q3_95</td>\n",
       "      <td>4895.0</td>\n",
       "      <td>Q3</td>\n",
       "      <td>0</td>\n",
       "      <td>0</td>\n",
       "      <td>1</td>\n",
       "      <td>0</td>\n",
       "      <td>39</td>\n",
       "      <td>1521</td>\n",
       "      <td>8.495970</td>\n",
       "      <td>4839.220330</td>\n",
       "    </tr>\n",
       "    <tr>\n",
       "      <th>39</th>\n",
       "      <td>Q4_95</td>\n",
       "      <td>4333.0</td>\n",
       "      <td>Q4</td>\n",
       "      <td>0</td>\n",
       "      <td>0</td>\n",
       "      <td>0</td>\n",
       "      <td>1</td>\n",
       "      <td>40</td>\n",
       "      <td>1600</td>\n",
       "      <td>8.374015</td>\n",
       "      <td>4731.881928</td>\n",
       "    </tr>\n",
       "    <tr>\n",
       "      <th>40</th>\n",
       "      <td>Q1_96</td>\n",
       "      <td>4194.0</td>\n",
       "      <td>Q1</td>\n",
       "      <td>1</td>\n",
       "      <td>0</td>\n",
       "      <td>0</td>\n",
       "      <td>0</td>\n",
       "      <td>41</td>\n",
       "      <td>1681</td>\n",
       "      <td>8.341410</td>\n",
       "      <td>4668.345851</td>\n",
       "    </tr>\n",
       "    <tr>\n",
       "      <th>41</th>\n",
       "      <td>Q2_96</td>\n",
       "      <td>5253.0</td>\n",
       "      <td>Q2</td>\n",
       "      <td>0</td>\n",
       "      <td>1</td>\n",
       "      <td>0</td>\n",
       "      <td>0</td>\n",
       "      <td>42</td>\n",
       "      <td>1764</td>\n",
       "      <td>8.566555</td>\n",
       "      <td>5399.952382</td>\n",
       "    </tr>\n",
       "  </tbody>\n",
       "</table>\n",
       "</div>"
      ],
      "text/plain": [
       "   Quarter   Sales quarter  Q1  Q2  Q3  Q4   t  t_square  log_Sales  \\\n",
       "38   Q3_95  4895.0      Q3   0   0   1   0  39      1521   8.495970   \n",
       "39   Q4_95  4333.0      Q4   0   0   0   1  40      1600   8.374015   \n",
       "40   Q1_96  4194.0      Q1   1   0   0   0  41      1681   8.341410   \n",
       "41   Q2_96  5253.0      Q2   0   1   0   0  42      1764   8.566555   \n",
       "\n",
       "    forecasted_Sales  \n",
       "38       4839.220330  \n",
       "39       4731.881928  \n",
       "40       4668.345851  \n",
       "41       5399.952382  "
      ]
     },
     "execution_count": 40,
     "metadata": {},
     "output_type": "execute_result"
    }
   ],
   "source": [
    "predict_data"
   ]
  },
  {
   "cell_type": "markdown",
   "metadata": {},
   "source": [
    "#### **ARIMA Hyperparameter Tuning**"
   ]
  },
  {
   "cell_type": "code",
   "execution_count": 44,
   "metadata": {
    "execution": {
     "iopub.execute_input": "2023-05-21T13:12:27.109598Z",
     "iopub.status.busy": "2023-05-21T13:12:27.109147Z",
     "iopub.status.idle": "2023-05-21T13:12:27.145977Z",
     "shell.execute_reply": "2023-05-21T13:12:27.144948Z",
     "shell.execute_reply.started": "2023-05-21T13:12:27.109553Z"
    }
   },
   "outputs": [
    {
     "data": {
      "text/html": [
       "<div>\n",
       "<style scoped>\n",
       "    .dataframe tbody tr th:only-of-type {\n",
       "        vertical-align: middle;\n",
       "    }\n",
       "\n",
       "    .dataframe tbody tr th {\n",
       "        vertical-align: top;\n",
       "    }\n",
       "\n",
       "    .dataframe thead th {\n",
       "        text-align: right;\n",
       "    }\n",
       "</style>\n",
       "<table border=\"1\" class=\"dataframe\">\n",
       "  <thead>\n",
       "    <tr style=\"text-align: right;\">\n",
       "      <th></th>\n",
       "      <th>Sales</th>\n",
       "    </tr>\n",
       "    <tr>\n",
       "      <th>Quarter</th>\n",
       "      <th></th>\n",
       "    </tr>\n",
       "  </thead>\n",
       "  <tbody>\n",
       "    <tr>\n",
       "      <th>Q1_86</th>\n",
       "      <td>1734.827000</td>\n",
       "    </tr>\n",
       "    <tr>\n",
       "      <th>Q2_86</th>\n",
       "      <td>2244.960999</td>\n",
       "    </tr>\n",
       "    <tr>\n",
       "      <th>Q3_86</th>\n",
       "      <td>2533.804993</td>\n",
       "    </tr>\n",
       "    <tr>\n",
       "      <th>Q4_86</th>\n",
       "      <td>2154.962997</td>\n",
       "    </tr>\n",
       "    <tr>\n",
       "      <th>Q1_87</th>\n",
       "      <td>1547.818996</td>\n",
       "    </tr>\n",
       "  </tbody>\n",
       "</table>\n",
       "</div>"
      ],
      "text/plain": [
       "               Sales\n",
       "Quarter             \n",
       "Q1_86    1734.827000\n",
       "Q2_86    2244.960999\n",
       "Q3_86    2533.804993\n",
       "Q4_86    2154.962997\n",
       "Q1_87    1547.818996"
      ]
     },
     "execution_count": 44,
     "metadata": {},
     "output_type": "execute_result"
    }
   ],
   "source": [
    "data = pd.read_excel(\"https://excelr.s3.nl-ams.scw.cloud/DataScience-Assignments/Assignments/Forecasting/CocaCola_Sales_Rawdata.xlsx\",header=0,index_col=0, parse_dates=True)\n",
    "data.head()"
   ]
  },
  {
   "cell_type": "code",
   "execution_count": 48,
   "metadata": {
    "execution": {
     "iopub.execute_input": "2023-05-21T13:12:44.973105Z",
     "iopub.status.busy": "2023-05-21T13:12:44.972184Z",
     "iopub.status.idle": "2023-05-21T13:12:44.979644Z",
     "shell.execute_reply": "2023-05-21T13:12:44.978508Z",
     "shell.execute_reply.started": "2023-05-21T13:12:44.973065Z"
    }
   },
   "outputs": [
    {
     "name": "stdout",
     "output_type": "stream",
     "text": [
      "Dataset_cc 35, Validation_cc 7\n"
     ]
    }
   ],
   "source": [
    "#separate out a validation dataset\n",
    "split_point = len(data) - 7\n",
    "dataset_cc, validation_cc = data[0:split_point], data[split_point:]\n",
    "print('Dataset_cc %d, Validation_cc %d' % (len(dataset_cc), len(validation_cc)))"
   ]
  },
  {
   "cell_type": "code",
   "execution_count": 49,
   "metadata": {
    "execution": {
     "iopub.execute_input": "2023-05-21T13:12:54.196239Z",
     "iopub.status.busy": "2023-05-21T13:12:54.195841Z",
     "iopub.status.idle": "2023-05-21T13:12:54.209887Z",
     "shell.execute_reply": "2023-05-21T13:12:54.208709Z",
     "shell.execute_reply.started": "2023-05-21T13:12:54.196201Z"
    }
   },
   "outputs": [],
   "source": [
    "dataset_cc.to_csv('dataset_cc.csv', header=False)\n",
    "validation_cc.to_csv('validation_cc.csv', header=False)"
   ]
  },
  {
   "cell_type": "code",
   "execution_count": 50,
   "metadata": {
    "execution": {
     "iopub.execute_input": "2023-05-21T13:13:42.420771Z",
     "iopub.status.busy": "2023-05-21T13:13:42.420349Z",
     "iopub.status.idle": "2023-05-21T13:13:42.438434Z",
     "shell.execute_reply": "2023-05-21T13:13:42.437257Z",
     "shell.execute_reply.started": "2023-05-21T13:13:42.420735Z"
    }
   },
   "outputs": [
    {
     "data": {
      "text/html": [
       "<div>\n",
       "<style scoped>\n",
       "    .dataframe tbody tr th:only-of-type {\n",
       "        vertical-align: middle;\n",
       "    }\n",
       "\n",
       "    .dataframe tbody tr th {\n",
       "        vertical-align: top;\n",
       "    }\n",
       "\n",
       "    .dataframe thead th {\n",
       "        text-align: right;\n",
       "    }\n",
       "</style>\n",
       "<table border=\"1\" class=\"dataframe\">\n",
       "  <thead>\n",
       "    <tr style=\"text-align: right;\">\n",
       "      <th></th>\n",
       "      <th>1</th>\n",
       "    </tr>\n",
       "    <tr>\n",
       "      <th>0</th>\n",
       "      <th></th>\n",
       "    </tr>\n",
       "  </thead>\n",
       "  <tbody>\n",
       "    <tr>\n",
       "      <th>Q1_86</th>\n",
       "      <td>1734.827000</td>\n",
       "    </tr>\n",
       "    <tr>\n",
       "      <th>Q2_86</th>\n",
       "      <td>2244.960999</td>\n",
       "    </tr>\n",
       "    <tr>\n",
       "      <th>Q3_86</th>\n",
       "      <td>2533.804993</td>\n",
       "    </tr>\n",
       "    <tr>\n",
       "      <th>Q4_86</th>\n",
       "      <td>2154.962997</td>\n",
       "    </tr>\n",
       "    <tr>\n",
       "      <th>Q1_87</th>\n",
       "      <td>1547.818996</td>\n",
       "    </tr>\n",
       "    <tr>\n",
       "      <th>Q2_87</th>\n",
       "      <td>2104.411995</td>\n",
       "    </tr>\n",
       "    <tr>\n",
       "      <th>Q3_87</th>\n",
       "      <td>2014.362999</td>\n",
       "    </tr>\n",
       "    <tr>\n",
       "      <th>Q4_87</th>\n",
       "      <td>1991.746998</td>\n",
       "    </tr>\n",
       "    <tr>\n",
       "      <th>Q1_88</th>\n",
       "      <td>1869.049999</td>\n",
       "    </tr>\n",
       "    <tr>\n",
       "      <th>Q2_88</th>\n",
       "      <td>2313.631996</td>\n",
       "    </tr>\n",
       "    <tr>\n",
       "      <th>Q3_88</th>\n",
       "      <td>2128.320000</td>\n",
       "    </tr>\n",
       "    <tr>\n",
       "      <th>Q4_88</th>\n",
       "      <td>2026.828999</td>\n",
       "    </tr>\n",
       "    <tr>\n",
       "      <th>Q1_89</th>\n",
       "      <td>1910.603996</td>\n",
       "    </tr>\n",
       "    <tr>\n",
       "      <th>Q2_89</th>\n",
       "      <td>2331.164993</td>\n",
       "    </tr>\n",
       "    <tr>\n",
       "      <th>Q3_89</th>\n",
       "      <td>2206.549995</td>\n",
       "    </tr>\n",
       "    <tr>\n",
       "      <th>Q4_89</th>\n",
       "      <td>2173.967995</td>\n",
       "    </tr>\n",
       "    <tr>\n",
       "      <th>Q1_90</th>\n",
       "      <td>2148.278000</td>\n",
       "    </tr>\n",
       "    <tr>\n",
       "      <th>Q2_90</th>\n",
       "      <td>2739.307999</td>\n",
       "    </tr>\n",
       "    <tr>\n",
       "      <th>Q3_90</th>\n",
       "      <td>2792.753998</td>\n",
       "    </tr>\n",
       "    <tr>\n",
       "      <th>Q4_90</th>\n",
       "      <td>2556.009995</td>\n",
       "    </tr>\n",
       "    <tr>\n",
       "      <th>Q1_91</th>\n",
       "      <td>2480.973999</td>\n",
       "    </tr>\n",
       "    <tr>\n",
       "      <th>Q2_91</th>\n",
       "      <td>3039.522995</td>\n",
       "    </tr>\n",
       "    <tr>\n",
       "      <th>Q3_91</th>\n",
       "      <td>3172.115997</td>\n",
       "    </tr>\n",
       "    <tr>\n",
       "      <th>Q4_91</th>\n",
       "      <td>2879.000999</td>\n",
       "    </tr>\n",
       "    <tr>\n",
       "      <th>Q1_92</th>\n",
       "      <td>2772.000000</td>\n",
       "    </tr>\n",
       "    <tr>\n",
       "      <th>Q2_92</th>\n",
       "      <td>3550.000000</td>\n",
       "    </tr>\n",
       "    <tr>\n",
       "      <th>Q3_92</th>\n",
       "      <td>3508.000000</td>\n",
       "    </tr>\n",
       "    <tr>\n",
       "      <th>Q4_92</th>\n",
       "      <td>3243.859993</td>\n",
       "    </tr>\n",
       "    <tr>\n",
       "      <th>Q1_93</th>\n",
       "      <td>3056.000000</td>\n",
       "    </tr>\n",
       "    <tr>\n",
       "      <th>Q2_93</th>\n",
       "      <td>3899.000000</td>\n",
       "    </tr>\n",
       "    <tr>\n",
       "      <th>Q3_93</th>\n",
       "      <td>3629.000000</td>\n",
       "    </tr>\n",
       "    <tr>\n",
       "      <th>Q4_93</th>\n",
       "      <td>3373.000000</td>\n",
       "    </tr>\n",
       "    <tr>\n",
       "      <th>Q1_94</th>\n",
       "      <td>3352.000000</td>\n",
       "    </tr>\n",
       "    <tr>\n",
       "      <th>Q2_94</th>\n",
       "      <td>4342.000000</td>\n",
       "    </tr>\n",
       "    <tr>\n",
       "      <th>Q3_94</th>\n",
       "      <td>4461.000000</td>\n",
       "    </tr>\n",
       "  </tbody>\n",
       "</table>\n",
       "</div>"
      ],
      "text/plain": [
       "                 1\n",
       "0                 \n",
       "Q1_86  1734.827000\n",
       "Q2_86  2244.960999\n",
       "Q3_86  2533.804993\n",
       "Q4_86  2154.962997\n",
       "Q1_87  1547.818996\n",
       "Q2_87  2104.411995\n",
       "Q3_87  2014.362999\n",
       "Q4_87  1991.746998\n",
       "Q1_88  1869.049999\n",
       "Q2_88  2313.631996\n",
       "Q3_88  2128.320000\n",
       "Q4_88  2026.828999\n",
       "Q1_89  1910.603996\n",
       "Q2_89  2331.164993\n",
       "Q3_89  2206.549995\n",
       "Q4_89  2173.967995\n",
       "Q1_90  2148.278000\n",
       "Q2_90  2739.307999\n",
       "Q3_90  2792.753998\n",
       "Q4_90  2556.009995\n",
       "Q1_91  2480.973999\n",
       "Q2_91  3039.522995\n",
       "Q3_91  3172.115997\n",
       "Q4_91  2879.000999\n",
       "Q1_92  2772.000000\n",
       "Q2_92  3550.000000\n",
       "Q3_92  3508.000000\n",
       "Q4_92  3243.859993\n",
       "Q1_93  3056.000000\n",
       "Q2_93  3899.000000\n",
       "Q3_93  3629.000000\n",
       "Q4_93  3373.000000\n",
       "Q1_94  3352.000000\n",
       "Q2_94  4342.000000\n",
       "Q3_94  4461.000000"
      ]
     },
     "execution_count": 50,
     "metadata": {},
     "output_type": "execute_result"
    }
   ],
   "source": [
    "train = pd.read_csv('dataset_cc.csv', header=None, index_col=0, parse_dates=True)\n",
    "\n",
    "train"
   ]
  },
  {
   "cell_type": "code",
   "execution_count": 51,
   "metadata": {
    "execution": {
     "iopub.execute_input": "2023-05-21T13:13:57.277309Z",
     "iopub.status.busy": "2023-05-21T13:13:57.276905Z",
     "iopub.status.idle": "2023-05-21T13:13:57.283644Z",
     "shell.execute_reply": "2023-05-21T13:13:57.282250Z",
     "shell.execute_reply.started": "2023-05-21T13:13:57.277278Z"
    }
   },
   "outputs": [],
   "source": [
    "X = train.values\n",
    "X = X.astype('float32')\n",
    "train_size = int(len(X) * 0.50)\n",
    "train, test = X[0:train_size], X[train_size:]"
   ]
  },
  {
   "cell_type": "code",
   "execution_count": 52,
   "metadata": {
    "execution": {
     "iopub.execute_input": "2023-05-21T13:18:58.643481Z",
     "iopub.status.busy": "2023-05-21T13:18:58.643038Z",
     "iopub.status.idle": "2023-05-21T13:18:58.652303Z",
     "shell.execute_reply": "2023-05-21T13:18:58.651079Z",
     "shell.execute_reply.started": "2023-05-21T13:18:58.643446Z"
    }
   },
   "outputs": [
    {
     "name": "stdout",
     "output_type": "stream",
     "text": [
      ">Predicted=2148.278, Expected=2739.308\n",
      ">Predicted=2739.308, Expected=2792.754\n",
      ">Predicted=2792.754, Expected=2556.010\n",
      ">Predicted=2556.010, Expected=2480.974\n",
      ">Predicted=2480.974, Expected=3039.523\n",
      ">Predicted=3039.523, Expected=3172.116\n",
      ">Predicted=3172.116, Expected=2879.001\n",
      ">Predicted=2879.001, Expected=2772.000\n",
      ">Predicted=2772.000, Expected=3550.000\n",
      ">Predicted=3550.000, Expected=3508.000\n",
      ">Predicted=3508.000, Expected=3243.860\n",
      ">Predicted=3243.860, Expected=3056.000\n",
      ">Predicted=3056.000, Expected=3899.000\n",
      ">Predicted=3899.000, Expected=3629.000\n",
      ">Predicted=3629.000, Expected=3373.000\n",
      ">Predicted=3373.000, Expected=3352.000\n",
      ">Predicted=3352.000, Expected=4342.000\n",
      ">Predicted=4342.000, Expected=4461.000\n",
      "RMSE: 434.401\n"
     ]
    }
   ],
   "source": [
    "history = [x for x in train]\n",
    "predictions = list()\n",
    "for i in range(len(test)):\n",
    "    yhat = history[-1]\n",
    "    predictions.append(yhat)\n",
    "# observation\n",
    "    obs = test[i]\n",
    "    history.append(obs)\n",
    "    print('>Predicted=%.3f, Expected=%.3f' % (yhat, obs))\n",
    "# report performance\n",
    "rmse = sqrt(mean_squared_error(test, predictions))\n",
    "print('RMSE: %.3f' % rmse)"
   ]
  },
  {
   "cell_type": "code",
   "execution_count": 53,
   "metadata": {
    "execution": {
     "iopub.execute_input": "2023-05-21T13:18:48.114935Z",
     "iopub.status.busy": "2023-05-21T13:18:48.114524Z",
     "iopub.status.idle": "2023-05-21T13:18:48.128867Z",
     "shell.execute_reply": "2023-05-21T13:18:48.127690Z",
     "shell.execute_reply.started": "2023-05-21T13:18:48.114901Z"
    }
   },
   "outputs": [
    {
     "data": {
      "text/html": [
       "<div>\n",
       "<style scoped>\n",
       "    .dataframe tbody tr th:only-of-type {\n",
       "        vertical-align: middle;\n",
       "    }\n",
       "\n",
       "    .dataframe tbody tr th {\n",
       "        vertical-align: top;\n",
       "    }\n",
       "\n",
       "    .dataframe thead th {\n",
       "        text-align: right;\n",
       "    }\n",
       "</style>\n",
       "<table border=\"1\" class=\"dataframe\">\n",
       "  <thead>\n",
       "    <tr style=\"text-align: right;\">\n",
       "      <th></th>\n",
       "      <th>MODEL</th>\n",
       "      <th>RMSE_Values</th>\n",
       "    </tr>\n",
       "  </thead>\n",
       "  <tbody>\n",
       "    <tr>\n",
       "      <th>2</th>\n",
       "      <td>rmse_quad</td>\n",
       "      <td>394.674728</td>\n",
       "    </tr>\n",
       "    <tr>\n",
       "      <th>3</th>\n",
       "      <td>RMSE_ARIMA</td>\n",
       "      <td>434.400665</td>\n",
       "    </tr>\n",
       "    <tr>\n",
       "      <th>1</th>\n",
       "      <td>rmse_exp</td>\n",
       "      <td>564.501299</td>\n",
       "    </tr>\n",
       "    <tr>\n",
       "      <th>0</th>\n",
       "      <td>rmse_linear</td>\n",
       "      <td>669.468559</td>\n",
       "    </tr>\n",
       "  </tbody>\n",
       "</table>\n",
       "</div>"
      ],
      "text/plain": [
       "         MODEL  RMSE_Values\n",
       "2    rmse_quad   394.674728\n",
       "3   RMSE_ARIMA   434.400665\n",
       "1     rmse_exp   564.501299\n",
       "0  rmse_linear   669.468559"
      ]
     },
     "execution_count": 53,
     "metadata": {},
     "output_type": "execute_result"
    }
   ],
   "source": [
    "data = {\"MODEL\":pd.Series([\"rmse_linear\",\"rmse_exp\",\"rmse_quad\",\"RMSE_ARIMA\"]),\"RMSE_Values\":pd.Series([rmse_linear,rmse_Exp,rmse_Quad,rmse])}\n",
    "table_rmse=pd.DataFrame(data)\n",
    "table_rmse.sort_values(['RMSE_Values'])"
   ]
  }
 ],
 "metadata": {
  "gist": {
   "data": {
    "description": "Untitled23.ipynb",
    "public": true
   },
   "id": ""
  },
  "kernelspec": {
   "display_name": "Python 3 (ipykernel)",
   "language": "python",
   "name": "python3"
  },
  "language_info": {
   "codemirror_mode": {
    "name": "ipython",
    "version": 3
   },
   "file_extension": ".py",
   "mimetype": "text/x-python",
   "name": "python",
   "nbconvert_exporter": "python",
   "pygments_lexer": "ipython3",
   "version": "3.9.13"
  },
  "varInspector": {
   "cols": {
    "lenName": 16,
    "lenType": 16,
    "lenVar": 40
   },
   "kernels_config": {
    "python": {
     "delete_cmd_postfix": "",
     "delete_cmd_prefix": "del ",
     "library": "var_list.py",
     "varRefreshCmd": "print(var_dic_list())"
    },
    "r": {
     "delete_cmd_postfix": ") ",
     "delete_cmd_prefix": "rm(",
     "library": "var_list.r",
     "varRefreshCmd": "cat(var_dic_list()) "
    }
   },
   "types_to_exclude": [
    "module",
    "function",
    "builtin_function_or_method",
    "instance",
    "_Feature"
   ],
   "window_display": false
  }
 },
 "nbformat": 4,
 "nbformat_minor": 4
}
