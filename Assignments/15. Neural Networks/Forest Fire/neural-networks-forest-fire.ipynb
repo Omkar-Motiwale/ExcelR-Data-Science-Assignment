{
 "cells": [
  {
   "cell_type": "code",
   "execution_count": 4,
   "metadata": {},
   "outputs": [
    {
     "name": "stdout",
     "output_type": "stream",
     "text": [
      "Requirement already satisfied: tensorflow in c:\\users\\91814\\anaconda3\\lib\\site-packages (2.13.0)\n",
      "Requirement already satisfied: tensorflow-intel==2.13.0 in c:\\users\\91814\\anaconda3\\lib\\site-packages (from tensorflow) (2.13.0)\n",
      "Requirement already satisfied: absl-py>=1.0.0 in c:\\users\\91814\\anaconda3\\lib\\site-packages (from tensorflow-intel==2.13.0->tensorflow) (1.4.0)\n",
      "Requirement already satisfied: termcolor>=1.1.0 in c:\\users\\91814\\anaconda3\\lib\\site-packages (from tensorflow-intel==2.13.0->tensorflow) (2.3.0)\n",
      "Requirement already satisfied: google-pasta>=0.1.1 in c:\\users\\91814\\anaconda3\\lib\\site-packages (from tensorflow-intel==2.13.0->tensorflow) (0.2.0)\n",
      "Requirement already satisfied: numpy<=1.24.3,>=1.22 in c:\\users\\91814\\anaconda3\\lib\\site-packages (from tensorflow-intel==2.13.0->tensorflow) (1.24.3)\n",
      "Requirement already satisfied: packaging in c:\\users\\91814\\anaconda3\\lib\\site-packages (from tensorflow-intel==2.13.0->tensorflow) (21.3)\n",
      "Requirement already satisfied: six>=1.12.0 in c:\\users\\91814\\anaconda3\\lib\\site-packages (from tensorflow-intel==2.13.0->tensorflow) (1.16.0)\n",
      "Requirement already satisfied: tensorflow-io-gcs-filesystem>=0.23.1 in c:\\users\\91814\\anaconda3\\lib\\site-packages (from tensorflow-intel==2.13.0->tensorflow) (0.31.0)\n",
      "Requirement already satisfied: libclang>=13.0.0 in c:\\users\\91814\\anaconda3\\lib\\site-packages (from tensorflow-intel==2.13.0->tensorflow) (16.0.6)\n",
      "Requirement already satisfied: tensorboard<2.14,>=2.13 in c:\\users\\91814\\anaconda3\\lib\\site-packages (from tensorflow-intel==2.13.0->tensorflow) (2.13.0)\n",
      "Requirement already satisfied: keras<2.14,>=2.13.1 in c:\\users\\91814\\anaconda3\\lib\\site-packages (from tensorflow-intel==2.13.0->tensorflow) (2.13.1)\n",
      "Requirement already satisfied: wrapt>=1.11.0 in c:\\users\\91814\\anaconda3\\lib\\site-packages (from tensorflow-intel==2.13.0->tensorflow) (1.14.1)\n",
      "Requirement already satisfied: h5py>=2.9.0 in c:\\users\\91814\\anaconda3\\lib\\site-packages (from tensorflow-intel==2.13.0->tensorflow) (3.7.0)\n",
      "Requirement already satisfied: opt-einsum>=2.3.2 in c:\\users\\91814\\anaconda3\\lib\\site-packages (from tensorflow-intel==2.13.0->tensorflow) (3.3.0)\n",
      "Requirement already satisfied: typing-extensions<4.6.0,>=3.6.6 in c:\\users\\91814\\anaconda3\\lib\\site-packages (from tensorflow-intel==2.13.0->tensorflow) (4.3.0)\n",
      "Requirement already satisfied: flatbuffers>=23.1.21 in c:\\users\\91814\\anaconda3\\lib\\site-packages (from tensorflow-intel==2.13.0->tensorflow) (23.5.26)\n",
      "Requirement already satisfied: protobuf!=4.21.0,!=4.21.1,!=4.21.2,!=4.21.3,!=4.21.4,!=4.21.5,<5.0.0dev,>=3.20.3 in c:\\users\\91814\\anaconda3\\lib\\site-packages (from tensorflow-intel==2.13.0->tensorflow) (4.23.4)\n",
      "Requirement already satisfied: astunparse>=1.6.0 in c:\\users\\91814\\anaconda3\\lib\\site-packages (from tensorflow-intel==2.13.0->tensorflow) (1.6.3)\n",
      "Requirement already satisfied: gast<=0.4.0,>=0.2.1 in c:\\users\\91814\\anaconda3\\lib\\site-packages (from tensorflow-intel==2.13.0->tensorflow) (0.4.0)\n",
      "Requirement already satisfied: grpcio<2.0,>=1.24.3 in c:\\users\\91814\\anaconda3\\lib\\site-packages (from tensorflow-intel==2.13.0->tensorflow) (1.56.2)\n",
      "Requirement already satisfied: tensorflow-estimator<2.14,>=2.13.0 in c:\\users\\91814\\anaconda3\\lib\\site-packages (from tensorflow-intel==2.13.0->tensorflow) (2.13.0)\n",
      "Requirement already satisfied: setuptools in c:\\users\\91814\\anaconda3\\lib\\site-packages (from tensorflow-intel==2.13.0->tensorflow) (63.4.1)\n",
      "Requirement already satisfied: wheel<1.0,>=0.23.0 in c:\\users\\91814\\anaconda3\\lib\\site-packages (from astunparse>=1.6.0->tensorflow-intel==2.13.0->tensorflow) (0.37.1)\n",
      "Requirement already satisfied: google-auth<3,>=1.6.3 in c:\\users\\91814\\anaconda3\\lib\\site-packages (from tensorboard<2.14,>=2.13->tensorflow-intel==2.13.0->tensorflow) (2.22.0)\n",
      "Requirement already satisfied: markdown>=2.6.8 in c:\\users\\91814\\anaconda3\\lib\\site-packages (from tensorboard<2.14,>=2.13->tensorflow-intel==2.13.0->tensorflow) (3.3.4)\n",
      "Requirement already satisfied: tensorboard-data-server<0.8.0,>=0.7.0 in c:\\users\\91814\\anaconda3\\lib\\site-packages (from tensorboard<2.14,>=2.13->tensorflow-intel==2.13.0->tensorflow) (0.7.1)\n",
      "Requirement already satisfied: google-auth-oauthlib<1.1,>=0.5 in c:\\users\\91814\\anaconda3\\lib\\site-packages (from tensorboard<2.14,>=2.13->tensorflow-intel==2.13.0->tensorflow) (1.0.0)\n",
      "Requirement already satisfied: werkzeug>=1.0.1 in c:\\users\\91814\\anaconda3\\lib\\site-packages (from tensorboard<2.14,>=2.13->tensorflow-intel==2.13.0->tensorflow) (2.0.3)\n",
      "Requirement already satisfied: requests<3,>=2.21.0 in c:\\users\\91814\\anaconda3\\lib\\site-packages (from tensorboard<2.14,>=2.13->tensorflow-intel==2.13.0->tensorflow) (2.28.1)\n",
      "Requirement already satisfied: pyparsing!=3.0.5,>=2.0.2 in c:\\users\\91814\\anaconda3\\lib\\site-packages (from packaging->tensorflow-intel==2.13.0->tensorflow) (3.0.9)\n",
      "Requirement already satisfied: cachetools<6.0,>=2.0.0 in c:\\users\\91814\\anaconda3\\lib\\site-packages (from google-auth<3,>=1.6.3->tensorboard<2.14,>=2.13->tensorflow-intel==2.13.0->tensorflow) (5.3.1)\n",
      "Requirement already satisfied: urllib3<2.0 in c:\\users\\91814\\anaconda3\\lib\\site-packages (from google-auth<3,>=1.6.3->tensorboard<2.14,>=2.13->tensorflow-intel==2.13.0->tensorflow) (1.26.11)\n",
      "Requirement already satisfied: rsa<5,>=3.1.4 in c:\\users\\91814\\anaconda3\\lib\\site-packages (from google-auth<3,>=1.6.3->tensorboard<2.14,>=2.13->tensorflow-intel==2.13.0->tensorflow) (4.9)\n",
      "Requirement already satisfied: pyasn1-modules>=0.2.1 in c:\\users\\91814\\anaconda3\\lib\\site-packages (from google-auth<3,>=1.6.3->tensorboard<2.14,>=2.13->tensorflow-intel==2.13.0->tensorflow) (0.2.8)\n",
      "Requirement already satisfied: requests-oauthlib>=0.7.0 in c:\\users\\91814\\anaconda3\\lib\\site-packages (from google-auth-oauthlib<1.1,>=0.5->tensorboard<2.14,>=2.13->tensorflow-intel==2.13.0->tensorflow) (1.3.1)\n",
      "Requirement already satisfied: charset-normalizer<3,>=2 in c:\\users\\91814\\anaconda3\\lib\\site-packages (from requests<3,>=2.21.0->tensorboard<2.14,>=2.13->tensorflow-intel==2.13.0->tensorflow) (2.0.4)\n",
      "Requirement already satisfied: idna<4,>=2.5 in c:\\users\\91814\\anaconda3\\lib\\site-packages (from requests<3,>=2.21.0->tensorboard<2.14,>=2.13->tensorflow-intel==2.13.0->tensorflow) (3.3)\n",
      "Requirement already satisfied: certifi>=2017.4.17 in c:\\users\\91814\\anaconda3\\lib\\site-packages (from requests<3,>=2.21.0->tensorboard<2.14,>=2.13->tensorflow-intel==2.13.0->tensorflow) (2022.9.14)\n",
      "Requirement already satisfied: pyasn1<0.5.0,>=0.4.6 in c:\\users\\91814\\anaconda3\\lib\\site-packages (from pyasn1-modules>=0.2.1->google-auth<3,>=1.6.3->tensorboard<2.14,>=2.13->tensorflow-intel==2.13.0->tensorflow) (0.4.8)\n",
      "Requirement already satisfied: oauthlib>=3.0.0 in c:\\users\\91814\\anaconda3\\lib\\site-packages (from requests-oauthlib>=0.7.0->google-auth-oauthlib<1.1,>=0.5->tensorboard<2.14,>=2.13->tensorflow-intel==2.13.0->tensorflow) (3.2.2)\n"
     ]
    }
   ],
   "source": [
    "# !pip install tensorflow"
   ]
  },
  {
   "cell_type": "code",
   "execution_count": 5,
   "metadata": {
    "_cell_guid": "b1076dfc-b9ad-4769-8c92-a6c4dae69d19",
    "_uuid": "8f2839f25d086af736a60e9eeb907d3b93b6e0e5",
    "execution": {
     "iopub.execute_input": "2023-04-25T06:14:07.165860Z",
     "iopub.status.busy": "2023-04-25T06:14:07.164661Z",
     "iopub.status.idle": "2023-04-25T06:14:07.172251Z",
     "shell.execute_reply": "2023-04-25T06:14:07.171112Z",
     "shell.execute_reply.started": "2023-04-25T06:14:07.165810Z"
    }
   },
   "outputs": [],
   "source": [
    "import pandas as pd\n",
    "import numpy as np\n",
    "import matplotlib.pyplot as plt\n",
    "import seaborn as sns\n",
    "import keras\n",
    "from keras.models import Sequential\n",
    "from keras.layers import Dense, Dropout\n",
    "from sklearn.model_selection import train_test_split\n",
    "from sklearn.preprocessing import StandardScaler\n"
   ]
  },
  {
   "cell_type": "markdown",
   "metadata": {},
   "source": [
    "#### **Load the forest fires dataset**"
   ]
  },
  {
   "cell_type": "code",
   "execution_count": 8,
   "metadata": {
    "execution": {
     "iopub.execute_input": "2023-04-25T06:14:07.184992Z",
     "iopub.status.busy": "2023-04-25T06:14:07.183998Z",
     "iopub.status.idle": "2023-04-25T06:14:07.217705Z",
     "shell.execute_reply": "2023-04-25T06:14:07.215233Z",
     "shell.execute_reply.started": "2023-04-25T06:14:07.184923Z"
    }
   },
   "outputs": [
    {
     "data": {
      "text/html": [
       "<div>\n",
       "<style scoped>\n",
       "    .dataframe tbody tr th:only-of-type {\n",
       "        vertical-align: middle;\n",
       "    }\n",
       "\n",
       "    .dataframe tbody tr th {\n",
       "        vertical-align: top;\n",
       "    }\n",
       "\n",
       "    .dataframe thead th {\n",
       "        text-align: right;\n",
       "    }\n",
       "</style>\n",
       "<table border=\"1\" class=\"dataframe\">\n",
       "  <thead>\n",
       "    <tr style=\"text-align: right;\">\n",
       "      <th></th>\n",
       "      <th>month</th>\n",
       "      <th>day</th>\n",
       "      <th>FFMC</th>\n",
       "      <th>DMC</th>\n",
       "      <th>DC</th>\n",
       "      <th>ISI</th>\n",
       "      <th>temp</th>\n",
       "      <th>RH</th>\n",
       "      <th>wind</th>\n",
       "      <th>rain</th>\n",
       "      <th>...</th>\n",
       "      <th>monthfeb</th>\n",
       "      <th>monthjan</th>\n",
       "      <th>monthjul</th>\n",
       "      <th>monthjun</th>\n",
       "      <th>monthmar</th>\n",
       "      <th>monthmay</th>\n",
       "      <th>monthnov</th>\n",
       "      <th>monthoct</th>\n",
       "      <th>monthsep</th>\n",
       "      <th>size_category</th>\n",
       "    </tr>\n",
       "  </thead>\n",
       "  <tbody>\n",
       "    <tr>\n",
       "      <th>0</th>\n",
       "      <td>mar</td>\n",
       "      <td>fri</td>\n",
       "      <td>86.2</td>\n",
       "      <td>26.2</td>\n",
       "      <td>94.3</td>\n",
       "      <td>5.1</td>\n",
       "      <td>8.2</td>\n",
       "      <td>51</td>\n",
       "      <td>6.7</td>\n",
       "      <td>0.0</td>\n",
       "      <td>...</td>\n",
       "      <td>0</td>\n",
       "      <td>0</td>\n",
       "      <td>0</td>\n",
       "      <td>0</td>\n",
       "      <td>1</td>\n",
       "      <td>0</td>\n",
       "      <td>0</td>\n",
       "      <td>0</td>\n",
       "      <td>0</td>\n",
       "      <td>small</td>\n",
       "    </tr>\n",
       "    <tr>\n",
       "      <th>1</th>\n",
       "      <td>oct</td>\n",
       "      <td>tue</td>\n",
       "      <td>90.6</td>\n",
       "      <td>35.4</td>\n",
       "      <td>669.1</td>\n",
       "      <td>6.7</td>\n",
       "      <td>18.0</td>\n",
       "      <td>33</td>\n",
       "      <td>0.9</td>\n",
       "      <td>0.0</td>\n",
       "      <td>...</td>\n",
       "      <td>0</td>\n",
       "      <td>0</td>\n",
       "      <td>0</td>\n",
       "      <td>0</td>\n",
       "      <td>0</td>\n",
       "      <td>0</td>\n",
       "      <td>0</td>\n",
       "      <td>1</td>\n",
       "      <td>0</td>\n",
       "      <td>small</td>\n",
       "    </tr>\n",
       "    <tr>\n",
       "      <th>2</th>\n",
       "      <td>oct</td>\n",
       "      <td>sat</td>\n",
       "      <td>90.6</td>\n",
       "      <td>43.7</td>\n",
       "      <td>686.9</td>\n",
       "      <td>6.7</td>\n",
       "      <td>14.6</td>\n",
       "      <td>33</td>\n",
       "      <td>1.3</td>\n",
       "      <td>0.0</td>\n",
       "      <td>...</td>\n",
       "      <td>0</td>\n",
       "      <td>0</td>\n",
       "      <td>0</td>\n",
       "      <td>0</td>\n",
       "      <td>0</td>\n",
       "      <td>0</td>\n",
       "      <td>0</td>\n",
       "      <td>1</td>\n",
       "      <td>0</td>\n",
       "      <td>small</td>\n",
       "    </tr>\n",
       "    <tr>\n",
       "      <th>3</th>\n",
       "      <td>mar</td>\n",
       "      <td>fri</td>\n",
       "      <td>91.7</td>\n",
       "      <td>33.3</td>\n",
       "      <td>77.5</td>\n",
       "      <td>9.0</td>\n",
       "      <td>8.3</td>\n",
       "      <td>97</td>\n",
       "      <td>4.0</td>\n",
       "      <td>0.2</td>\n",
       "      <td>...</td>\n",
       "      <td>0</td>\n",
       "      <td>0</td>\n",
       "      <td>0</td>\n",
       "      <td>0</td>\n",
       "      <td>1</td>\n",
       "      <td>0</td>\n",
       "      <td>0</td>\n",
       "      <td>0</td>\n",
       "      <td>0</td>\n",
       "      <td>small</td>\n",
       "    </tr>\n",
       "    <tr>\n",
       "      <th>4</th>\n",
       "      <td>mar</td>\n",
       "      <td>sun</td>\n",
       "      <td>89.3</td>\n",
       "      <td>51.3</td>\n",
       "      <td>102.2</td>\n",
       "      <td>9.6</td>\n",
       "      <td>11.4</td>\n",
       "      <td>99</td>\n",
       "      <td>1.8</td>\n",
       "      <td>0.0</td>\n",
       "      <td>...</td>\n",
       "      <td>0</td>\n",
       "      <td>0</td>\n",
       "      <td>0</td>\n",
       "      <td>0</td>\n",
       "      <td>1</td>\n",
       "      <td>0</td>\n",
       "      <td>0</td>\n",
       "      <td>0</td>\n",
       "      <td>0</td>\n",
       "      <td>small</td>\n",
       "    </tr>\n",
       "  </tbody>\n",
       "</table>\n",
       "<p>5 rows × 31 columns</p>\n",
       "</div>"
      ],
      "text/plain": [
       "  month  day  FFMC   DMC     DC  ISI  temp  RH  wind  rain  ...  monthfeb  \\\n",
       "0   mar  fri  86.2  26.2   94.3  5.1   8.2  51   6.7   0.0  ...         0   \n",
       "1   oct  tue  90.6  35.4  669.1  6.7  18.0  33   0.9   0.0  ...         0   \n",
       "2   oct  sat  90.6  43.7  686.9  6.7  14.6  33   1.3   0.0  ...         0   \n",
       "3   mar  fri  91.7  33.3   77.5  9.0   8.3  97   4.0   0.2  ...         0   \n",
       "4   mar  sun  89.3  51.3  102.2  9.6  11.4  99   1.8   0.0  ...         0   \n",
       "\n",
       "   monthjan  monthjul  monthjun  monthmar  monthmay  monthnov  monthoct  \\\n",
       "0         0         0         0         1         0         0         0   \n",
       "1         0         0         0         0         0         0         1   \n",
       "2         0         0         0         0         0         0         1   \n",
       "3         0         0         0         1         0         0         0   \n",
       "4         0         0         0         1         0         0         0   \n",
       "\n",
       "   monthsep  size_category  \n",
       "0         0          small  \n",
       "1         0          small  \n",
       "2         0          small  \n",
       "3         0          small  \n",
       "4         0          small  \n",
       "\n",
       "[5 rows x 31 columns]"
      ]
     },
     "execution_count": 8,
     "metadata": {},
     "output_type": "execute_result"
    }
   ],
   "source": [
    "forest_fires_df = pd.read_csv(\"https://s3-ap-southeast-1.amazonaws.com/elearning.excelr.com/Assignments/Assignments/forestfires.csv\")\n",
    "forest_fires_df.head()"
   ]
  },
  {
   "cell_type": "markdown",
   "metadata": {},
   "source": [
    "#### **Plot a scatter plot to visualize the relationship between temperature and burned area**"
   ]
  },
  {
   "cell_type": "code",
   "execution_count": 9,
   "metadata": {
    "execution": {
     "iopub.execute_input": "2023-04-25T06:14:07.220714Z",
     "iopub.status.busy": "2023-04-25T06:14:07.220132Z",
     "iopub.status.idle": "2023-04-25T06:14:07.516812Z",
     "shell.execute_reply": "2023-04-25T06:14:07.515536Z",
     "shell.execute_reply.started": "2023-04-25T06:14:07.220664Z"
    }
   },
   "outputs": [
    {
     "data": {
      "image/png": "[encoded data removed]",
      "text/plain": [
       "<Figure size 1600x900 with 1 Axes>"
      ]
     },
     "metadata": {},
     "output_type": "display_data"
    }
   ],
   "source": [
    "plt.figure(figsize =(16, 9))\n",
    "plt.scatter(forest_fires_df['temp'], forest_fires_df['area'])\n",
    "plt.xlabel('Temperature (Celsius)')\n",
    "plt.ylabel('Burned Area (hectares)')\n",
    "plt.title('Temperature vs Burned Area Scatter Plot')\n",
    "plt.show()"
   ]
  },
  {
   "cell_type": "markdown",
   "metadata": {},
   "source": [
    "#### **Plot a boxplot to visualize the distribution of burned area**"
   ]
  },
  {
   "cell_type": "code",
   "execution_count": 10,
   "metadata": {
    "execution": {
     "iopub.execute_input": "2023-04-25T06:14:07.520379Z",
     "iopub.status.busy": "2023-04-25T06:14:07.520034Z",
     "iopub.status.idle": "2023-04-25T06:14:07.767595Z",
     "shell.execute_reply": "2023-04-25T06:14:07.766406Z",
     "shell.execute_reply.started": "2023-04-25T06:14:07.520345Z"
    }
   },
   "outputs": [
    {
     "data": {
      "image/png": "[encoded data removed]",
      "text/plain": [
       "<Figure size 1600x900 with 1 Axes>"
      ]
     },
     "metadata": {},
     "output_type": "display_data"
    }
   ],
   "source": [
    "plt.figure(figsize =(16, 9))\n",
    "plt.boxplot(forest_fires_df['area'])\n",
    "plt.ylabel('Burned Area (hectares)')\n",
    "plt.title('Burned Area Boxplot')\n",
    "plt.show()"
   ]
  },
  {
   "cell_type": "code",
   "execution_count": 11,
   "metadata": {
    "execution": {
     "iopub.execute_input": "2023-04-25T06:14:07.769451Z",
     "iopub.status.busy": "2023-04-25T06:14:07.769122Z",
     "iopub.status.idle": "2023-04-25T06:14:08.114033Z",
     "shell.execute_reply": "2023-04-25T06:14:08.112653Z",
     "shell.execute_reply.started": "2023-04-25T06:14:07.769419Z"
    }
   },
   "outputs": [
    {
     "data": {
      "image/png": "[encoded data removed]",
      "text/plain": [
       "<Figure size 1600x900 with 1 Axes>"
      ]
     },
     "metadata": {},
     "output_type": "display_data"
    }
   ],
   "source": [
    "plt.figure(figsize =(16, 9))\n",
    "sns.histplot(data=forest_fires_df, x='area', bins=20)\n",
    "plt.title('Distribution of Burned Area')\n",
    "plt.show()"
   ]
  },
  {
   "cell_type": "markdown",
   "metadata": {},
   "source": [
    "#### **Plot a bar chart to visualize the number of forest fires by month**"
   ]
  },
  {
   "cell_type": "code",
   "execution_count": 12,
   "metadata": {
    "execution": {
     "iopub.execute_input": "2023-04-25T06:14:08.118475Z",
     "iopub.status.busy": "2023-04-25T06:14:08.117994Z",
     "iopub.status.idle": "2023-04-25T06:14:08.434062Z",
     "shell.execute_reply": "2023-04-25T06:14:08.432846Z",
     "shell.execute_reply.started": "2023-04-25T06:14:08.118433Z"
    }
   },
   "outputs": [
    {
     "data": {
      "image/png": "[encoded data removed]",
      "text/plain": [
       "<Figure size 1600x900 with 1 Axes>"
      ]
     },
     "metadata": {},
     "output_type": "display_data"
    }
   ],
   "source": [
    "plt.figure(figsize =(16, 9))\n",
    "fires_by_month = forest_fires_df.groupby('month').size()\n",
    "fires_by_month.plot(kind='bar')\n",
    "plt.xlabel('Month')\n",
    "plt.ylabel('Number of Forest Fires')\n",
    "plt.title('Number of Forest Fires by Month')\n",
    "plt.show()"
   ]
  },
  {
   "cell_type": "markdown",
   "metadata": {},
   "source": [
    "#### **Convert categorical variable 'size_category' to one-hot encoding**"
   ]
  },
  {
   "cell_type": "code",
   "execution_count": 13,
   "metadata": {
    "execution": {
     "iopub.execute_input": "2023-04-25T06:14:08.436001Z",
     "iopub.status.busy": "2023-04-25T06:14:08.435674Z",
     "iopub.status.idle": "2023-04-25T06:14:08.467832Z",
     "shell.execute_reply": "2023-04-25T06:14:08.466483Z",
     "shell.execute_reply.started": "2023-04-25T06:14:08.435970Z"
    }
   },
   "outputs": [
    {
     "data": {
      "text/html": [
       "<div>\n",
       "<style scoped>\n",
       "    .dataframe tbody tr th:only-of-type {\n",
       "        vertical-align: middle;\n",
       "    }\n",
       "\n",
       "    .dataframe tbody tr th {\n",
       "        vertical-align: top;\n",
       "    }\n",
       "\n",
       "    .dataframe thead th {\n",
       "        text-align: right;\n",
       "    }\n",
       "</style>\n",
       "<table border=\"1\" class=\"dataframe\">\n",
       "  <thead>\n",
       "    <tr style=\"text-align: right;\">\n",
       "      <th></th>\n",
       "      <th>FFMC</th>\n",
       "      <th>DMC</th>\n",
       "      <th>DC</th>\n",
       "      <th>ISI</th>\n",
       "      <th>temp</th>\n",
       "      <th>RH</th>\n",
       "      <th>wind</th>\n",
       "      <th>rain</th>\n",
       "      <th>area</th>\n",
       "      <th>dayfri</th>\n",
       "      <th>...</th>\n",
       "      <th>monthjan</th>\n",
       "      <th>monthjul</th>\n",
       "      <th>monthjun</th>\n",
       "      <th>monthmar</th>\n",
       "      <th>monthmay</th>\n",
       "      <th>monthnov</th>\n",
       "      <th>monthoct</th>\n",
       "      <th>monthsep</th>\n",
       "      <th>size_category_large</th>\n",
       "      <th>size_category_small</th>\n",
       "    </tr>\n",
       "  </thead>\n",
       "  <tbody>\n",
       "    <tr>\n",
       "      <th>0</th>\n",
       "      <td>86.2</td>\n",
       "      <td>26.2</td>\n",
       "      <td>94.3</td>\n",
       "      <td>5.1</td>\n",
       "      <td>8.2</td>\n",
       "      <td>51</td>\n",
       "      <td>6.7</td>\n",
       "      <td>0.0</td>\n",
       "      <td>0.0</td>\n",
       "      <td>1</td>\n",
       "      <td>...</td>\n",
       "      <td>0</td>\n",
       "      <td>0</td>\n",
       "      <td>0</td>\n",
       "      <td>1</td>\n",
       "      <td>0</td>\n",
       "      <td>0</td>\n",
       "      <td>0</td>\n",
       "      <td>0</td>\n",
       "      <td>0</td>\n",
       "      <td>1</td>\n",
       "    </tr>\n",
       "    <tr>\n",
       "      <th>1</th>\n",
       "      <td>90.6</td>\n",
       "      <td>35.4</td>\n",
       "      <td>669.1</td>\n",
       "      <td>6.7</td>\n",
       "      <td>18.0</td>\n",
       "      <td>33</td>\n",
       "      <td>0.9</td>\n",
       "      <td>0.0</td>\n",
       "      <td>0.0</td>\n",
       "      <td>0</td>\n",
       "      <td>...</td>\n",
       "      <td>0</td>\n",
       "      <td>0</td>\n",
       "      <td>0</td>\n",
       "      <td>0</td>\n",
       "      <td>0</td>\n",
       "      <td>0</td>\n",
       "      <td>1</td>\n",
       "      <td>0</td>\n",
       "      <td>0</td>\n",
       "      <td>1</td>\n",
       "    </tr>\n",
       "    <tr>\n",
       "      <th>2</th>\n",
       "      <td>90.6</td>\n",
       "      <td>43.7</td>\n",
       "      <td>686.9</td>\n",
       "      <td>6.7</td>\n",
       "      <td>14.6</td>\n",
       "      <td>33</td>\n",
       "      <td>1.3</td>\n",
       "      <td>0.0</td>\n",
       "      <td>0.0</td>\n",
       "      <td>0</td>\n",
       "      <td>...</td>\n",
       "      <td>0</td>\n",
       "      <td>0</td>\n",
       "      <td>0</td>\n",
       "      <td>0</td>\n",
       "      <td>0</td>\n",
       "      <td>0</td>\n",
       "      <td>1</td>\n",
       "      <td>0</td>\n",
       "      <td>0</td>\n",
       "      <td>1</td>\n",
       "    </tr>\n",
       "    <tr>\n",
       "      <th>3</th>\n",
       "      <td>91.7</td>\n",
       "      <td>33.3</td>\n",
       "      <td>77.5</td>\n",
       "      <td>9.0</td>\n",
       "      <td>8.3</td>\n",
       "      <td>97</td>\n",
       "      <td>4.0</td>\n",
       "      <td>0.2</td>\n",
       "      <td>0.0</td>\n",
       "      <td>1</td>\n",
       "      <td>...</td>\n",
       "      <td>0</td>\n",
       "      <td>0</td>\n",
       "      <td>0</td>\n",
       "      <td>1</td>\n",
       "      <td>0</td>\n",
       "      <td>0</td>\n",
       "      <td>0</td>\n",
       "      <td>0</td>\n",
       "      <td>0</td>\n",
       "      <td>1</td>\n",
       "    </tr>\n",
       "    <tr>\n",
       "      <th>4</th>\n",
       "      <td>89.3</td>\n",
       "      <td>51.3</td>\n",
       "      <td>102.2</td>\n",
       "      <td>9.6</td>\n",
       "      <td>11.4</td>\n",
       "      <td>99</td>\n",
       "      <td>1.8</td>\n",
       "      <td>0.0</td>\n",
       "      <td>0.0</td>\n",
       "      <td>0</td>\n",
       "      <td>...</td>\n",
       "      <td>0</td>\n",
       "      <td>0</td>\n",
       "      <td>0</td>\n",
       "      <td>1</td>\n",
       "      <td>0</td>\n",
       "      <td>0</td>\n",
       "      <td>0</td>\n",
       "      <td>0</td>\n",
       "      <td>0</td>\n",
       "      <td>1</td>\n",
       "    </tr>\n",
       "  </tbody>\n",
       "</table>\n",
       "<p>5 rows × 30 columns</p>\n",
       "</div>"
      ],
      "text/plain": [
       "   FFMC   DMC     DC  ISI  temp  RH  wind  rain  area  dayfri  ...  monthjan  \\\n",
       "0  86.2  26.2   94.3  5.1   8.2  51   6.7   0.0   0.0       1  ...         0   \n",
       "1  90.6  35.4  669.1  6.7  18.0  33   0.9   0.0   0.0       0  ...         0   \n",
       "2  90.6  43.7  686.9  6.7  14.6  33   1.3   0.0   0.0       0  ...         0   \n",
       "3  91.7  33.3   77.5  9.0   8.3  97   4.0   0.2   0.0       1  ...         0   \n",
       "4  89.3  51.3  102.2  9.6  11.4  99   1.8   0.0   0.0       0  ...         0   \n",
       "\n",
       "   monthjul  monthjun  monthmar  monthmay  monthnov  monthoct  monthsep  \\\n",
       "0         0         0         1         0         0         0         0   \n",
       "1         0         0         0         0         0         1         0   \n",
       "2         0         0         0         0         0         1         0   \n",
       "3         0         0         1         0         0         0         0   \n",
       "4         0         0         1         0         0         0         0   \n",
       "\n",
       "   size_category_large  size_category_small  \n",
       "0                    0                    1  \n",
       "1                    0                    1  \n",
       "2                    0                    1  \n",
       "3                    0                    1  \n",
       "4                    0                    1  \n",
       "\n",
       "[5 rows x 30 columns]"
      ]
     },
     "execution_count": 13,
     "metadata": {},
     "output_type": "execute_result"
    }
   ],
   "source": [
    "size_category_df = pd.get_dummies(forest_fires_df['size_category'], prefix='size_category')\n",
    "forest_fires_df = pd.concat([forest_fires_df, size_category_df], axis=1)\n",
    "forest_fires_df.drop(['size_category','month','day'], axis=1, inplace=True)\n",
    "forest_fires_df.head()"
   ]
  },
  {
   "cell_type": "markdown",
   "metadata": {},
   "source": [
    "#### **Split the dataset into features and target variable**"
   ]
  },
  {
   "cell_type": "code",
   "execution_count": 14,
   "metadata": {
    "execution": {
     "iopub.execute_input": "2023-04-25T06:14:08.469539Z",
     "iopub.status.busy": "2023-04-25T06:14:08.469191Z",
     "iopub.status.idle": "2023-04-25T06:14:08.476966Z",
     "shell.execute_reply": "2023-04-25T06:14:08.475709Z",
     "shell.execute_reply.started": "2023-04-25T06:14:08.469503Z"
    }
   },
   "outputs": [],
   "source": [
    "X = forest_fires_df.drop(['area'], axis=1).values\n",
    "y = forest_fires_df['area'].values\n"
   ]
  },
  {
   "cell_type": "markdown",
   "metadata": {},
   "source": [
    "#### **Split the data into training and testing sets**"
   ]
  },
  {
   "cell_type": "code",
   "execution_count": 15,
   "metadata": {
    "execution": {
     "iopub.execute_input": "2023-04-25T06:14:08.478653Z",
     "iopub.status.busy": "2023-04-25T06:14:08.478248Z",
     "iopub.status.idle": "2023-04-25T06:14:08.489645Z",
     "shell.execute_reply": "2023-04-25T06:14:08.488582Z",
     "shell.execute_reply.started": "2023-04-25T06:14:08.478616Z"
    }
   },
   "outputs": [],
   "source": [
    "X_train, X_test, y_train, y_test = train_test_split(X, y, test_size=0.2, random_state=42)"
   ]
  },
  {
   "cell_type": "markdown",
   "metadata": {},
   "source": [
    "#### **Convert the input and output arrays to float32 data type**"
   ]
  },
  {
   "cell_type": "code",
   "execution_count": 16,
   "metadata": {
    "execution": {
     "iopub.execute_input": "2023-04-25T06:14:08.491155Z",
     "iopub.status.busy": "2023-04-25T06:14:08.490843Z",
     "iopub.status.idle": "2023-04-25T06:14:08.500278Z",
     "shell.execute_reply": "2023-04-25T06:14:08.499215Z",
     "shell.execute_reply.started": "2023-04-25T06:14:08.491125Z"
    }
   },
   "outputs": [],
   "source": [
    "X_train = X_train.astype('float32')\n",
    "X_test = X_test.astype('float32')\n",
    "y_train = y_train.astype('float32')\n",
    "y_test = y_test.astype('float32')"
   ]
  },
  {
   "cell_type": "markdown",
   "metadata": {},
   "source": [
    "#### **Define the neural network architecture**"
   ]
  },
  {
   "cell_type": "code",
   "execution_count": 17,
   "metadata": {
    "execution": {
     "iopub.execute_input": "2023-04-25T06:14:08.501842Z",
     "iopub.status.busy": "2023-04-25T06:14:08.501510Z",
     "iopub.status.idle": "2023-04-25T06:14:08.551983Z",
     "shell.execute_reply": "2023-04-25T06:14:08.550642Z",
     "shell.execute_reply.started": "2023-04-25T06:14:08.501811Z"
    }
   },
   "outputs": [],
   "source": [
    "model = Sequential()\n",
    "model.add(Dense(64, input_dim=X_train.shape[1], activation='relu'))\n",
    "model.add(Dropout(0.2))\n",
    "model.add(Dense(32, activation='relu'))\n",
    "model.add(Dense(1, activation='linear'))"
   ]
  },
  {
   "cell_type": "markdown",
   "metadata": {},
   "source": [
    "#### **Compile the model**"
   ]
  },
  {
   "cell_type": "code",
   "execution_count": 18,
   "metadata": {
    "execution": {
     "iopub.execute_input": "2023-04-25T06:14:08.555694Z",
     "iopub.status.busy": "2023-04-25T06:14:08.555317Z",
     "iopub.status.idle": "2023-04-25T06:14:08.568786Z",
     "shell.execute_reply": "2023-04-25T06:14:08.567606Z",
     "shell.execute_reply.started": "2023-04-25T06:14:08.555657Z"
    }
   },
   "outputs": [],
   "source": [
    "model.compile(loss='mean_squared_error', optimizer='adam')"
   ]
  },
  {
   "cell_type": "markdown",
   "metadata": {},
   "source": [
    "#### **Train the model**"
   ]
  },
  {
   "cell_type": "code",
   "execution_count": 19,
   "metadata": {
    "execution": {
     "iopub.execute_input": "2023-04-25T06:14:08.570754Z",
     "iopub.status.busy": "2023-04-25T06:14:08.570222Z",
     "iopub.status.idle": "2023-04-25T06:14:19.568569Z",
     "shell.execute_reply": "2023-04-25T06:14:19.567115Z",
     "shell.execute_reply.started": "2023-04-25T06:14:08.570715Z"
    }
   },
   "outputs": [
    {
     "name": "stdout",
     "output_type": "stream",
     "text": [
      "Epoch 1/100\n",
      "26/26 [==============================] - 2s 5ms/step - loss: 3397.9070\n",
      "Epoch 2/100\n",
      "26/26 [==============================] - 0s 6ms/step - loss: 2907.3455\n",
      "Epoch 3/100\n",
      "26/26 [==============================] - 0s 4ms/step - loss: 2469.5811\n",
      "Epoch 4/100\n",
      "26/26 [==============================] - 0s 4ms/step - loss: 2298.5942\n",
      "Epoch 5/100\n",
      "26/26 [==============================] - 0s 4ms/step - loss: 2224.9907\n",
      "Epoch 6/100\n",
      "26/26 [==============================] - 0s 3ms/step - loss: 2366.3577\n",
      "Epoch 7/100\n",
      "26/26 [==============================] - 0s 4ms/step - loss: 2305.5554\n",
      "Epoch 8/100\n",
      "26/26 [==============================] - 0s 3ms/step - loss: 2177.3752\n",
      "Epoch 9/100\n",
      "26/26 [==============================] - 0s 6ms/step - loss: 2192.9399\n",
      "Epoch 10/100\n",
      "26/26 [==============================] - 0s 7ms/step - loss: 2230.3120\n",
      "Epoch 11/100\n",
      "26/26 [==============================] - 0s 13ms/step - loss: 2145.3950\n",
      "Epoch 12/100\n",
      "26/26 [==============================] - 0s 4ms/step - loss: 2096.6023\n",
      "Epoch 13/100\n",
      "26/26 [==============================] - 0s 3ms/step - loss: 2141.5559\n",
      "Epoch 14/100\n",
      "26/26 [==============================] - 0s 5ms/step - loss: 2171.1853\n",
      "Epoch 15/100\n",
      "26/26 [==============================] - 0s 5ms/step - loss: 2140.3076\n",
      "Epoch 16/100\n",
      "26/26 [==============================] - 0s 6ms/step - loss: 2191.2925\n",
      "Epoch 17/100\n",
      "26/26 [==============================] - 0s 6ms/step - loss: 2188.0264\n",
      "Epoch 18/100\n",
      "26/26 [==============================] - 0s 5ms/step - loss: 2126.6602\n",
      "Epoch 19/100\n",
      "26/26 [==============================] - 0s 5ms/step - loss: 2201.9211\n",
      "Epoch 20/100\n",
      "26/26 [==============================] - 0s 3ms/step - loss: 2138.3486\n",
      "Epoch 21/100\n",
      "26/26 [==============================] - 0s 5ms/step - loss: 2042.7944\n",
      "Epoch 22/100\n",
      "26/26 [==============================] - 0s 4ms/step - loss: 2206.3113\n",
      "Epoch 23/100\n",
      "26/26 [==============================] - 0s 14ms/step - loss: 2036.0288\n",
      "Epoch 24/100\n",
      "26/26 [==============================] - 0s 4ms/step - loss: 2160.6099\n",
      "Epoch 25/100\n",
      "26/26 [==============================] - 0s 4ms/step - loss: 2068.3921\n",
      "Epoch 26/100\n",
      "26/26 [==============================] - 0s 5ms/step - loss: 2140.8845\n",
      "Epoch 27/100\n",
      "26/26 [==============================] - 0s 3ms/step - loss: 2067.0598\n",
      "Epoch 28/100\n",
      "26/26 [==============================] - 0s 4ms/step - loss: 2113.2427\n",
      "Epoch 29/100\n",
      "26/26 [==============================] - 0s 3ms/step - loss: 2053.2458\n",
      "Epoch 30/100\n",
      "26/26 [==============================] - 0s 4ms/step - loss: 2140.9465\n",
      "Epoch 31/100\n",
      "26/26 [==============================] - 0s 5ms/step - loss: 2112.8716\n",
      "Epoch 32/100\n",
      "26/26 [==============================] - 0s 10ms/step - loss: 2049.7649\n",
      "Epoch 33/100\n",
      "26/26 [==============================] - 0s 7ms/step - loss: 2102.5022\n",
      "Epoch 34/100\n",
      "26/26 [==============================] - 0s 8ms/step - loss: 2147.9172\n",
      "Epoch 35/100\n",
      "26/26 [==============================] - 0s 5ms/step - loss: 2106.7175\n",
      "Epoch 36/100\n",
      "26/26 [==============================] - 0s 10ms/step - loss: 2083.2805\n",
      "Epoch 37/100\n",
      "26/26 [==============================] - 0s 5ms/step - loss: 2062.4084\n",
      "Epoch 38/100\n",
      "26/26 [==============================] - 0s 7ms/step - loss: 2081.4329\n",
      "Epoch 39/100\n",
      "26/26 [==============================] - 0s 8ms/step - loss: 2025.8748\n",
      "Epoch 40/100\n",
      "26/26 [==============================] - 0s 4ms/step - loss: 2089.7502\n",
      "Epoch 41/100\n",
      "26/26 [==============================] - 0s 5ms/step - loss: 2068.7666\n",
      "Epoch 42/100\n",
      "26/26 [==============================] - 0s 5ms/step - loss: 2120.5103\n",
      "Epoch 43/100\n",
      "26/26 [==============================] - 0s 10ms/step - loss: 2015.7833\n",
      "Epoch 44/100\n",
      "26/26 [==============================] - 0s 5ms/step - loss: 2095.9695\n",
      "Epoch 45/100\n",
      "26/26 [==============================] - 0s 8ms/step - loss: 2101.1689\n",
      "Epoch 46/100\n",
      "26/26 [==============================] - 0s 5ms/step - loss: 2041.0984\n",
      "Epoch 47/100\n",
      "26/26 [==============================] - 0s 4ms/step - loss: 2101.6960\n",
      "Epoch 48/100\n",
      "26/26 [==============================] - 0s 4ms/step - loss: 2068.1902\n",
      "Epoch 49/100\n",
      "26/26 [==============================] - 0s 14ms/step - loss: 2098.5068\n",
      "Epoch 50/100\n",
      "26/26 [==============================] - 0s 5ms/step - loss: 2044.0156\n",
      "Epoch 51/100\n",
      "26/26 [==============================] - 0s 4ms/step - loss: 2140.3821\n",
      "Epoch 52/100\n",
      "26/26 [==============================] - 0s 5ms/step - loss: 2105.8354\n",
      "Epoch 53/100\n",
      "26/26 [==============================] - 0s 8ms/step - loss: 2095.7886\n",
      "Epoch 54/100\n",
      "26/26 [==============================] - 0s 4ms/step - loss: 2089.4041\n",
      "Epoch 55/100\n",
      "26/26 [==============================] - 0s 4ms/step - loss: 2149.4268\n",
      "Epoch 56/100\n",
      "26/26 [==============================] - 0s 4ms/step - loss: 2091.8242\n",
      "Epoch 57/100\n",
      "26/26 [==============================] - 0s 4ms/step - loss: 2062.0869\n",
      "Epoch 58/100\n",
      "26/26 [==============================] - 0s 3ms/step - loss: 2005.6218\n",
      "Epoch 59/100\n",
      "26/26 [==============================] - 0s 4ms/step - loss: 2100.1912\n",
      "Epoch 60/100\n",
      "26/26 [==============================] - 0s 3ms/step - loss: 2049.0959\n",
      "Epoch 61/100\n",
      "26/26 [==============================] - 0s 4ms/step - loss: 2019.9774\n",
      "Epoch 62/100\n",
      "26/26 [==============================] - 0s 3ms/step - loss: 2042.1742\n",
      "Epoch 63/100\n",
      "26/26 [==============================] - 0s 4ms/step - loss: 2031.2533\n",
      "Epoch 64/100\n",
      "26/26 [==============================] - 0s 4ms/step - loss: 2022.4222\n",
      "Epoch 65/100\n",
      "26/26 [==============================] - 0s 4ms/step - loss: 2075.2471\n",
      "Epoch 66/100\n",
      "26/26 [==============================] - 0s 4ms/step - loss: 2046.0347\n",
      "Epoch 67/100\n",
      "26/26 [==============================] - 0s 10ms/step - loss: 2059.5088\n",
      "Epoch 68/100\n",
      "26/26 [==============================] - 0s 8ms/step - loss: 2050.3418\n",
      "Epoch 69/100\n",
      "26/26 [==============================] - 0s 4ms/step - loss: 1989.5468\n",
      "Epoch 70/100\n",
      "26/26 [==============================] - 0s 4ms/step - loss: 1984.5074\n",
      "Epoch 71/100\n",
      "26/26 [==============================] - 0s 4ms/step - loss: 2037.5076\n",
      "Epoch 72/100\n",
      "26/26 [==============================] - 0s 4ms/step - loss: 2004.5563\n",
      "Epoch 73/100\n",
      "26/26 [==============================] - 0s 5ms/step - loss: 2057.7197\n",
      "Epoch 74/100\n",
      "26/26 [==============================] - 0s 5ms/step - loss: 2036.1510\n",
      "Epoch 75/100\n",
      "26/26 [==============================] - 0s 4ms/step - loss: 2004.7067\n",
      "Epoch 76/100\n",
      "26/26 [==============================] - 0s 4ms/step - loss: 2003.4020\n",
      "Epoch 77/100\n",
      "26/26 [==============================] - 0s 4ms/step - loss: 1993.1694\n",
      "Epoch 78/100\n",
      "26/26 [==============================] - 0s 4ms/step - loss: 1970.8291\n",
      "Epoch 79/100\n",
      "26/26 [==============================] - 0s 4ms/step - loss: 2040.5018\n",
      "Epoch 80/100\n",
      "26/26 [==============================] - 0s 4ms/step - loss: 2022.3209\n",
      "Epoch 81/100\n",
      "26/26 [==============================] - 0s 5ms/step - loss: 2056.1602\n",
      "Epoch 82/100\n",
      "26/26 [==============================] - 0s 5ms/step - loss: 2003.8035\n",
      "Epoch 83/100\n",
      "26/26 [==============================] - 0s 4ms/step - loss: 2060.9568\n",
      "Epoch 84/100\n",
      "26/26 [==============================] - 0s 4ms/step - loss: 2040.7792\n",
      "Epoch 85/100\n",
      "26/26 [==============================] - 0s 4ms/step - loss: 2028.7362\n",
      "Epoch 86/100\n",
      "26/26 [==============================] - 0s 5ms/step - loss: 2002.4532\n",
      "Epoch 87/100\n",
      "26/26 [==============================] - 0s 4ms/step - loss: 1988.1840\n",
      "Epoch 88/100\n",
      "26/26 [==============================] - 0s 4ms/step - loss: 1988.1798\n",
      "Epoch 89/100\n",
      "26/26 [==============================] - 0s 5ms/step - loss: 2096.3591\n",
      "Epoch 90/100\n",
      "26/26 [==============================] - 0s 5ms/step - loss: 2012.9926\n",
      "Epoch 91/100\n",
      "26/26 [==============================] - 0s 4ms/step - loss: 1997.8435\n",
      "Epoch 92/100\n",
      "26/26 [==============================] - 0s 3ms/step - loss: 2001.0454\n",
      "Epoch 93/100\n",
      "26/26 [==============================] - 0s 3ms/step - loss: 2007.8308\n",
      "Epoch 94/100\n",
      "26/26 [==============================] - 0s 4ms/step - loss: 2006.3582\n",
      "Epoch 95/100\n",
      "26/26 [==============================] - 0s 5ms/step - loss: 1999.0596\n",
      "Epoch 96/100\n",
      "26/26 [==============================] - 0s 6ms/step - loss: 2046.0728\n",
      "Epoch 97/100\n",
      "26/26 [==============================] - 0s 5ms/step - loss: 2011.0406\n",
      "Epoch 98/100\n"
     ]
    },
    {
     "name": "stdout",
     "output_type": "stream",
     "text": [
      "26/26 [==============================] - 0s 6ms/step - loss: 1983.8527\n",
      "Epoch 99/100\n",
      "26/26 [==============================] - 0s 4ms/step - loss: 1971.8950\n",
      "Epoch 100/100\n",
      "26/26 [==============================] - 0s 5ms/step - loss: 1992.5908\n"
     ]
    },
    {
     "data": {
      "text/plain": [
       "<keras.src.callbacks.History at 0x163c88d1460>"
      ]
     },
     "execution_count": 19,
     "metadata": {},
     "output_type": "execute_result"
    }
   ],
   "source": [
    "model.fit(X_train, y_train, epochs=100, batch_size=16, verbose=1)"
   ]
  },
  {
   "cell_type": "markdown",
   "metadata": {},
   "source": [
    "#### **Evaluate the model on the testing set**"
   ]
  },
  {
   "cell_type": "code",
   "execution_count": 20,
   "metadata": {
    "execution": {
     "iopub.execute_input": "2023-04-25T06:14:19.570681Z",
     "iopub.status.busy": "2023-04-25T06:14:19.570192Z",
     "iopub.status.idle": "2023-04-25T06:14:19.743076Z",
     "shell.execute_reply": "2023-04-25T06:14:19.741843Z",
     "shell.execute_reply.started": "2023-04-25T06:14:19.570638Z"
    }
   },
   "outputs": [
    {
     "name": "stdout",
     "output_type": "stream",
     "text": [
      "4/4 [==============================] - 0s 5ms/step - loss: 11892.7666\n",
      "Mean Squared Error: 11892.7666015625\n"
     ]
    }
   ],
   "source": [
    "loss = model.evaluate(X_test, y_test)\n",
    "print('Mean Squared Error:', loss)"
   ]
  },
  {
   "cell_type": "code",
   "execution_count": null,
   "metadata": {},
   "outputs": [],
   "source": []
  }
 ],
 "metadata": {
  "kernelspec": {
   "display_name": "Python 3 (ipykernel)",
   "language": "python",
   "name": "python3"
  },
  "language_info": {
   "codemirror_mode": {
    "name": "ipython",
    "version": 3
   },
   "file_extension": ".py",
   "mimetype": "text/x-python",
   "name": "python",
   "nbconvert_exporter": "python",
   "pygments_lexer": "ipython3",
   "version": "3.9.13"
  }
 },
 "nbformat": 4,
 "nbformat_minor": 4
}
